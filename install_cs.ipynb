{
 "cells": [
  {
   "cell_type": "code",
   "execution_count": 1,
   "id": "ed8b5641",
   "metadata": {},
   "outputs": [],
   "source": [
    "from e2b_desktop import Sandbox\n",
    "import os\n",
    "\n",
    "E2B_API_KEY = os.environ.get(\"E2B_API_KEY\")"
   ]
  },
  {
   "cell_type": "code",
   "execution_count": 2,
   "id": "929927de",
   "metadata": {},
   "outputs": [
    {
     "name": "stdout",
     "output_type": "stream",
     "text": [
      "https://6080-ix2vk2b63k95xt40nl1m0-814968e9.e2b.app/vnc.html?autoconnect=true&resize=scale\n"
     ]
    }
   ],
   "source": [
    "# With custom configuration\n",
    "desktop = Sandbox(\n",
    "    display=\":0\",  # Custom display (defaults to :0)\n",
    "    resolution=(1920, 1080),  # Custom resolution\n",
    "    dpi=20,\n",
    "    timeout = 3600) \n",
    "\n",
    "desktop.stream.start()\n",
    "\n",
    "# Get stream URL\n",
    "url = desktop.stream.get_url()\n",
    "print(url)"
   ]
  },
  {
   "cell_type": "code",
   "execution_count": 15,
   "id": "391e2ef0",
   "metadata": {},
   "outputs": [
    {
     "name": "stdout",
     "output_type": "stream",
     "text": [
      "https://6080-ix2vk2b63k95xt40nl1m0-814968e9.e2b.app/vnc.html?autoconnect=true&view_only=true&resize=scale\n"
     ]
    }
   ],
   "source": [
    "# Get stream URL and disable user interaction\n",
    "url = desktop.stream.get_url(view_only=True)\n",
    "print(url)"
   ]
  },
  {
   "cell_type": "code",
   "execution_count": null,
   "id": "4cac26d1",
   "metadata": {},
   "outputs": [],
   "source": [
    "# desktop.kill()"
   ]
  },
  {
   "cell_type": "code",
   "execution_count": null,
   "id": "52e9be59",
   "metadata": {},
   "outputs": [
    {
     "data": {
      "text/plain": [
       "True"
      ]
     },
     "execution_count": 5,
     "metadata": {},
     "output_type": "execute_result"
    }
   ],
   "source": [
    "\"sudo dpkg --add-architecture i386\"\n",
    "\"sudo apt update\"\n",
    "\"sudo apt install wine32\""
   ]
  },
  {
   "cell_type": "code",
   "execution_count": 3,
   "id": "16e8365f",
   "metadata": {},
   "outputs": [
    {
     "name": "stdout",
     "output_type": "stream",
     "text": [
      "CommandResult(stderr='', stdout='', exit_code=0, error='')\n"
     ]
    }
   ],
   "source": [
    "out = desktop.commands.run(\"sudo dpkg --add-architecture i386\")\n",
    "print(out)"
   ]
  },
  {
   "cell_type": "code",
   "execution_count": 7,
   "id": "87ae8722",
   "metadata": {},
   "outputs": [
    {
     "name": "stdout",
     "output_type": "stream",
     "text": [
      "<e2b.sandbox_sync.commands.command_handle.CommandHandle object at 0x0000020C7C2997F0>\n"
     ]
    }
   ],
   "source": [
    "out = desktop.commands.run(\"sudo apt update\", background=True)\n",
    "print(out)"
   ]
  },
  {
   "cell_type": "code",
   "execution_count": null,
   "id": "6b51a50f",
   "metadata": {},
   "outputs": [
    {
     "ename": "TimeoutException",
     "evalue": "context deadline exceeded: This error is likely due to exceeding 'timeoutMs' — the total time a long running request (like process or directory watch) can be active. It can be modified by passing 'timeoutMs' when making the request. Use '0' to disable the timeout.",
     "output_type": "error",
     "traceback": [
      "\u001b[31m---------------------------------------------------------------------------\u001b[39m",
      "\u001b[31mConnectException\u001b[39m                          Traceback (most recent call last)",
      "\u001b[36mFile \u001b[39m\u001b[32mc:\\Users\\richa\\miniconda3\\envs\\e2b\\Lib\\site-packages\\e2b\\sandbox_sync\\commands\\command_handle.py:66\u001b[39m, in \u001b[36mCommandHandle._handle_events\u001b[39m\u001b[34m(self)\u001b[39m\n\u001b[32m     65\u001b[39m \u001b[38;5;28;01mtry\u001b[39;00m:\n\u001b[32m---> \u001b[39m\u001b[32m66\u001b[39m \u001b[43m    \u001b[49m\u001b[38;5;28;43;01mfor\u001b[39;49;00m\u001b[43m \u001b[49m\u001b[43mevent\u001b[49m\u001b[43m \u001b[49m\u001b[38;5;129;43;01min\u001b[39;49;00m\u001b[43m \u001b[49m\u001b[38;5;28;43mself\u001b[39;49m\u001b[43m.\u001b[49m\u001b[43m_events\u001b[49m\u001b[43m:\u001b[49m\n\u001b[32m     67\u001b[39m \u001b[43m        \u001b[49m\u001b[38;5;28;43;01mif\u001b[39;49;00m\u001b[43m \u001b[49m\u001b[43mevent\u001b[49m\u001b[43m.\u001b[49m\u001b[43mevent\u001b[49m\u001b[43m.\u001b[49m\u001b[43mHasField\u001b[49m\u001b[43m(\u001b[49m\u001b[33;43m\"\u001b[39;49m\u001b[33;43mdata\u001b[39;49m\u001b[33;43m\"\u001b[39;49m\u001b[43m)\u001b[49m\u001b[43m:\u001b[49m\n",
      "\u001b[36mFile \u001b[39m\u001b[32mc:\\Users\\richa\\miniconda3\\envs\\e2b\\Lib\\site-packages\\e2b_connect\\client.py:396\u001b[39m, in \u001b[36mClient.call_server_stream\u001b[39m\u001b[34m(self, req, request_timeout, timeout, headers, **opts)\u001b[39m\n\u001b[32m    395\u001b[39m \u001b[38;5;28;01mfor\u001b[39;00m chunk \u001b[38;5;129;01min\u001b[39;00m http_resp.iter_stream():\n\u001b[32m--> \u001b[39m\u001b[32m396\u001b[39m     \u001b[38;5;28;01myield from\u001b[39;00m parser.parse(chunk)\n\u001b[32m    398\u001b[39m \u001b[38;5;28;01mreturn\u001b[39;00m\n",
      "\u001b[36mFile \u001b[39m\u001b[32mc:\\Users\\richa\\miniconda3\\envs\\e2b\\Lib\\site-packages\\e2b_connect\\client.py:468\u001b[39m, in \u001b[36mServerStreamParser.parse\u001b[39m\u001b[34m(self, chunk)\u001b[39m\n\u001b[32m    467\u001b[39m \u001b[38;5;28;01mif\u001b[39;00m \u001b[33m\"\u001b[39m\u001b[33merror\u001b[39m\u001b[33m\"\u001b[39m \u001b[38;5;129;01min\u001b[39;00m data:\n\u001b[32m--> \u001b[39m\u001b[32m468\u001b[39m     \u001b[38;5;28;01mraise\u001b[39;00m make_error(data[\u001b[33m\"\u001b[39m\u001b[33merror\u001b[39m\u001b[33m\"\u001b[39m])\n\u001b[32m    470\u001b[39m \u001b[38;5;28;01mreturn\u001b[39;00m\n",
      "\u001b[31mConnectException\u001b[39m: (<Code.deadline_exceeded: 'deadline_exceeded'>, 'context deadline exceeded')",
      "\nDuring handling of the above exception, another exception occurred:\n",
      "\u001b[31mTimeoutException\u001b[39m                          Traceback (most recent call last)",
      "\u001b[36mCell\u001b[39m\u001b[36m \u001b[39m\u001b[32mIn[5]\u001b[39m\u001b[32m, line 1\u001b[39m\n\u001b[32m----> \u001b[39m\u001b[32m1\u001b[39m out = \u001b[43mdesktop\u001b[49m\u001b[43m.\u001b[49m\u001b[43mcommands\u001b[49m\u001b[43m.\u001b[49m\u001b[43mrun\u001b[49m\u001b[43m(\u001b[49m\u001b[33;43m\"\u001b[39;49m\u001b[33;43msudo apt install wine32\u001b[39;49m\u001b[33;43m\"\u001b[39;49m\u001b[43m)\u001b[49m\n\u001b[32m      2\u001b[39m \u001b[38;5;28mprint\u001b[39m(out)\n",
      "\u001b[36mFile \u001b[39m\u001b[32mc:\\Users\\richa\\miniconda3\\envs\\e2b\\Lib\\site-packages\\e2b\\sandbox_sync\\commands\\command.py:212\u001b[39m, in \u001b[36mCommands.run\u001b[39m\u001b[34m(self, cmd, background, envs, user, cwd, on_stdout, on_stderr, timeout, request_timeout)\u001b[39m\n\u001b[32m    188\u001b[39m \u001b[38;5;28;01mdef\u001b[39;00m\u001b[38;5;250m \u001b[39m\u001b[34mrun\u001b[39m(\n\u001b[32m    189\u001b[39m     \u001b[38;5;28mself\u001b[39m,\n\u001b[32m    190\u001b[39m     cmd: \u001b[38;5;28mstr\u001b[39m,\n\u001b[32m   (...)\u001b[39m\u001b[32m    198\u001b[39m     request_timeout: Optional[\u001b[38;5;28mfloat\u001b[39m] = \u001b[38;5;28;01mNone\u001b[39;00m,\n\u001b[32m    199\u001b[39m ):\n\u001b[32m    200\u001b[39m     proc = \u001b[38;5;28mself\u001b[39m._start(\n\u001b[32m    201\u001b[39m         cmd,\n\u001b[32m    202\u001b[39m         envs,\n\u001b[32m   (...)\u001b[39m\u001b[32m    206\u001b[39m         request_timeout,\n\u001b[32m    207\u001b[39m     )\n\u001b[32m    209\u001b[39m     \u001b[38;5;28;01mreturn\u001b[39;00m (\n\u001b[32m    210\u001b[39m         proc\n\u001b[32m    211\u001b[39m         \u001b[38;5;28;01mif\u001b[39;00m background\n\u001b[32m--> \u001b[39m\u001b[32m212\u001b[39m         \u001b[38;5;28;01melse\u001b[39;00m \u001b[43mproc\u001b[49m\u001b[43m.\u001b[49m\u001b[43mwait\u001b[49m\u001b[43m(\u001b[49m\n\u001b[32m    213\u001b[39m \u001b[43m            \u001b[49m\u001b[43mon_stdout\u001b[49m\u001b[43m=\u001b[49m\u001b[43mon_stdout\u001b[49m\u001b[43m,\u001b[49m\n\u001b[32m    214\u001b[39m \u001b[43m            \u001b[49m\u001b[43mon_stderr\u001b[49m\u001b[43m=\u001b[49m\u001b[43mon_stderr\u001b[49m\u001b[43m,\u001b[49m\n\u001b[32m    215\u001b[39m \u001b[43m        \u001b[49m\u001b[43m)\u001b[49m\n\u001b[32m    216\u001b[39m     )\n",
      "\u001b[36mFile \u001b[39m\u001b[32mc:\\Users\\richa\\miniconda3\\envs\\e2b\\Lib\\site-packages\\e2b\\sandbox_sync\\commands\\command_handle.py:127\u001b[39m, in \u001b[36mCommandHandle.wait\u001b[39m\u001b[34m(self, on_pty, on_stdout, on_stderr)\u001b[39m\n\u001b[32m    124\u001b[39m     \u001b[38;5;28mself\u001b[39m._iteration_exception = handle_rpc_exception(e)\n\u001b[32m    126\u001b[39m \u001b[38;5;28;01mif\u001b[39;00m \u001b[38;5;28mself\u001b[39m._iteration_exception:\n\u001b[32m--> \u001b[39m\u001b[32m127\u001b[39m     \u001b[38;5;28;01mraise\u001b[39;00m \u001b[38;5;28mself\u001b[39m._iteration_exception\n\u001b[32m    129\u001b[39m \u001b[38;5;28;01mif\u001b[39;00m \u001b[38;5;28mself\u001b[39m._result \u001b[38;5;129;01mis\u001b[39;00m \u001b[38;5;28;01mNone\u001b[39;00m:\n\u001b[32m    130\u001b[39m     \u001b[38;5;28;01mraise\u001b[39;00m \u001b[38;5;167;01mException\u001b[39;00m(\u001b[33m\"\u001b[39m\u001b[33mCommand ended without an end event\u001b[39m\u001b[33m\"\u001b[39m)\n",
      "\u001b[36mFile \u001b[39m\u001b[32mc:\\Users\\richa\\miniconda3\\envs\\e2b\\Lib\\site-packages\\e2b\\sandbox_sync\\commands\\command_handle.py:114\u001b[39m, in \u001b[36mCommandHandle.wait\u001b[39m\u001b[34m(self, on_pty, on_stdout, on_stderr)\u001b[39m\n\u001b[32m    103\u001b[39m \u001b[38;5;250m\u001b[39m\u001b[33;03m\"\"\"\u001b[39;00m\n\u001b[32m    104\u001b[39m \u001b[33;03mWait for the command to finish and returns the result.\u001b[39;00m\n\u001b[32m    105\u001b[39m \u001b[33;03mIf the command exits with a non-zero exit code, it throws a `CommandExitException`.\u001b[39;00m\n\u001b[32m   (...)\u001b[39m\u001b[32m    111\u001b[39m \u001b[33;03m:return: `CommandResult` result of command execution\u001b[39;00m\n\u001b[32m    112\u001b[39m \u001b[33;03m\"\"\"\u001b[39;00m\n\u001b[32m    113\u001b[39m \u001b[38;5;28;01mtry\u001b[39;00m:\n\u001b[32m--> \u001b[39m\u001b[32m114\u001b[39m \u001b[43m    \u001b[49m\u001b[38;5;28;43;01mfor\u001b[39;49;00m\u001b[43m \u001b[49m\u001b[43mstdout\u001b[49m\u001b[43m,\u001b[49m\u001b[43m \u001b[49m\u001b[43mstderr\u001b[49m\u001b[43m,\u001b[49m\u001b[43m \u001b[49m\u001b[43mpty\u001b[49m\u001b[43m \u001b[49m\u001b[38;5;129;43;01min\u001b[39;49;00m\u001b[43m \u001b[49m\u001b[38;5;28;43mself\u001b[39;49m\u001b[43m:\u001b[49m\n\u001b[32m    115\u001b[39m \u001b[43m        \u001b[49m\u001b[38;5;28;43;01mif\u001b[39;49;00m\u001b[43m \u001b[49m\u001b[43mstdout\u001b[49m\u001b[43m \u001b[49m\u001b[38;5;129;43;01mis\u001b[39;49;00m\u001b[43m \u001b[49m\u001b[38;5;129;43;01mnot\u001b[39;49;00m\u001b[43m \u001b[49m\u001b[38;5;28;43;01mNone\u001b[39;49;00m\u001b[43m \u001b[49m\u001b[38;5;129;43;01mand\u001b[39;49;00m\u001b[43m \u001b[49m\u001b[43mon_stdout\u001b[49m\u001b[43m:\u001b[49m\n\u001b[32m    116\u001b[39m \u001b[43m            \u001b[49m\u001b[43mon_stdout\u001b[49m\u001b[43m(\u001b[49m\u001b[43mstdout\u001b[49m\u001b[43m)\u001b[49m\n",
      "\u001b[36mFile \u001b[39m\u001b[32mc:\\Users\\richa\\miniconda3\\envs\\e2b\\Lib\\site-packages\\e2b\\sandbox_sync\\commands\\command_handle.py:86\u001b[39m, in \u001b[36mCommandHandle._handle_events\u001b[39m\u001b[34m(self)\u001b[39m\n\u001b[32m     79\u001b[39m             \u001b[38;5;28mself\u001b[39m._result = CommandResult(\n\u001b[32m     80\u001b[39m                 stdout=\u001b[38;5;28mself\u001b[39m._stdout,\n\u001b[32m     81\u001b[39m                 stderr=\u001b[38;5;28mself\u001b[39m._stderr,\n\u001b[32m     82\u001b[39m                 exit_code=event.event.end.exit_code,\n\u001b[32m     83\u001b[39m                 error=event.event.end.error,\n\u001b[32m     84\u001b[39m             )\n\u001b[32m     85\u001b[39m \u001b[38;5;28;01mexcept\u001b[39;00m \u001b[38;5;167;01mException\u001b[39;00m \u001b[38;5;28;01mas\u001b[39;00m e:\n\u001b[32m---> \u001b[39m\u001b[32m86\u001b[39m     \u001b[38;5;28;01mraise\u001b[39;00m handle_rpc_exception(e)\n",
      "\u001b[31mTimeoutException\u001b[39m: context deadline exceeded: This error is likely due to exceeding 'timeoutMs' — the total time a long running request (like process or directory watch) can be active. It can be modified by passing 'timeoutMs' when making the request. Use '0' to disable the timeout."
     ]
    }
   ],
   "source": [
    "out = desktop.commands.run(\"sudo apt install wine32\")\n",
    "print(out)\n",
    "\n",
    "# we also need to somehow send \"yes\" to confirm the download"
   ]
  },
  {
   "cell_type": "code",
   "execution_count": null,
   "id": "e3e672f7",
   "metadata": {},
   "outputs": [],
   "source": [
    "## install cs go from cybersport it"
   ]
  },
  {
   "cell_type": "code",
   "execution_count": null,
   "id": "7e166a40",
   "metadata": {},
   "outputs": [],
   "source": [
    "### do the cs installation\n",
    "out = desktop.commands.run(\"wine csgo.exe\")\n",
    "print(out)"
   ]
  },
  {
   "cell_type": "code",
   "execution_count": null,
   "id": "62e5331d",
   "metadata": {},
   "outputs": [],
   "source": [
    "# download fonts from w7df.com/p/windows-7.html\n",
    "\n",
    "# unzip fonts \n",
    "\n",
    "# cd to fonts folder (something starting with Window )\n",
    "# mv * ~/.wine/drive_c/windows/Fonts/"
   ]
  },
  {
   "cell_type": "code",
   "execution_count": 33,
   "id": "cedf7dd3",
   "metadata": {},
   "outputs": [],
   "source": [
    "desktop.move_mouse(1900, 800)"
   ]
  },
  {
   "cell_type": "code",
   "execution_count": null,
   "id": "1053aa6d",
   "metadata": {},
   "outputs": [],
   "source": [
    "desktop.move_mouse(960, 540) # stred obrazovky"
   ]
  },
  {
   "cell_type": "code",
   "execution_count": 105,
   "id": "1da59b6f",
   "metadata": {},
   "outputs": [],
   "source": [
    "desktop.move_mouse(0, 540) "
   ]
  },
  {
   "cell_type": "code",
   "execution_count": 104,
   "id": "dc4f9c74",
   "metadata": {},
   "outputs": [],
   "source": [
    "for i in range(10):\n",
    "    desktop.move_mouse(800, 540) "
   ]
  },
  {
   "cell_type": "code",
   "execution_count": 116,
   "id": "302327ce",
   "metadata": {},
   "outputs": [],
   "source": [
    "desktop.left_click()"
   ]
  },
  {
   "cell_type": "code",
   "execution_count": 22,
   "id": "0c67ac7b",
   "metadata": {},
   "outputs": [],
   "source": [
    "desktop.drag(fr=(100, 100), to=(200, 200))"
   ]
  },
  {
   "cell_type": "code",
   "execution_count": 121,
   "id": "8711f173",
   "metadata": {},
   "outputs": [],
   "source": [
    "desktop.left_click()"
   ]
  },
  {
   "cell_type": "code",
   "execution_count": 53,
   "id": "e80eb044",
   "metadata": {},
   "outputs": [],
   "source": [
    "for i in range(10):\n",
    "    desktop.press(\"W\")"
   ]
  },
  {
   "cell_type": "code",
   "execution_count": 124,
   "id": "6611e248",
   "metadata": {},
   "outputs": [],
   "source": [
    "desktop.press(\"B\")"
   ]
  },
  {
   "cell_type": "code",
   "execution_count": 125,
   "id": "e93bc458",
   "metadata": {},
   "outputs": [],
   "source": [
    "desktop.press(\"2\")"
   ]
  },
  {
   "cell_type": "code",
   "execution_count": 126,
   "id": "6b2b4cb3",
   "metadata": {},
   "outputs": [],
   "source": [
    "desktop.press(\"0\")"
   ]
  },
  {
   "cell_type": "code",
   "execution_count": 117,
   "id": "b1de2303",
   "metadata": {},
   "outputs": [],
   "source": [
    "# Take a screenshot and save it as \"screenshot.png\" locally\n",
    "image = desktop.screenshot()\n",
    "# Save the image to a file\n",
    "with open(\"screenshot.png\", \"wb\") as f:\n",
    "    f.write(image)"
   ]
  }
 ],
 "metadata": {
  "kernelspec": {
   "display_name": "e2b",
   "language": "python",
   "name": "python3"
  },
  "language_info": {
   "codemirror_mode": {
    "name": "ipython",
    "version": 3
   },
   "file_extension": ".py",
   "mimetype": "text/x-python",
   "name": "python",
   "nbconvert_exporter": "python",
   "pygments_lexer": "ipython3",
   "version": "3.12.9"
  }
 },
 "nbformat": 4,
 "nbformat_minor": 5
}

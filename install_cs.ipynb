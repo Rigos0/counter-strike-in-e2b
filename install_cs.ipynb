{
 "cells": [
  {
   "cell_type": "code",
   "execution_count": 1,
   "id": "ed8b5641",
   "metadata": {},
   "outputs": [],
   "source": [
    "from e2b_desktop import Sandbox\n",
    "import os\n",
    "\n",
    "E2B_API_KEY = os.environ.get(\"E2B_API_KEY\")"
   ]
  },
  {
   "cell_type": "code",
   "execution_count": null,
   "id": "68e3421c",
   "metadata": {},
   "outputs": [
    {
     "name": "stdout",
     "output_type": "stream",
     "text": [
      "https://6080-igfv2sh48sg0n09hzwetm-2266d380.e2b.app/vnc.html?autoconnect=true&resize=scale\n"
     ]
    }
   ],
   "source": [
    "desktop = Sandbox()\n",
    "\n",
    "# Start the stream\n",
    "desktop.stream.start()\n",
    "\n",
    "# Get stream URL\n",
    "url = desktop.stream.get_url()\n",
    "print(url)\n",
    "\n",
    "# Stop the stream\n",
    "desktop.kill()"
   ]
  },
  {
   "cell_type": "code",
   "execution_count": 7,
   "id": "929927de",
   "metadata": {},
   "outputs": [
    {
     "name": "stdout",
     "output_type": "stream",
     "text": [
      "https://6080-ihhx5m61pko0ftofrgx6r-0ce36864.e2b.app/vnc.html?autoconnect=true&resize=scale\n"
     ]
    }
   ],
   "source": [
    "# With custom configuration\n",
    "desktop = Sandbox(\n",
    "    display=\":0\",  # Custom display (defaults to :0)\n",
    "    resolution=(1920, 1080),  # Custom resolution\n",
    "    dpi=20,\n",
    "    timeout = 3600) \n",
    "\n",
    "desktop.stream.start()\n",
    "\n",
    "# Get stream URL\n",
    "url = desktop.stream.get_url()\n",
    "print(url)"
   ]
  },
  {
   "cell_type": "code",
   "execution_count": 8,
   "id": "4cac26d1",
   "metadata": {},
   "outputs": [],
   "source": [
    "desktop.kill()"
   ]
  },
  {
   "cell_type": "code",
   "execution_count": 5,
   "id": "52e9be59",
   "metadata": {},
   "outputs": [
    {
     "data": {
      "text/plain": [
       "True"
      ]
     },
     "execution_count": 5,
     "metadata": {},
     "output_type": "execute_result"
    }
   ],
   "source": [
    "Sandbox.kill(\"iawosz4egbsg4ux5jhri8\")"
   ]
  }
 ],
 "metadata": {
  "kernelspec": {
   "display_name": "e2b",
   "language": "python",
   "name": "python3"
  },
  "language_info": {
   "codemirror_mode": {
    "name": "ipython",
    "version": 3
   },
   "file_extension": ".py",
   "mimetype": "text/x-python",
   "name": "python",
   "nbconvert_exporter": "python",
   "pygments_lexer": "ipython3",
   "version": "3.12.9"
  }
 },
 "nbformat": 4,
 "nbformat_minor": 5
}

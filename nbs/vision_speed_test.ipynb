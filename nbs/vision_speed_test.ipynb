{
 "cells": [
  {
   "cell_type": "code",
   "execution_count": 1,
   "id": "248b65e5",
   "metadata": {},
   "outputs": [],
   "source": [
    "import sys\n",
    "import os\n",
    "\n",
    "from dotenv import load_dotenv\n",
    "\n",
    "load_dotenv()\n",
    "\n",
    "# Add the parent directory (project root) to sys.path\n",
    "sys.path.append(os.path.abspath('..'))\n"
   ]
  },
  {
   "cell_type": "code",
   "execution_count": 2,
   "id": "4aeda44c",
   "metadata": {},
   "outputs": [],
   "source": [
    "# automatically load changes from the sandbox_steps module\n",
    "%load_ext autoreload\n",
    "%autoreload 2"
   ]
  },
  {
   "cell_type": "code",
   "execution_count": 9,
   "id": "d4297407",
   "metadata": {},
   "outputs": [],
   "source": [
    "from llm import GroqModel, OpenAIModel, OpenRouterModel\n",
    "from tools import MoveTool, BaseTool"
   ]
  },
  {
   "cell_type": "code",
   "execution_count": 5,
   "id": "03cb3cb8",
   "metadata": {},
   "outputs": [],
   "source": [
    "llama_model = GroqModel(    \n",
    "    tools = {\n",
    "            MoveTool.name: MoveTool(),\n",
    "            }\n",
    ")"
   ]
  },
  {
   "cell_type": "code",
   "execution_count": 12,
   "id": "d0e8ccd1",
   "metadata": {},
   "outputs": [
    {
     "ename": "NameError",
     "evalue": "name 'llama_model' is not defined",
     "output_type": "error",
     "traceback": [
      "\u001b[31m---------------------------------------------------------------------------\u001b[39m",
      "\u001b[31mNameError\u001b[39m                                 Traceback (most recent call last)",
      "\u001b[36mCell\u001b[39m\u001b[36m \u001b[39m\u001b[32mIn[12]\u001b[39m\u001b[32m, line 19\u001b[39m\n\u001b[32m      1\u001b[39m messages = [\n\u001b[32m      2\u001b[39m         {\n\u001b[32m      3\u001b[39m             \u001b[33m\"\u001b[39m\u001b[33mrole\u001b[39m\u001b[33m\"\u001b[39m: \u001b[33m\"\u001b[39m\u001b[33muser\u001b[39m\u001b[33m\"\u001b[39m,\n\u001b[32m   (...)\u001b[39m\u001b[32m     16\u001b[39m         }\n\u001b[32m     17\u001b[39m     ]\n\u001b[32m---> \u001b[39m\u001b[32m19\u001b[39m \u001b[43mllama_model\u001b[49m.complete(messages=messages)\n",
      "\u001b[31mNameError\u001b[39m: name 'llama_model' is not defined"
     ]
    }
   ],
   "source": [
    "messages = [\n",
    "        {\n",
    "            \"role\": \"user\",\n",
    "            \"content\": [\n",
    "                {\n",
    "                    \"type\": \"image_url\",\n",
    "                    \"image_url\": {\n",
    "                        \"url\": \"https://i.ytimg.com/vi/59IRf44uR1w/hq720.jpg?sqp=-oaymwEhCK4FEIIDSFryq4qpAxMIARUAAAAAGAElAADIQj0AgKJD&rs=AOn4CLAgfCAj1lJ6m7sgmzCKFOZfYSbJrQ\"\n",
    "                    }\n",
    "                },\n",
    "                {\n",
    "                    \"type\": \"text\",\n",
    "                    \"text\": \"Use individual boxes to locate the position of each enemy in the image and describe their respective features, output all bbox coordinates in JSON format, do not output ```json```\"\n",
    "                },\n",
    "            ]\n",
    "        }\n",
    "    ]\n",
    "\n",
    "llama_model.complete(messages=messages)"
   ]
  },
  {
   "cell_type": "code",
   "execution_count": null,
   "id": "4980a559",
   "metadata": {},
   "outputs": [],
   "source": [
    "gpt_model = OpenAIModel(    \n",
    "    tools = {\n",
    "            MoveTool.name: MoveTool(),\n",
    "            })"
   ]
  },
  {
   "cell_type": "code",
   "execution_count": null,
   "id": "85c153ef",
   "metadata": {},
   "outputs": [],
   "source": [
    "gpt_model.complete(messages=messages)"
   ]
  },
  {
   "cell_type": "markdown",
   "id": "4e19e4e8",
   "metadata": {},
   "source": [
    "# Open Router - Qwen"
   ]
  },
  {
   "cell_type": "code",
   "execution_count": null,
   "id": "92f22c21",
   "metadata": {},
   "outputs": [],
   "source": [
    "qwen_model = OpenRouterModel(model=\"qwen/qwen2.5-vl-3b-instruct:free\")"
   ]
  },
  {
   "cell_type": "code",
   "execution_count": 16,
   "id": "cbba5cb5",
   "metadata": {},
   "outputs": [
    {
     "name": "stdout",
     "output_type": "stream",
     "text": [
      "ChatCompletionMessage(content='```json\\n[\\n\\t{\"bbox_2d\": [428, 212, 471, 264], \"label\": \"man holding gun\"},\\n\\t{\"bbox_2d\": [539, 208, 570, 306], \"label\": \"woman in red outfit\"}\\n]\\n```', refusal=None, role='assistant', annotations=None, audio=None, function_call=None, tool_calls=None, reasoning=None)\n"
     ]
    },
    {
     "data": {
      "text/plain": [
       "('```json\\n[\\n\\t{\"bbox_2d\": [428, 212, 471, 264], \"label\": \"man holding gun\"},\\n\\t{\"bbox_2d\": [539, 208, 570, 306], \"label\": \"woman in red outfit\"}\\n]\\n```',\n",
       " [{'role': 'user',\n",
       "   'content': [{'type': 'image_url',\n",
       "     'image_url': {'url': 'https://i.ytimg.com/vi/59IRf44uR1w/hq720.jpg?sqp=-oaymwEhCK4FEIIDSFryq4qpAxMIARUAAAAAGAElAADIQj0AgKJD&rs=AOn4CLAgfCAj1lJ6m7sgmzCKFOZfYSbJrQ'}},\n",
       "    {'type': 'text',\n",
       "     'text': 'Use individual boxes to locate the position of each enemy in the image and describe their respective features, output all bbox coordinates in JSON format, do not output ```json```'}]}],\n",
       " ChatCompletionMessage(content='```json\\n[\\n\\t{\"bbox_2d\": [428, 212, 471, 264], \"label\": \"man holding gun\"},\\n\\t{\"bbox_2d\": [539, 208, 570, 306], \"label\": \"woman in red outfit\"}\\n]\\n```', refusal=None, role='assistant', annotations=None, audio=None, function_call=None, tool_calls=None, reasoning=None))"
      ]
     },
     "execution_count": 16,
     "metadata": {},
     "output_type": "execute_result"
    }
   ],
   "source": [
    "qwen_model.complete(messages)"
   ]
  }
 ],
 "metadata": {
  "kernelspec": {
   "display_name": "e2b",
   "language": "python",
   "name": "python3"
  },
  "language_info": {
   "codemirror_mode": {
    "name": "ipython",
    "version": 3
   },
   "file_extension": ".py",
   "mimetype": "text/x-python",
   "name": "python",
   "nbconvert_exporter": "python",
   "pygments_lexer": "ipython3",
   "version": "3.12.9"
  }
 },
 "nbformat": 4,
 "nbformat_minor": 5
}

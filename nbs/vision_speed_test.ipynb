{
 "cells": [
  {
   "cell_type": "code",
   "execution_count": 1,
   "id": "248b65e5",
   "metadata": {},
   "outputs": [],
   "source": [
    "import sys\n",
    "import os\n",
    "\n",
    "from dotenv import load_dotenv\n",
    "\n",
    "load_dotenv()\n",
    "\n",
    "# Add the parent directory (project root) to sys.path\n",
    "sys.path.append(os.path.abspath('..'))\n"
   ]
  },
  {
   "cell_type": "code",
   "execution_count": 2,
   "id": "4aeda44c",
   "metadata": {},
   "outputs": [],
   "source": [
    "# automatically load changes from the sandbox_steps module\n",
    "%load_ext autoreload\n",
    "%autoreload 2"
   ]
  },
  {
   "cell_type": "code",
   "execution_count": 3,
   "id": "d4297407",
   "metadata": {},
   "outputs": [],
   "source": [
    "from llm import GroqModel, OpenAIModel, BaseFunction\n",
    "from tools import MoveTool"
   ]
  },
  {
   "cell_type": "code",
   "execution_count": 4,
   "id": "03cb3cb8",
   "metadata": {},
   "outputs": [],
   "source": [
    "llama_model = GroqModel(    \n",
    "    tools = {\n",
    "            MoveTool.name: MoveTool(),\n",
    "            }\n",
    ")"
   ]
  },
  {
   "cell_type": "code",
   "execution_count": 28,
   "id": "d0e8ccd1",
   "metadata": {},
   "outputs": [
    {
     "name": "stdout",
     "output_type": "stream",
     "text": [
      "ChatCompletionMessage(content=None, refusal=None, role='assistant', annotations=None, audio=None, function_call=None, tool_calls=[ChatCompletionMessageToolCall(id='call_xgg6', function=Function(arguments='{\"location\": \"Nový Jáchymov\"}', name='move_to_location'), type='function')])\n",
      "Arguments: {'location': 'Nový Jáchymov'}\n",
      "moving to Nový Jáchymov\n"
     ]
    },
    {
     "data": {
      "text/plain": [
       "(None,\n",
       " [{'role': 'user',\n",
       "   'content': [{'type': 'text',\n",
       "     'text': 'Move to your preferred location in which is not well known Czechia. Respond only with tool call'}]}],\n",
       " ChatCompletionMessage(content=None, refusal=None, role='assistant', annotations=None, audio=None, function_call=None, tool_calls=[ChatCompletionMessageToolCall(id='call_xgg6', function=Function(arguments='{\"location\": \"Nový Jáchymov\"}', name='move_to_location'), type='function')]))"
      ]
     },
     "execution_count": 28,
     "metadata": {},
     "output_type": "execute_result"
    }
   ],
   "source": [
    "messages = [\n",
    "        {\n",
    "            \"role\": \"user\",\n",
    "            \"content\": [\n",
    "                {\n",
    "                    \"type\": \"text\",\n",
    "                    \"text\": \"Move to your preferred location in which is not well known Czechia. Respond only with tool call\"\n",
    "                },\n",
    "                # {\n",
    "                #     \"type\": \"image_url\",\n",
    "                #     \"image_url\": {\n",
    "                #         \"url\": \"https://upload.wikimedia.org/wikipedia/commons/f/f2/LPU-v1-die.jpg\"\n",
    "                #     }\n",
    "                # }\n",
    "            ]\n",
    "        }\n",
    "    ]\n",
    "\n",
    "llama_model.complete(messages=messages)"
   ]
  },
  {
   "cell_type": "code",
   "execution_count": 16,
   "id": "4980a559",
   "metadata": {},
   "outputs": [],
   "source": [
    "gpt_model = OpenAIModel(    \n",
    "    tools = {\n",
    "            MoveTool.name: MoveTool(),\n",
    "            })"
   ]
  },
  {
   "cell_type": "code",
   "execution_count": 23,
   "id": "85c153ef",
   "metadata": {},
   "outputs": [
    {
     "name": "stdout",
     "output_type": "stream",
     "text": [
      "ChatCompletionMessage(content=None, refusal=None, role='assistant', annotations=[], audio=None, function_call=None, tool_calls=[ChatCompletionMessageToolCall(id='call_ysxzavmXtQjtj9pkCO73eXm2', function=Function(arguments='{\"location\":\"Kutná Hora\"}', name='move_to_location'), type='function')])\n",
      "Arguments: {'location': 'Kutná Hora'}\n",
      "moving to Kutná Hora\n"
     ]
    },
    {
     "data": {
      "text/plain": [
       "(None,\n",
       " [{'role': 'user',\n",
       "   'content': [{'type': 'text',\n",
       "     'text': 'Move to your preferred location in which is not well known Czechia. Respond only with tool call'}]}],\n",
       " ChatCompletionMessage(content=None, refusal=None, role='assistant', annotations=[], audio=None, function_call=None, tool_calls=[ChatCompletionMessageToolCall(id='call_ysxzavmXtQjtj9pkCO73eXm2', function=Function(arguments='{\"location\":\"Kutná Hora\"}', name='move_to_location'), type='function')]))"
      ]
     },
     "execution_count": 23,
     "metadata": {},
     "output_type": "execute_result"
    }
   ],
   "source": [
    "gpt_model.complete(messages=messages)"
   ]
  }
 ],
 "metadata": {
  "kernelspec": {
   "display_name": "e2b",
   "language": "python",
   "name": "python3"
  },
  "language_info": {
   "codemirror_mode": {
    "name": "ipython",
    "version": 3
   },
   "file_extension": ".py",
   "mimetype": "text/x-python",
   "name": "python",
   "nbconvert_exporter": "python",
   "pygments_lexer": "ipython3",
   "version": "3.12.9"
  }
 },
 "nbformat": 4,
 "nbformat_minor": 5
}

{
 "cells": [
  {
   "cell_type": "code",
   "execution_count": 2,
   "id": "0b9fea95",
   "metadata": {},
   "outputs": [],
   "source": [
    "# automatically load changes from the sandbox_steps module\n",
    "%load_ext autoreload\n",
    "%autoreload 2"
   ]
  },
  {
   "cell_type": "code",
   "execution_count": 32,
   "id": "3df2a758",
   "metadata": {},
   "outputs": [],
   "source": [
    "import sys\n",
    "import os\n",
    "from e2b_desktop import Sandbox, CommandExitException\n",
    "from dotenv import load_dotenv\n",
    "load_dotenv()\n",
    "\n",
    "sys.path.append(os.path.abspath('..')) # Add the parent directory (project root) to sys.path\n",
    "\n",
    "from counter_strike.install_cs import install_cs_1_6\n",
    "from counter_strike.image_handling import get_screenshot_message, draw_point\n",
    "\n",
    "from llms.models import AimingModel\n",
    "\n",
    "E2B_API_KEY = os.environ.get(\"E2B_API_KEY\")\n",
    "CS_SERVER_IP = os.environ.get(\"CS_SERVER_IP\")\n"
   ]
  },
  {
   "cell_type": "code",
   "execution_count": 307,
   "id": "1a496eaa",
   "metadata": {},
   "outputs": [
    {
     "name": "stdout",
     "output_type": "stream",
     "text": [
      "https://6080-imuf5225tbcjhut3bj07v-53fc73d7.e2b.app/vnc.html?autoconnect=true&resize=scale\n",
      "https://6080-imuf5225tbcjhut3bj07v-53fc73d7.e2b.app/vnc.html?autoconnect=true&view_only=true&resize=scale\n"
     ]
    }
   ],
   "source": [
    "# With custom configuration\n",
    "desktop = Sandbox(\n",
    "    display=\":0\",  # Custom display (defaults to :0)\n",
    "    resolution=(1920, 1080),  # Custom resolution\n",
    "    timeout = 3600) \n",
    "\n",
    "desktop.stream.start()\n",
    "\n",
    "# Get stream URL\n",
    "url = desktop.stream.get_url()\n",
    "print(url)\n",
    "\n",
    "# only viewing \n",
    "url_view = desktop.stream.get_url(view_only=True)\n",
    "print(url_view)"
   ]
  },
  {
   "cell_type": "code",
   "execution_count": 308,
   "id": "f0668a28",
   "metadata": {},
   "outputs": [],
   "source": [
    "install_cs_1_6(desktop=desktop)"
   ]
  },
  {
   "cell_type": "markdown",
   "id": "fc5dcc52",
   "metadata": {},
   "source": [
    "### Steps to connect to the server"
   ]
  },
  {
   "cell_type": "code",
   "execution_count": 309,
   "id": "0ddd5cb9",
   "metadata": {},
   "outputs": [
    {
     "name": "stdout",
     "output_type": "stream",
     "text": [
      "0\n",
      "1\n",
      "2\n",
      "3\n",
      "4\n"
     ]
    }
   ],
   "source": [
    "desktop.wait(5000)\n",
    "desktop.left_click(76, 948) # click on Find Servers\n",
    "desktop.wait(1000)\n",
    "desktop.left_click(258, 76) # Click on Favorites Tab\n",
    "desktop.wait(1000)\n",
    "desktop.left_click(665, 604) # Add server\n",
    "desktop.wait(1000)\n",
    "desktop.write(text=CS_SERVER_IP) # Type server ip Address\n",
    "desktop.wait(500)\n",
    "desktop.left_click(1119, 527) # Add server to favourites\n",
    "desktop.wait(500)\n",
    "desktop.left_click(273, 126) # Select the added server\n",
    "desktop.wait(500)\n",
    "desktop.left_click(849, 606) # Connect\n",
    "for i in range(5):\n",
    "    print(i)\n",
    "    desktop.wait(30_000)\n",
    "\n",
    "\n",
    "# Now wait at least 2 mins for connection and Download"
   ]
  },
  {
   "cell_type": "code",
   "execution_count": 310,
   "id": "11893a72",
   "metadata": {},
   "outputs": [],
   "source": [
    "# steps to connect to the game\n",
    "desktop.press(\"enter\")\n",
    "desktop.wait(300)\n",
    "desktop.press(\"1\") # 1=T, 2=CT, 6=SPECTATE\n",
    "desktop.wait(300)\n",
    "desktop.press(\"4\") # T side: Guerilla warfare skin because they have the red headband\n",
    "\n",
    "# congrats, you joined the game!!"
   ]
  },
  {
   "cell_type": "code",
   "execution_count": 260,
   "id": "4b06aff1",
   "metadata": {},
   "outputs": [],
   "source": [
    "desktop.move_mouse(150, 10)\n"
   ]
  },
  {
   "cell_type": "code",
   "execution_count": 293,
   "id": "d3eac3d1",
   "metadata": {},
   "outputs": [],
   "source": [
    "screenshot_message = get_screenshot_message(desktop, filename=\"../images/screenshot.jpg\")"
   ]
  },
  {
   "cell_type": "code",
   "execution_count": 320,
   "id": "e0713e56",
   "metadata": {},
   "outputs": [],
   "source": [
    "desktop.left_click(170, 10)"
   ]
  },
  {
   "cell_type": "code",
   "execution_count": 268,
   "id": "fd42c30f",
   "metadata": {},
   "outputs": [],
   "source": [
    "desktop.press(\"enter\")"
   ]
  },
  {
   "cell_type": "code",
   "execution_count": 317,
   "id": "7dc4374b",
   "metadata": {},
   "outputs": [],
   "source": [
    "from counter_strike.image_handling import get_mouse_movements\n",
    "aiming_model = AimingModel()"
   ]
  },
  {
   "cell_type": "code",
   "execution_count": null,
   "id": "d37bf48f",
   "metadata": {},
   "outputs": [
    {
     "name": "stdout",
     "output_type": "stream",
     "text": [
      "{\n",
      "  \"point\": {\n",
      "    \"x\": \"953\",\n",
      "    \"y\": \"551\"\n",
      "  }\n",
      "}\n",
      "{'x': 953, 'y': 551}\n",
      "<class 'dict'>\n",
      "Aiming based on input coords: {'x': 953, 'y': 551}\n",
      "Aiming to coords 1: {'x': 950, 'y': 554}\n",
      "------------------------------\n"
     ]
    }
   ],
   "source": [
    "screenshot_message = get_screenshot_message(desktop, filename=\"../images/screenshot.jpg\")\n",
    "\n",
    "point_json, _ = aiming_model.complete(messages=screenshot_message)\n",
    "print(point_json)\n",
    "coords = aiming_model.parse_point_json(point_json)\n",
    "print(coords)\n",
    "print(type(coords))\n",
    "draw_point(point = coords, image_path=\"../images/screenshot.jpg\", output_path=\"../images/screenshot_annotated.jpg\")\n",
    "\n",
    "mouse_movements = get_mouse_movements(coords=coords)\n",
    "def execute_mouse_movements(mouse_movements: List, desktop: \"Sandbox\"):\n",
    "    # Execute the movements\n",
    "    print(f\"Aiming based on input coords: {coords}\")\n",
    "    if not mouse_movements:\n",
    "        print(\"No movement calculated.\")\n",
    "    else:\n",
    "        for i, move_coords in enumerate(mouse_movements):\n",
    "            print(f\"Aiming to coords {i+1}: {move_coords}\")\n",
    "            desktop.move_mouse(**move_coords)\n",
    "    print(\"-\" * 30)\n",
    "\n",
    "desktop.left_click()\n",
    "desktop.wait(300)\n",
    "desktop.left_click()\n",
    "desktop.wait(300)\n",
    "desktop.left_click()\n",
    "desktop.wait(300)"
   ]
  }
 ],
 "metadata": {
  "kernelspec": {
   "display_name": "e2b",
   "language": "python",
   "name": "python3"
  },
  "language_info": {
   "codemirror_mode": {
    "name": "ipython",
    "version": 3
   },
   "file_extension": ".py",
   "mimetype": "text/x-python",
   "name": "python",
   "nbconvert_exporter": "python",
   "pygments_lexer": "ipython3",
   "version": "3.12.9"
  }
 },
 "nbformat": 4,
 "nbformat_minor": 5
}

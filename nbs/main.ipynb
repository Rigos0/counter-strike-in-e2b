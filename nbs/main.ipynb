{
 "cells": [
  {
   "cell_type": "code",
   "execution_count": 92,
   "id": "0b9fea95",
   "metadata": {},
   "outputs": [
    {
     "name": "stdout",
     "output_type": "stream",
     "text": [
      "The autoreload extension is already loaded. To reload it, use:\n",
      "  %reload_ext autoreload\n"
     ]
    }
   ],
   "source": [
    "# automatically load changes from the sandbox_steps module\n",
    "%load_ext autoreload\n",
    "%autoreload 2"
   ]
  },
  {
   "cell_type": "code",
   "execution_count": 137,
   "id": "3df2a758",
   "metadata": {},
   "outputs": [],
   "source": [
    "import sys\n",
    "import os\n",
    "from e2b_desktop import Sandbox, CommandExitException\n",
    "from dotenv import load_dotenv\n",
    "load_dotenv()\n",
    "\n",
    "sys.path.append(os.path.abspath('..')) # Add the parent directory (project root) to sys.path\n",
    "\n",
    "from counter_strike.install_cs import install_cs_1_6, connect_to_server, choose_team\n",
    "from counter_strike.image_handling import get_screenshot_message, draw_point, get_screenshot\n",
    "\n",
    "from llms.models import AimingModel\n",
    "\n",
    "E2B_API_KEY = os.environ.get(\"E2B_API_KEY\")\n",
    "CS_SERVER_IP = os.environ.get(\"CS_SERVER_IP\")\n"
   ]
  },
  {
   "cell_type": "code",
   "execution_count": 130,
   "id": "1a496eaa",
   "metadata": {},
   "outputs": [
    {
     "name": "stdout",
     "output_type": "stream",
     "text": [
      "https://6080-ikxn0iut8aa7xadj6q9yp-5377ba0b.e2b.app/vnc.html?autoconnect=true&resize=scale\n",
      "https://6080-ikxn0iut8aa7xadj6q9yp-5377ba0b.e2b.app/vnc.html?autoconnect=true&view_only=true&resize=scale\n"
     ]
    }
   ],
   "source": [
    "# With custom configuration\n",
    "desktop = Sandbox(\n",
    "    display=\":0\",  # Custom display (defaults to :0)\n",
    "    resolution=(1920, 1080),  # Custom resolution\n",
    "    timeout = 3600) \n",
    "\n",
    "desktop.stream.start()\n",
    "\n",
    "# Get stream URL\n",
    "url = desktop.stream.get_url()\n",
    "print(url)\n",
    "\n",
    "# only viewing \n",
    "url_view = desktop.stream.get_url(view_only=True)\n",
    "print(url_view)"
   ]
  },
  {
   "cell_type": "code",
   "execution_count": 131,
   "id": "f0668a28",
   "metadata": {},
   "outputs": [],
   "source": [
    "install_cs_1_6(desktop=desktop)\n",
    "connect_to_server(desktop=desktop, ip_address=CS_SERVER_IP)\n",
    "choose_team(desktop=desktop)"
   ]
  },
  {
   "cell_type": "code",
   "execution_count": 132,
   "id": "e0dd30ad",
   "metadata": {},
   "outputs": [
    {
     "name": "stdout",
     "output_type": "stream",
     "text": [
      "Waiting for 150 secs for map download...\n"
     ]
    }
   ],
   "source": [
    "connect_to_server(desktop=desktop, ip_address=CS_SERVER_IP)\n",
    "choose_team(desktop=desktop)"
   ]
  },
  {
   "cell_type": "code",
   "execution_count": 65,
   "id": "e0713e56",
   "metadata": {},
   "outputs": [],
   "source": [
    "#desktop.write(text=\"ddddddddddddddddd\", delay_in_ms=0, chunk_size=50)\n",
    "desktop.write(text=\"dddddddddddddddddddd\")\n",
    "desktop.write(text=\"aaaaaaaaaaaaaaaaaaaa\")\n",
    "desktop.write(text=\"wwwwwwwwwwwwwwwwwwww\")"
   ]
  },
  {
   "cell_type": "code",
   "execution_count": 177,
   "id": "301366d2",
   "metadata": {},
   "outputs": [],
   "source": [
    "screenshot_message = get_screenshot_message(desktop, filename=SCREENSHOT_PATH)"
   ]
  },
  {
   "cell_type": "code",
   "execution_count": 178,
   "id": "91c73be8",
   "metadata": {},
   "outputs": [
    {
     "name": "stdout",
     "output_type": "stream",
     "text": [
      "Model: qwen/qwen2.5-vl-32b-instruct\n",
      "Provider: Fireworks\n"
     ]
    },
    {
     "data": {
      "text/plain": [
       "('```json\\nnull\\n```',\n",
       " ChatCompletion(id='gen-1746900812-cu8qrFuRA8RpmWSepJL2', choices=[Choice(finish_reason='stop', index=0, logprobs=None, message=ChatCompletionMessage(content='```json\\nnull\\n```', refusal=None, role='assistant', annotations=None, audio=None, function_call=None, tool_calls=None, reasoning=None), native_finish_reason='stop')], created=1746900812, model='qwen/qwen2.5-vl-32b-instruct', object='chat.completion', service_tier=None, system_fingerprint=None, usage=CompletionUsage(completion_tokens=7, prompt_tokens=2790, total_tokens=2797, completion_tokens_details=None, prompt_tokens_details=None), provider='Fireworks'))"
      ]
     },
     "execution_count": 178,
     "metadata": {},
     "output_type": "execute_result"
    }
   ],
   "source": [
    "aiming_model.complete(screenshot_message)"
   ]
  },
  {
   "cell_type": "code",
   "execution_count": 179,
   "id": "055fe526",
   "metadata": {},
   "outputs": [
    {
     "name": "stdout",
     "output_type": "stream",
     "text": [
      "Model: qwen/qwen2.5-vl-32b-instruct\n",
      "Provider: Fireworks\n",
      "(None, [ChatCompletionMessageToolCall(id='tool_0_move_tool', function=Function(arguments='{\"key_sequence\":\"wwass\"}', name='move_tool'), type='function', index=0)], 1.1472323999914806, 1.4249587999947835)\n"
     ]
    }
   ],
   "source": [
    "output = process_models_concurrently(screenshot_message, aiming_model, gameplay_model)\n",
    "print(output)"
   ]
  },
  {
   "cell_type": "code",
   "execution_count": 3,
   "id": "fd42c30f",
   "metadata": {},
   "outputs": [],
   "source": [
    "desktop.kill()"
   ]
  },
  {
   "cell_type": "code",
   "execution_count": 150,
   "id": "7dc4374b",
   "metadata": {},
   "outputs": [],
   "source": [
    "from counter_strike.image_handling import get_mouse_movements\n",
    "from counter_strike.controls import aim, shoot\n",
    "\n",
    "from llms.models import AimingModel\n",
    "\n",
    "aiming_model = AimingModel()"
   ]
  },
  {
   "cell_type": "code",
   "execution_count": 151,
   "id": "7512e965",
   "metadata": {},
   "outputs": [
    {
     "data": {
      "text/plain": [
       "'move_tool'"
      ]
     },
     "execution_count": 151,
     "metadata": {},
     "output_type": "execute_result"
    }
   ],
   "source": [
    "from llms.tools import MoveTool\n",
    "from llms.models import OpenRouterGameplayModel\n",
    "\n",
    "move_tool = MoveTool(desktop=desktop)\n",
    "tools_move = {move_tool.name: move_tool}\n",
    "\n",
    "gameplay_model = OpenRouterGameplayModel(tools=tools_move, model=\"google/gemini-2.5-flash-preview\")\n",
    "move_tool.name"
   ]
  },
  {
   "cell_type": "code",
   "execution_count": 121,
   "id": "d37bf48f",
   "metadata": {},
   "outputs": [
    {
     "name": "stdout",
     "output_type": "stream",
     "text": [
      "Iteration 0\n",
      "ChatCompletion(id='gen-1746896217-GaDhiLLObAzcK90Rpo6R', choices=[Choice(finish_reason='stop', index=0, logprobs=None, message=ChatCompletionMessage(content='None', refusal=None, role='assistant', annotations=None, audio=None, function_call=None, tool_calls=None, reasoning=None), native_finish_reason='stop')], created=1746896217, model='qwen/qwen2.5-vl-72b-instruct', object='chat.completion', service_tier=None, system_fingerprint=None, usage=CompletionUsage(completion_tokens=2, prompt_tokens=2790, total_tokens=2792, completion_tokens_details=None, prompt_tokens_details=None), provider='Parasail')\n",
      "None\n",
      "[{'role': 'user', 'content': 'Current map: aim_map_2010.Design five consecutive movement steps to locate the enemy: 1) Choose a combined sequence of 5 keys (w/a/s/d) per move. 2) Return your answer by calling move_tool with the \\'key_sequence\\' parameter. Example: {\"name\": \"move_tool\", \"arguments\": {\"key_sequence\": \"wwaad\"}}'}]\n",
      "Arguments: {'key_sequence': 'wwwww'}\n",
      "moving with key sequence: wwwww\n",
      "wwwwwwwwwwwwwwwwwwwwwwwwwwwwwwwwwwwwwwwwwwwwwwwwww\n",
      "Iteration 1\n",
      "ChatCompletion(id='gen-1746896229-1cTSnIoedSCNDZYyqTCz', choices=[Choice(finish_reason='stop', index=0, logprobs=None, message=ChatCompletionMessage(content='None', refusal=None, role='assistant', annotations=None, audio=None, function_call=None, tool_calls=None, reasoning=None), native_finish_reason='stop')], created=1746896229, model='qwen/qwen2.5-vl-72b-instruct', object='chat.completion', service_tier=None, system_fingerprint=None, usage=CompletionUsage(completion_tokens=2, prompt_tokens=2790, total_tokens=2792, completion_tokens_details=None, prompt_tokens_details=None), provider='Parasail')\n",
      "None\n",
      "[{'role': 'user', 'content': 'Current map: aim_map_2010.Design five consecutive movement steps to locate the enemy: 1) Choose a combined sequence of 5 keys (w/a/s/d) per move. 2) Return your answer by calling move_tool with the \\'key_sequence\\' parameter. Example: {\"name\": \"move_tool\", \"arguments\": {\"key_sequence\": \"wwaad\"}}'}]\n",
      "Arguments: {'key_sequence': 'wwaad'}\n",
      "moving with key sequence: wwaad\n",
      "wwwwwwwwwwwwwwwwwwwwaaaaaaaaaaaaaaaaaaaadddddddddd\n",
      "Iteration 2\n",
      "ChatCompletion(id='gen-1746896242-IB98cxGHlqPyMLL3KIYu', choices=[Choice(finish_reason='stop', index=0, logprobs=None, message=ChatCompletionMessage(content='None', refusal=None, role='assistant', annotations=None, audio=None, function_call=None, tool_calls=None, reasoning=None), native_finish_reason='stop')], created=1746896242, model='qwen/qwen2.5-vl-72b-instruct', object='chat.completion', service_tier=None, system_fingerprint=None, usage=CompletionUsage(completion_tokens=2, prompt_tokens=2790, total_tokens=2792, completion_tokens_details=None, prompt_tokens_details=None), provider='Parasail')\n",
      "None\n",
      "[{'role': 'user', 'content': 'Current map: aim_map_2010.Design five consecutive movement steps to locate the enemy: 1) Choose a combined sequence of 5 keys (w/a/s/d) per move. 2) Return your answer by calling move_tool with the \\'key_sequence\\' parameter. Example: {\"name\": \"move_tool\", \"arguments\": {\"key_sequence\": \"wwaad\"}}'}]\n",
      "Arguments: {'key_sequence': 'wwaaw'}\n",
      "moving with key sequence: wwaaw\n",
      "wwwwwwwwwwwwwwwwwwwwaaaaaaaaaaaaaaaaaaaawwwwwwwwww\n",
      "Iteration 3\n"
     ]
    },
    {
     "ename": "KeyboardInterrupt",
     "evalue": "",
     "output_type": "error",
     "traceback": [
      "\u001b[31m---------------------------------------------------------------------------\u001b[39m",
      "\u001b[31mKeyboardInterrupt\u001b[39m                         Traceback (most recent call last)",
      "\u001b[36mCell\u001b[39m\u001b[36m \u001b[39m\u001b[32mIn[121]\u001b[39m\u001b[32m, line 3\u001b[39m\n\u001b[32m      1\u001b[39m \u001b[38;5;28;01mfor\u001b[39;00m i \u001b[38;5;129;01min\u001b[39;00m \u001b[38;5;28mrange\u001b[39m(\u001b[32m10\u001b[39m):\n\u001b[32m      2\u001b[39m     \u001b[38;5;28mprint\u001b[39m(\u001b[33mf\u001b[39m\u001b[33m\"\u001b[39m\u001b[33mIteration \u001b[39m\u001b[38;5;132;01m{\u001b[39;00mi\u001b[38;5;132;01m}\u001b[39;00m\u001b[33m\"\u001b[39m)\n\u001b[32m----> \u001b[39m\u001b[32m3\u001b[39m     screenshot_message = \u001b[43mget_screenshot_message\u001b[49m\u001b[43m(\u001b[49m\u001b[43mdesktop\u001b[49m\u001b[43m,\u001b[49m\u001b[43m \u001b[49m\u001b[43mfilename\u001b[49m\u001b[43m=\u001b[49m\u001b[33;43m\"\u001b[39;49m\u001b[33;43m../images/screenshot.jpg\u001b[39;49m\u001b[33;43m\"\u001b[39;49m\u001b[43m)\u001b[49m\n\u001b[32m      5\u001b[39m     point_json, _ = aiming_model.complete(user_messages=screenshot_message, debug=\u001b[38;5;28;01mTrue\u001b[39;00m)\n\u001b[32m      6\u001b[39m     \u001b[38;5;28mprint\u001b[39m(point_json)\n",
      "\u001b[36mFile \u001b[39m\u001b[32mc:\\Users\\richa\\Documents\\projects\\e2b\\counter_strike\\image_handling.py:45\u001b[39m, in \u001b[36mget_screenshot_message\u001b[39m\u001b[34m(desktop, filename, quality)\u001b[39m\n\u001b[32m     44\u001b[39m \u001b[38;5;28;01mdef\u001b[39;00m\u001b[38;5;250m \u001b[39m\u001b[34mget_screenshot_message\u001b[39m(desktop: Sandbox, filename: \u001b[38;5;28mstr\u001b[39m | \u001b[38;5;28;01mNone\u001b[39;00m = \u001b[38;5;28;01mNone\u001b[39;00m, quality: \u001b[38;5;28mint\u001b[39m = \u001b[38;5;28;01mNone\u001b[39;00m):\n\u001b[32m---> \u001b[39m\u001b[32m45\u001b[39m     base64_image = \u001b[43mget_screenshot\u001b[49m\u001b[43m(\u001b[49m\u001b[43mdesktop\u001b[49m\u001b[43m,\u001b[49m\u001b[43m \u001b[49m\u001b[43mfilename\u001b[49m\u001b[43m=\u001b[49m\u001b[43mfilename\u001b[49m\u001b[43m,\u001b[49m\u001b[43m \u001b[49m\u001b[43mquality\u001b[49m\u001b[43m=\u001b[49m\u001b[43mquality\u001b[49m\u001b[43m)\u001b[49m\n\u001b[32m     46\u001b[39m     \u001b[38;5;28;01mreturn\u001b[39;00m [\n\u001b[32m     47\u001b[39m         {\n\u001b[32m     48\u001b[39m             \u001b[33m\"\u001b[39m\u001b[33mrole\u001b[39m\u001b[33m\"\u001b[39m: \u001b[33m\"\u001b[39m\u001b[33muser\u001b[39m\u001b[33m\"\u001b[39m,\n\u001b[32m   (...)\u001b[39m\u001b[32m     56\u001b[39m             ], }\n\u001b[32m     57\u001b[39m     ]\n",
      "\u001b[36mFile \u001b[39m\u001b[32mc:\\Users\\richa\\Documents\\projects\\e2b\\counter_strike\\image_handling.py:34\u001b[39m, in \u001b[36mget_screenshot\u001b[39m\u001b[34m(desktop, filename, quality)\u001b[39m\n\u001b[32m     33\u001b[39m \u001b[38;5;28;01mdef\u001b[39;00m\u001b[38;5;250m \u001b[39m\u001b[34mget_screenshot\u001b[39m(desktop, filename=\u001b[33m\"\u001b[39m\u001b[33mscreenshot.jpg\u001b[39m\u001b[33m\"\u001b[39m, quality: \u001b[38;5;28mint\u001b[39m = \u001b[38;5;28;01mNone\u001b[39;00m) -> \u001b[38;5;28mstr\u001b[39m:\n\u001b[32m---> \u001b[39m\u001b[32m34\u001b[39m     raw_bytes = \u001b[43mcapture_screenshot_bytes\u001b[49m\u001b[43m(\u001b[49m\u001b[43mdesktop\u001b[49m\u001b[43m=\u001b[49m\u001b[43mdesktop\u001b[49m\u001b[43m)\u001b[49m\n\u001b[32m     36\u001b[39m     \u001b[38;5;28;01mif\u001b[39;00m quality:\n\u001b[32m     37\u001b[39m         raw_bytes = compress_image_bytes(raw_bytes, quality=quality) \n",
      "\u001b[36mFile \u001b[39m\u001b[32mc:\\Users\\richa\\Documents\\projects\\e2b\\counter_strike\\image_handling.py:30\u001b[39m, in \u001b[36mcapture_screenshot_bytes\u001b[39m\u001b[34m(desktop)\u001b[39m\n\u001b[32m     29\u001b[39m \u001b[38;5;28;01mdef\u001b[39;00m\u001b[38;5;250m \u001b[39m\u001b[34mcapture_screenshot_bytes\u001b[39m(desktop) -> \u001b[38;5;28mbytes\u001b[39m:\n\u001b[32m---> \u001b[39m\u001b[32m30\u001b[39m     \u001b[38;5;28;01mreturn\u001b[39;00m \u001b[43mdesktop\u001b[49m\u001b[43m.\u001b[49m\u001b[43mscreenshot\u001b[49m\u001b[43m(\u001b[49m\u001b[38;5;28;43mformat\u001b[39;49m\u001b[43m=\u001b[49m\u001b[33;43m\"\u001b[39;49m\u001b[33;43mbytes\u001b[39;49m\u001b[33;43m\"\u001b[39;49m\u001b[43m)\u001b[49m\n",
      "\u001b[36mFile \u001b[39m\u001b[32mc:\\Users\\richa\\miniconda3\\envs\\e2b\\Lib\\site-packages\\e2b_desktop\\main.py:312\u001b[39m, in \u001b[36mSandbox.screenshot\u001b[39m\u001b[34m(self, format)\u001b[39m\n\u001b[32m    308\u001b[39m screenshot_path = \u001b[33mf\u001b[39m\u001b[33m\"\u001b[39m\u001b[33m/tmp/screenshot-\u001b[39m\u001b[38;5;132;01m{\u001b[39;00muuid4()\u001b[38;5;132;01m}\u001b[39;00m\u001b[33m.png\u001b[39m\u001b[33m\"\u001b[39m\n\u001b[32m    310\u001b[39m \u001b[38;5;28mself\u001b[39m.commands.run(\u001b[33mf\u001b[39m\u001b[33m\"\u001b[39m\u001b[33mscrot --pointer \u001b[39m\u001b[38;5;132;01m{\u001b[39;00mscreenshot_path\u001b[38;5;132;01m}\u001b[39;00m\u001b[33m\"\u001b[39m, envs={\u001b[33m\"\u001b[39m\u001b[33mDISPLAY\u001b[39m\u001b[33m\"\u001b[39m: \u001b[38;5;28mself\u001b[39m._display})\n\u001b[32m--> \u001b[39m\u001b[32m312\u001b[39m file = \u001b[38;5;28;43mself\u001b[39;49m\u001b[43m.\u001b[49m\u001b[43mfiles\u001b[49m\u001b[43m.\u001b[49m\u001b[43mread\u001b[49m\u001b[43m(\u001b[49m\u001b[43mscreenshot_path\u001b[49m\u001b[43m,\u001b[49m\u001b[43m \u001b[49m\u001b[38;5;28;43mformat\u001b[39;49m\u001b[43m=\u001b[49m\u001b[38;5;28;43mformat\u001b[39;49m\u001b[43m)\u001b[49m\n\u001b[32m    313\u001b[39m \u001b[38;5;28mself\u001b[39m.files.remove(screenshot_path)\n\u001b[32m    314\u001b[39m \u001b[38;5;28;01mreturn\u001b[39;00m file\n",
      "\u001b[36mFile \u001b[39m\u001b[32mc:\\Users\\richa\\miniconda3\\envs\\e2b\\Lib\\site-packages\\e2b\\sandbox_sync\\filesystem\\filesystem.py:119\u001b[39m, in \u001b[36mFilesystem.read\u001b[39m\u001b[34m(self, path, format, user, request_timeout)\u001b[39m\n\u001b[32m    112\u001b[39m \u001b[38;5;28;01mdef\u001b[39;00m\u001b[38;5;250m \u001b[39m\u001b[34mread\u001b[39m(\n\u001b[32m    113\u001b[39m     \u001b[38;5;28mself\u001b[39m,\n\u001b[32m    114\u001b[39m     path: \u001b[38;5;28mstr\u001b[39m,\n\u001b[32m   (...)\u001b[39m\u001b[32m    117\u001b[39m     request_timeout: Optional[\u001b[38;5;28mfloat\u001b[39m] = \u001b[38;5;28;01mNone\u001b[39;00m,\n\u001b[32m    118\u001b[39m ):\n\u001b[32m--> \u001b[39m\u001b[32m119\u001b[39m     r = \u001b[38;5;28;43mself\u001b[39;49m\u001b[43m.\u001b[49m\u001b[43m_envd_api\u001b[49m\u001b[43m.\u001b[49m\u001b[43mget\u001b[49m\u001b[43m(\u001b[49m\n\u001b[32m    120\u001b[39m \u001b[43m        \u001b[49m\u001b[43mENVD_API_FILES_ROUTE\u001b[49m\u001b[43m,\u001b[49m\n\u001b[32m    121\u001b[39m \u001b[43m        \u001b[49m\u001b[43mparams\u001b[49m\u001b[43m=\u001b[49m\u001b[43m{\u001b[49m\u001b[33;43m\"\u001b[39;49m\u001b[33;43mpath\u001b[39;49m\u001b[33;43m\"\u001b[39;49m\u001b[43m:\u001b[49m\u001b[43m \u001b[49m\u001b[43mpath\u001b[49m\u001b[43m,\u001b[49m\u001b[43m \u001b[49m\u001b[33;43m\"\u001b[39;49m\u001b[33;43musername\u001b[39;49m\u001b[33;43m\"\u001b[39;49m\u001b[43m:\u001b[49m\u001b[43m \u001b[49m\u001b[43muser\u001b[49m\u001b[43m}\u001b[49m\u001b[43m,\u001b[49m\n\u001b[32m    122\u001b[39m \u001b[43m        \u001b[49m\u001b[43mtimeout\u001b[49m\u001b[43m=\u001b[49m\u001b[38;5;28;43mself\u001b[39;49m\u001b[43m.\u001b[49m\u001b[43m_connection_config\u001b[49m\u001b[43m.\u001b[49m\u001b[43mget_request_timeout\u001b[49m\u001b[43m(\u001b[49m\u001b[43mrequest_timeout\u001b[49m\u001b[43m)\u001b[49m\u001b[43m,\u001b[49m\n\u001b[32m    123\u001b[39m \u001b[43m    \u001b[49m\u001b[43m)\u001b[49m\n\u001b[32m    125\u001b[39m     err = handle_envd_api_exception(r)\n\u001b[32m    126\u001b[39m     \u001b[38;5;28;01mif\u001b[39;00m err:\n",
      "\u001b[36mFile \u001b[39m\u001b[32mc:\\Users\\richa\\miniconda3\\envs\\e2b\\Lib\\site-packages\\httpx\\_client.py:1066\u001b[39m, in \u001b[36mClient.get\u001b[39m\u001b[34m(self, url, params, headers, cookies, auth, follow_redirects, timeout, extensions)\u001b[39m\n\u001b[32m   1049\u001b[39m \u001b[38;5;28;01mdef\u001b[39;00m\u001b[38;5;250m \u001b[39m\u001b[34mget\u001b[39m(\n\u001b[32m   1050\u001b[39m     \u001b[38;5;28mself\u001b[39m,\n\u001b[32m   1051\u001b[39m     url: URL | \u001b[38;5;28mstr\u001b[39m,\n\u001b[32m   (...)\u001b[39m\u001b[32m   1059\u001b[39m     extensions: RequestExtensions | \u001b[38;5;28;01mNone\u001b[39;00m = \u001b[38;5;28;01mNone\u001b[39;00m,\n\u001b[32m   1060\u001b[39m ) -> Response:\n\u001b[32m   1061\u001b[39m \u001b[38;5;250m    \u001b[39m\u001b[33;03m\"\"\"\u001b[39;00m\n\u001b[32m   1062\u001b[39m \u001b[33;03m    Send a `GET` request.\u001b[39;00m\n\u001b[32m   1063\u001b[39m \n\u001b[32m   1064\u001b[39m \u001b[33;03m    **Parameters**: See `httpx.request`.\u001b[39;00m\n\u001b[32m   1065\u001b[39m \u001b[33;03m    \"\"\"\u001b[39;00m\n\u001b[32m-> \u001b[39m\u001b[32m1066\u001b[39m     \u001b[38;5;28;01mreturn\u001b[39;00m \u001b[38;5;28;43mself\u001b[39;49m\u001b[43m.\u001b[49m\u001b[43mrequest\u001b[49m\u001b[43m(\u001b[49m\n\u001b[32m   1067\u001b[39m \u001b[43m        \u001b[49m\u001b[33;43m\"\u001b[39;49m\u001b[33;43mGET\u001b[39;49m\u001b[33;43m\"\u001b[39;49m\u001b[43m,\u001b[49m\n\u001b[32m   1068\u001b[39m \u001b[43m        \u001b[49m\u001b[43murl\u001b[49m\u001b[43m,\u001b[49m\n\u001b[32m   1069\u001b[39m \u001b[43m        \u001b[49m\u001b[43mparams\u001b[49m\u001b[43m=\u001b[49m\u001b[43mparams\u001b[49m\u001b[43m,\u001b[49m\n\u001b[32m   1070\u001b[39m \u001b[43m        \u001b[49m\u001b[43mheaders\u001b[49m\u001b[43m=\u001b[49m\u001b[43mheaders\u001b[49m\u001b[43m,\u001b[49m\n\u001b[32m   1071\u001b[39m \u001b[43m        \u001b[49m\u001b[43mcookies\u001b[49m\u001b[43m=\u001b[49m\u001b[43mcookies\u001b[49m\u001b[43m,\u001b[49m\n\u001b[32m   1072\u001b[39m \u001b[43m        \u001b[49m\u001b[43mauth\u001b[49m\u001b[43m=\u001b[49m\u001b[43mauth\u001b[49m\u001b[43m,\u001b[49m\n\u001b[32m   1073\u001b[39m \u001b[43m        \u001b[49m\u001b[43mfollow_redirects\u001b[49m\u001b[43m=\u001b[49m\u001b[43mfollow_redirects\u001b[49m\u001b[43m,\u001b[49m\n\u001b[32m   1074\u001b[39m \u001b[43m        \u001b[49m\u001b[43mtimeout\u001b[49m\u001b[43m=\u001b[49m\u001b[43mtimeout\u001b[49m\u001b[43m,\u001b[49m\n\u001b[32m   1075\u001b[39m \u001b[43m        \u001b[49m\u001b[43mextensions\u001b[49m\u001b[43m=\u001b[49m\u001b[43mextensions\u001b[49m\u001b[43m,\u001b[49m\n\u001b[32m   1076\u001b[39m \u001b[43m    \u001b[49m\u001b[43m)\u001b[49m\n",
      "\u001b[36mFile \u001b[39m\u001b[32mc:\\Users\\richa\\miniconda3\\envs\\e2b\\Lib\\site-packages\\httpx\\_client.py:837\u001b[39m, in \u001b[36mClient.request\u001b[39m\u001b[34m(self, method, url, content, data, files, json, params, headers, cookies, auth, follow_redirects, timeout, extensions)\u001b[39m\n\u001b[32m    822\u001b[39m     warnings.warn(message, \u001b[38;5;167;01mDeprecationWarning\u001b[39;00m)\n\u001b[32m    824\u001b[39m request = \u001b[38;5;28mself\u001b[39m.build_request(\n\u001b[32m    825\u001b[39m     method=method,\n\u001b[32m    826\u001b[39m     url=url,\n\u001b[32m   (...)\u001b[39m\u001b[32m    835\u001b[39m     extensions=extensions,\n\u001b[32m    836\u001b[39m )\n\u001b[32m--> \u001b[39m\u001b[32m837\u001b[39m \u001b[38;5;28;01mreturn\u001b[39;00m \u001b[38;5;28;43mself\u001b[39;49m\u001b[43m.\u001b[49m\u001b[43msend\u001b[49m\u001b[43m(\u001b[49m\u001b[43mrequest\u001b[49m\u001b[43m,\u001b[49m\u001b[43m \u001b[49m\u001b[43mauth\u001b[49m\u001b[43m=\u001b[49m\u001b[43mauth\u001b[49m\u001b[43m,\u001b[49m\u001b[43m \u001b[49m\u001b[43mfollow_redirects\u001b[49m\u001b[43m=\u001b[49m\u001b[43mfollow_redirects\u001b[49m\u001b[43m)\u001b[49m\n",
      "\u001b[36mFile \u001b[39m\u001b[32mc:\\Users\\richa\\miniconda3\\envs\\e2b\\Lib\\site-packages\\httpx\\_client.py:926\u001b[39m, in \u001b[36mClient.send\u001b[39m\u001b[34m(self, request, stream, auth, follow_redirects)\u001b[39m\n\u001b[32m    922\u001b[39m \u001b[38;5;28mself\u001b[39m._set_timeout(request)\n\u001b[32m    924\u001b[39m auth = \u001b[38;5;28mself\u001b[39m._build_request_auth(request, auth)\n\u001b[32m--> \u001b[39m\u001b[32m926\u001b[39m response = \u001b[38;5;28;43mself\u001b[39;49m\u001b[43m.\u001b[49m\u001b[43m_send_handling_auth\u001b[49m\u001b[43m(\u001b[49m\n\u001b[32m    927\u001b[39m \u001b[43m    \u001b[49m\u001b[43mrequest\u001b[49m\u001b[43m,\u001b[49m\n\u001b[32m    928\u001b[39m \u001b[43m    \u001b[49m\u001b[43mauth\u001b[49m\u001b[43m=\u001b[49m\u001b[43mauth\u001b[49m\u001b[43m,\u001b[49m\n\u001b[32m    929\u001b[39m \u001b[43m    \u001b[49m\u001b[43mfollow_redirects\u001b[49m\u001b[43m=\u001b[49m\u001b[43mfollow_redirects\u001b[49m\u001b[43m,\u001b[49m\n\u001b[32m    930\u001b[39m \u001b[43m    \u001b[49m\u001b[43mhistory\u001b[49m\u001b[43m=\u001b[49m\u001b[43m[\u001b[49m\u001b[43m]\u001b[49m\u001b[43m,\u001b[49m\n\u001b[32m    931\u001b[39m \u001b[43m\u001b[49m\u001b[43m)\u001b[49m\n\u001b[32m    932\u001b[39m \u001b[38;5;28;01mtry\u001b[39;00m:\n\u001b[32m    933\u001b[39m     \u001b[38;5;28;01mif\u001b[39;00m \u001b[38;5;129;01mnot\u001b[39;00m stream:\n",
      "\u001b[36mFile \u001b[39m\u001b[32mc:\\Users\\richa\\miniconda3\\envs\\e2b\\Lib\\site-packages\\httpx\\_client.py:954\u001b[39m, in \u001b[36mClient._send_handling_auth\u001b[39m\u001b[34m(self, request, auth, follow_redirects, history)\u001b[39m\n\u001b[32m    951\u001b[39m request = \u001b[38;5;28mnext\u001b[39m(auth_flow)\n\u001b[32m    953\u001b[39m \u001b[38;5;28;01mwhile\u001b[39;00m \u001b[38;5;28;01mTrue\u001b[39;00m:\n\u001b[32m--> \u001b[39m\u001b[32m954\u001b[39m     response = \u001b[38;5;28;43mself\u001b[39;49m\u001b[43m.\u001b[49m\u001b[43m_send_handling_redirects\u001b[49m\u001b[43m(\u001b[49m\n\u001b[32m    955\u001b[39m \u001b[43m        \u001b[49m\u001b[43mrequest\u001b[49m\u001b[43m,\u001b[49m\n\u001b[32m    956\u001b[39m \u001b[43m        \u001b[49m\u001b[43mfollow_redirects\u001b[49m\u001b[43m=\u001b[49m\u001b[43mfollow_redirects\u001b[49m\u001b[43m,\u001b[49m\n\u001b[32m    957\u001b[39m \u001b[43m        \u001b[49m\u001b[43mhistory\u001b[49m\u001b[43m=\u001b[49m\u001b[43mhistory\u001b[49m\u001b[43m,\u001b[49m\n\u001b[32m    958\u001b[39m \u001b[43m    \u001b[49m\u001b[43m)\u001b[49m\n\u001b[32m    959\u001b[39m     \u001b[38;5;28;01mtry\u001b[39;00m:\n\u001b[32m    960\u001b[39m         \u001b[38;5;28;01mtry\u001b[39;00m:\n",
      "\u001b[36mFile \u001b[39m\u001b[32mc:\\Users\\richa\\miniconda3\\envs\\e2b\\Lib\\site-packages\\httpx\\_client.py:991\u001b[39m, in \u001b[36mClient._send_handling_redirects\u001b[39m\u001b[34m(self, request, follow_redirects, history)\u001b[39m\n\u001b[32m    988\u001b[39m \u001b[38;5;28;01mfor\u001b[39;00m hook \u001b[38;5;129;01min\u001b[39;00m \u001b[38;5;28mself\u001b[39m._event_hooks[\u001b[33m\"\u001b[39m\u001b[33mrequest\u001b[39m\u001b[33m\"\u001b[39m]:\n\u001b[32m    989\u001b[39m     hook(request)\n\u001b[32m--> \u001b[39m\u001b[32m991\u001b[39m response = \u001b[38;5;28;43mself\u001b[39;49m\u001b[43m.\u001b[49m\u001b[43m_send_single_request\u001b[49m\u001b[43m(\u001b[49m\u001b[43mrequest\u001b[49m\u001b[43m)\u001b[49m\n\u001b[32m    992\u001b[39m \u001b[38;5;28;01mtry\u001b[39;00m:\n\u001b[32m    993\u001b[39m     \u001b[38;5;28;01mfor\u001b[39;00m hook \u001b[38;5;129;01min\u001b[39;00m \u001b[38;5;28mself\u001b[39m._event_hooks[\u001b[33m\"\u001b[39m\u001b[33mresponse\u001b[39m\u001b[33m\"\u001b[39m]:\n",
      "\u001b[36mFile \u001b[39m\u001b[32mc:\\Users\\richa\\miniconda3\\envs\\e2b\\Lib\\site-packages\\httpx\\_client.py:1027\u001b[39m, in \u001b[36mClient._send_single_request\u001b[39m\u001b[34m(self, request)\u001b[39m\n\u001b[32m   1022\u001b[39m     \u001b[38;5;28;01mraise\u001b[39;00m \u001b[38;5;167;01mRuntimeError\u001b[39;00m(\n\u001b[32m   1023\u001b[39m         \u001b[33m\"\u001b[39m\u001b[33mAttempted to send an async request with a sync Client instance.\u001b[39m\u001b[33m\"\u001b[39m\n\u001b[32m   1024\u001b[39m     )\n\u001b[32m   1026\u001b[39m \u001b[38;5;28;01mwith\u001b[39;00m request_context(request=request):\n\u001b[32m-> \u001b[39m\u001b[32m1027\u001b[39m     response = \u001b[43mtransport\u001b[49m\u001b[43m.\u001b[49m\u001b[43mhandle_request\u001b[49m\u001b[43m(\u001b[49m\u001b[43mrequest\u001b[49m\u001b[43m)\u001b[49m\n\u001b[32m   1029\u001b[39m \u001b[38;5;28;01massert\u001b[39;00m \u001b[38;5;28misinstance\u001b[39m(response.stream, SyncByteStream)\n\u001b[32m   1031\u001b[39m response.request = request\n",
      "\u001b[36mFile \u001b[39m\u001b[32mc:\\Users\\richa\\miniconda3\\envs\\e2b\\Lib\\site-packages\\e2b\\sandbox_sync\\main.py:23\u001b[39m, in \u001b[36mTransportWithLogger.handle_request\u001b[39m\u001b[34m(self, request)\u001b[39m\n\u001b[32m     21\u001b[39m url = \u001b[33mf\u001b[39m\u001b[33m\"\u001b[39m\u001b[38;5;132;01m{\u001b[39;00mrequest.url.scheme\u001b[38;5;132;01m}\u001b[39;00m\u001b[33m://\u001b[39m\u001b[38;5;132;01m{\u001b[39;00mrequest.url.host\u001b[38;5;132;01m}\u001b[39;00m\u001b[38;5;132;01m{\u001b[39;00mrequest.url.path\u001b[38;5;132;01m}\u001b[39;00m\u001b[33m\"\u001b[39m\n\u001b[32m     22\u001b[39m logger.info(\u001b[33mf\u001b[39m\u001b[33m\"\u001b[39m\u001b[33mRequest: \u001b[39m\u001b[38;5;132;01m{\u001b[39;00mrequest.method\u001b[38;5;132;01m}\u001b[39;00m\u001b[33m \u001b[39m\u001b[38;5;132;01m{\u001b[39;00murl\u001b[38;5;132;01m}\u001b[39;00m\u001b[33m\"\u001b[39m)\n\u001b[32m---> \u001b[39m\u001b[32m23\u001b[39m response = \u001b[38;5;28;43msuper\u001b[39;49m\u001b[43m(\u001b[49m\u001b[43m)\u001b[49m\u001b[43m.\u001b[49m\u001b[43mhandle_request\u001b[49m\u001b[43m(\u001b[49m\u001b[43mrequest\u001b[49m\u001b[43m)\u001b[49m\n\u001b[32m     25\u001b[39m \u001b[38;5;66;03m# data = connect.GzipCompressor.decompress(response.read()).decode()\u001b[39;00m\n\u001b[32m     26\u001b[39m logger.info(\u001b[33mf\u001b[39m\u001b[33m\"\u001b[39m\u001b[33mResponse: \u001b[39m\u001b[38;5;132;01m{\u001b[39;00mresponse.status_code\u001b[38;5;132;01m}\u001b[39;00m\u001b[33m \u001b[39m\u001b[38;5;132;01m{\u001b[39;00murl\u001b[38;5;132;01m}\u001b[39;00m\u001b[33m\"\u001b[39m)\n",
      "\u001b[36mFile \u001b[39m\u001b[32mc:\\Users\\richa\\miniconda3\\envs\\e2b\\Lib\\site-packages\\httpx\\_transports\\default.py:236\u001b[39m, in \u001b[36mHTTPTransport.handle_request\u001b[39m\u001b[34m(self, request)\u001b[39m\n\u001b[32m    223\u001b[39m req = httpcore.Request(\n\u001b[32m    224\u001b[39m     method=request.method,\n\u001b[32m    225\u001b[39m     url=httpcore.URL(\n\u001b[32m   (...)\u001b[39m\u001b[32m    233\u001b[39m     extensions=request.extensions,\n\u001b[32m    234\u001b[39m )\n\u001b[32m    235\u001b[39m \u001b[38;5;28;01mwith\u001b[39;00m map_httpcore_exceptions():\n\u001b[32m--> \u001b[39m\u001b[32m236\u001b[39m     resp = \u001b[38;5;28;43mself\u001b[39;49m\u001b[43m.\u001b[49m\u001b[43m_pool\u001b[49m\u001b[43m.\u001b[49m\u001b[43mhandle_request\u001b[49m\u001b[43m(\u001b[49m\u001b[43mreq\u001b[49m\u001b[43m)\u001b[49m\n\u001b[32m    238\u001b[39m \u001b[38;5;28;01massert\u001b[39;00m \u001b[38;5;28misinstance\u001b[39m(resp.stream, typing.Iterable)\n\u001b[32m    240\u001b[39m \u001b[38;5;28;01mreturn\u001b[39;00m Response(\n\u001b[32m    241\u001b[39m     status_code=resp.status,\n\u001b[32m    242\u001b[39m     headers=resp.headers,\n\u001b[32m    243\u001b[39m     stream=ResponseStream(resp.stream),\n\u001b[32m    244\u001b[39m     extensions=resp.extensions,\n\u001b[32m    245\u001b[39m )\n",
      "\u001b[36mFile \u001b[39m\u001b[32mc:\\Users\\richa\\miniconda3\\envs\\e2b\\Lib\\site-packages\\httpcore\\_sync\\connection_pool.py:256\u001b[39m, in \u001b[36mConnectionPool.handle_request\u001b[39m\u001b[34m(self, request)\u001b[39m\n\u001b[32m    253\u001b[39m         closing = \u001b[38;5;28mself\u001b[39m._assign_requests_to_connections()\n\u001b[32m    255\u001b[39m     \u001b[38;5;28mself\u001b[39m._close_connections(closing)\n\u001b[32m--> \u001b[39m\u001b[32m256\u001b[39m     \u001b[38;5;28;01mraise\u001b[39;00m exc \u001b[38;5;28;01mfrom\u001b[39;00m\u001b[38;5;250m \u001b[39m\u001b[38;5;28;01mNone\u001b[39;00m\n\u001b[32m    258\u001b[39m \u001b[38;5;66;03m# Return the response. Note that in this case we still have to manage\u001b[39;00m\n\u001b[32m    259\u001b[39m \u001b[38;5;66;03m# the point at which the response is closed.\u001b[39;00m\n\u001b[32m    260\u001b[39m \u001b[38;5;28;01massert\u001b[39;00m \u001b[38;5;28misinstance\u001b[39m(response.stream, typing.Iterable)\n",
      "\u001b[36mFile \u001b[39m\u001b[32mc:\\Users\\richa\\miniconda3\\envs\\e2b\\Lib\\site-packages\\httpcore\\_sync\\connection_pool.py:236\u001b[39m, in \u001b[36mConnectionPool.handle_request\u001b[39m\u001b[34m(self, request)\u001b[39m\n\u001b[32m    232\u001b[39m connection = pool_request.wait_for_connection(timeout=timeout)\n\u001b[32m    234\u001b[39m \u001b[38;5;28;01mtry\u001b[39;00m:\n\u001b[32m    235\u001b[39m     \u001b[38;5;66;03m# Send the request on the assigned connection.\u001b[39;00m\n\u001b[32m--> \u001b[39m\u001b[32m236\u001b[39m     response = \u001b[43mconnection\u001b[49m\u001b[43m.\u001b[49m\u001b[43mhandle_request\u001b[49m\u001b[43m(\u001b[49m\n\u001b[32m    237\u001b[39m \u001b[43m        \u001b[49m\u001b[43mpool_request\u001b[49m\u001b[43m.\u001b[49m\u001b[43mrequest\u001b[49m\n\u001b[32m    238\u001b[39m \u001b[43m    \u001b[49m\u001b[43m)\u001b[49m\n\u001b[32m    239\u001b[39m \u001b[38;5;28;01mexcept\u001b[39;00m ConnectionNotAvailable:\n\u001b[32m    240\u001b[39m     \u001b[38;5;66;03m# In some cases a connection may initially be available to\u001b[39;00m\n\u001b[32m    241\u001b[39m     \u001b[38;5;66;03m# handle a request, but then become unavailable.\u001b[39;00m\n\u001b[32m    242\u001b[39m     \u001b[38;5;66;03m#\u001b[39;00m\n\u001b[32m    243\u001b[39m     \u001b[38;5;66;03m# In this case we clear the connection and try again.\u001b[39;00m\n\u001b[32m    244\u001b[39m     pool_request.clear_connection()\n",
      "\u001b[36mFile \u001b[39m\u001b[32mc:\\Users\\richa\\miniconda3\\envs\\e2b\\Lib\\site-packages\\httpcore\\_sync\\connection.py:103\u001b[39m, in \u001b[36mHTTPConnection.handle_request\u001b[39m\u001b[34m(self, request)\u001b[39m\n\u001b[32m    100\u001b[39m     \u001b[38;5;28mself\u001b[39m._connect_failed = \u001b[38;5;28;01mTrue\u001b[39;00m\n\u001b[32m    101\u001b[39m     \u001b[38;5;28;01mraise\u001b[39;00m exc\n\u001b[32m--> \u001b[39m\u001b[32m103\u001b[39m \u001b[38;5;28;01mreturn\u001b[39;00m \u001b[38;5;28;43mself\u001b[39;49m\u001b[43m.\u001b[49m\u001b[43m_connection\u001b[49m\u001b[43m.\u001b[49m\u001b[43mhandle_request\u001b[49m\u001b[43m(\u001b[49m\u001b[43mrequest\u001b[49m\u001b[43m)\u001b[49m\n",
      "\u001b[36mFile \u001b[39m\u001b[32mc:\\Users\\richa\\miniconda3\\envs\\e2b\\Lib\\site-packages\\httpcore\\_sync\\http11.py:136\u001b[39m, in \u001b[36mHTTP11Connection.handle_request\u001b[39m\u001b[34m(self, request)\u001b[39m\n\u001b[32m    134\u001b[39m     \u001b[38;5;28;01mwith\u001b[39;00m Trace(\u001b[33m\"\u001b[39m\u001b[33mresponse_closed\u001b[39m\u001b[33m\"\u001b[39m, logger, request) \u001b[38;5;28;01mas\u001b[39;00m trace:\n\u001b[32m    135\u001b[39m         \u001b[38;5;28mself\u001b[39m._response_closed()\n\u001b[32m--> \u001b[39m\u001b[32m136\u001b[39m \u001b[38;5;28;01mraise\u001b[39;00m exc\n",
      "\u001b[36mFile \u001b[39m\u001b[32mc:\\Users\\richa\\miniconda3\\envs\\e2b\\Lib\\site-packages\\httpcore\\_sync\\http11.py:106\u001b[39m, in \u001b[36mHTTP11Connection.handle_request\u001b[39m\u001b[34m(self, request)\u001b[39m\n\u001b[32m     95\u001b[39m     \u001b[38;5;28;01mpass\u001b[39;00m\n\u001b[32m     97\u001b[39m \u001b[38;5;28;01mwith\u001b[39;00m Trace(\n\u001b[32m     98\u001b[39m     \u001b[33m\"\u001b[39m\u001b[33mreceive_response_headers\u001b[39m\u001b[33m\"\u001b[39m, logger, request, kwargs\n\u001b[32m     99\u001b[39m ) \u001b[38;5;28;01mas\u001b[39;00m trace:\n\u001b[32m    100\u001b[39m     (\n\u001b[32m    101\u001b[39m         http_version,\n\u001b[32m    102\u001b[39m         status,\n\u001b[32m    103\u001b[39m         reason_phrase,\n\u001b[32m    104\u001b[39m         headers,\n\u001b[32m    105\u001b[39m         trailing_data,\n\u001b[32m--> \u001b[39m\u001b[32m106\u001b[39m     ) = \u001b[38;5;28;43mself\u001b[39;49m\u001b[43m.\u001b[49m\u001b[43m_receive_response_headers\u001b[49m\u001b[43m(\u001b[49m\u001b[43m*\u001b[49m\u001b[43m*\u001b[49m\u001b[43mkwargs\u001b[49m\u001b[43m)\u001b[49m\n\u001b[32m    107\u001b[39m     trace.return_value = (\n\u001b[32m    108\u001b[39m         http_version,\n\u001b[32m    109\u001b[39m         status,\n\u001b[32m    110\u001b[39m         reason_phrase,\n\u001b[32m    111\u001b[39m         headers,\n\u001b[32m    112\u001b[39m     )\n\u001b[32m    114\u001b[39m network_stream = \u001b[38;5;28mself\u001b[39m._network_stream\n",
      "\u001b[36mFile \u001b[39m\u001b[32mc:\\Users\\richa\\miniconda3\\envs\\e2b\\Lib\\site-packages\\httpcore\\_sync\\http11.py:177\u001b[39m, in \u001b[36mHTTP11Connection._receive_response_headers\u001b[39m\u001b[34m(self, request)\u001b[39m\n\u001b[32m    174\u001b[39m timeout = timeouts.get(\u001b[33m\"\u001b[39m\u001b[33mread\u001b[39m\u001b[33m\"\u001b[39m, \u001b[38;5;28;01mNone\u001b[39;00m)\n\u001b[32m    176\u001b[39m \u001b[38;5;28;01mwhile\u001b[39;00m \u001b[38;5;28;01mTrue\u001b[39;00m:\n\u001b[32m--> \u001b[39m\u001b[32m177\u001b[39m     event = \u001b[38;5;28;43mself\u001b[39;49m\u001b[43m.\u001b[49m\u001b[43m_receive_event\u001b[49m\u001b[43m(\u001b[49m\u001b[43mtimeout\u001b[49m\u001b[43m=\u001b[49m\u001b[43mtimeout\u001b[49m\u001b[43m)\u001b[49m\n\u001b[32m    178\u001b[39m     \u001b[38;5;28;01mif\u001b[39;00m \u001b[38;5;28misinstance\u001b[39m(event, h11.Response):\n\u001b[32m    179\u001b[39m         \u001b[38;5;28;01mbreak\u001b[39;00m\n",
      "\u001b[36mFile \u001b[39m\u001b[32mc:\\Users\\richa\\miniconda3\\envs\\e2b\\Lib\\site-packages\\httpcore\\_sync\\http11.py:217\u001b[39m, in \u001b[36mHTTP11Connection._receive_event\u001b[39m\u001b[34m(self, timeout)\u001b[39m\n\u001b[32m    214\u001b[39m     event = \u001b[38;5;28mself\u001b[39m._h11_state.next_event()\n\u001b[32m    216\u001b[39m \u001b[38;5;28;01mif\u001b[39;00m event \u001b[38;5;129;01mis\u001b[39;00m h11.NEED_DATA:\n\u001b[32m--> \u001b[39m\u001b[32m217\u001b[39m     data = \u001b[38;5;28;43mself\u001b[39;49m\u001b[43m.\u001b[49m\u001b[43m_network_stream\u001b[49m\u001b[43m.\u001b[49m\u001b[43mread\u001b[49m\u001b[43m(\u001b[49m\n\u001b[32m    218\u001b[39m \u001b[43m        \u001b[49m\u001b[38;5;28;43mself\u001b[39;49m\u001b[43m.\u001b[49m\u001b[43mREAD_NUM_BYTES\u001b[49m\u001b[43m,\u001b[49m\u001b[43m \u001b[49m\u001b[43mtimeout\u001b[49m\u001b[43m=\u001b[49m\u001b[43mtimeout\u001b[49m\n\u001b[32m    219\u001b[39m \u001b[43m    \u001b[49m\u001b[43m)\u001b[49m\n\u001b[32m    221\u001b[39m     \u001b[38;5;66;03m# If we feed this case through h11 we'll raise an exception like:\u001b[39;00m\n\u001b[32m    222\u001b[39m     \u001b[38;5;66;03m#\u001b[39;00m\n\u001b[32m    223\u001b[39m     \u001b[38;5;66;03m#     httpcore.RemoteProtocolError: can't handle event type\u001b[39;00m\n\u001b[32m   (...)\u001b[39m\u001b[32m    227\u001b[39m     \u001b[38;5;66;03m# perspective. Instead we handle this case distinctly and treat\u001b[39;00m\n\u001b[32m    228\u001b[39m     \u001b[38;5;66;03m# it as a ConnectError.\u001b[39;00m\n\u001b[32m    229\u001b[39m     \u001b[38;5;28;01mif\u001b[39;00m data == \u001b[33mb\u001b[39m\u001b[33m\"\u001b[39m\u001b[33m\"\u001b[39m \u001b[38;5;129;01mand\u001b[39;00m \u001b[38;5;28mself\u001b[39m._h11_state.their_state == h11.SEND_RESPONSE:\n",
      "\u001b[36mFile \u001b[39m\u001b[32mc:\\Users\\richa\\miniconda3\\envs\\e2b\\Lib\\site-packages\\httpcore\\_backends\\sync.py:128\u001b[39m, in \u001b[36mSyncStream.read\u001b[39m\u001b[34m(self, max_bytes, timeout)\u001b[39m\n\u001b[32m    126\u001b[39m \u001b[38;5;28;01mwith\u001b[39;00m map_exceptions(exc_map):\n\u001b[32m    127\u001b[39m     \u001b[38;5;28mself\u001b[39m._sock.settimeout(timeout)\n\u001b[32m--> \u001b[39m\u001b[32m128\u001b[39m     \u001b[38;5;28;01mreturn\u001b[39;00m \u001b[38;5;28;43mself\u001b[39;49m\u001b[43m.\u001b[49m\u001b[43m_sock\u001b[49m\u001b[43m.\u001b[49m\u001b[43mrecv\u001b[49m\u001b[43m(\u001b[49m\u001b[43mmax_bytes\u001b[49m\u001b[43m)\u001b[49m\n",
      "\u001b[36mFile \u001b[39m\u001b[32mc:\\Users\\richa\\miniconda3\\envs\\e2b\\Lib\\ssl.py:1232\u001b[39m, in \u001b[36mSSLSocket.recv\u001b[39m\u001b[34m(self, buflen, flags)\u001b[39m\n\u001b[32m   1228\u001b[39m     \u001b[38;5;28;01mif\u001b[39;00m flags != \u001b[32m0\u001b[39m:\n\u001b[32m   1229\u001b[39m         \u001b[38;5;28;01mraise\u001b[39;00m \u001b[38;5;167;01mValueError\u001b[39;00m(\n\u001b[32m   1230\u001b[39m             \u001b[33m\"\u001b[39m\u001b[33mnon-zero flags not allowed in calls to recv() on \u001b[39m\u001b[38;5;132;01m%s\u001b[39;00m\u001b[33m\"\u001b[39m %\n\u001b[32m   1231\u001b[39m             \u001b[38;5;28mself\u001b[39m.\u001b[34m__class__\u001b[39m)\n\u001b[32m-> \u001b[39m\u001b[32m1232\u001b[39m     \u001b[38;5;28;01mreturn\u001b[39;00m \u001b[38;5;28;43mself\u001b[39;49m\u001b[43m.\u001b[49m\u001b[43mread\u001b[49m\u001b[43m(\u001b[49m\u001b[43mbuflen\u001b[49m\u001b[43m)\u001b[49m\n\u001b[32m   1233\u001b[39m \u001b[38;5;28;01melse\u001b[39;00m:\n\u001b[32m   1234\u001b[39m     \u001b[38;5;28;01mreturn\u001b[39;00m \u001b[38;5;28msuper\u001b[39m().recv(buflen, flags)\n",
      "\u001b[36mFile \u001b[39m\u001b[32mc:\\Users\\richa\\miniconda3\\envs\\e2b\\Lib\\ssl.py:1105\u001b[39m, in \u001b[36mSSLSocket.read\u001b[39m\u001b[34m(self, len, buffer)\u001b[39m\n\u001b[32m   1103\u001b[39m         \u001b[38;5;28;01mreturn\u001b[39;00m \u001b[38;5;28mself\u001b[39m._sslobj.read(\u001b[38;5;28mlen\u001b[39m, buffer)\n\u001b[32m   1104\u001b[39m     \u001b[38;5;28;01melse\u001b[39;00m:\n\u001b[32m-> \u001b[39m\u001b[32m1105\u001b[39m         \u001b[38;5;28;01mreturn\u001b[39;00m \u001b[38;5;28;43mself\u001b[39;49m\u001b[43m.\u001b[49m\u001b[43m_sslobj\u001b[49m\u001b[43m.\u001b[49m\u001b[43mread\u001b[49m\u001b[43m(\u001b[49m\u001b[38;5;28;43mlen\u001b[39;49m\u001b[43m)\u001b[49m\n\u001b[32m   1106\u001b[39m \u001b[38;5;28;01mexcept\u001b[39;00m SSLError \u001b[38;5;28;01mas\u001b[39;00m x:\n\u001b[32m   1107\u001b[39m     \u001b[38;5;28;01mif\u001b[39;00m x.args[\u001b[32m0\u001b[39m] == SSL_ERROR_EOF \u001b[38;5;129;01mand\u001b[39;00m \u001b[38;5;28mself\u001b[39m.suppress_ragged_eofs:\n",
      "\u001b[31mKeyboardInterrupt\u001b[39m: "
     ]
    }
   ],
   "source": [
    "for i in range(10):\n",
    "    print(f\"Iteration {i}\")\n",
    "    screenshot_message = get_screenshot_message(desktop, filename=\"../images/screenshot.jpg\")\n",
    "\n",
    "    point_json, _ = aiming_model.complete(user_messages=screenshot_message, debug=True)\n",
    "    print(point_json)\n",
    "    coords = aiming_model.parse_point_json(point_json)\n",
    "\n",
    "\n",
    "    if not coords:\n",
    "        content, response, tool_calls = gameplay_model.complete(user_messages=screenshot_message) # will use tools to move around\n",
    "        if tool_calls:\n",
    "            gameplay_model._handle_tool_calls(tool_calls=tool_calls)\n",
    "        else:\n",
    "            print(f\"The gameplay model did not return any tool calls. Response: {response}\")\n",
    "\n",
    "    else:\n",
    "        draw_point(point = coords, image_path=\"../images/screenshot.jpg\", output_path=\"../images/screenshot_annotated.jpg\")\n",
    "\n",
    "        mouse_movements = get_mouse_movements(coords=coords)\n",
    "        aim(mouse_movements, desktop=desktop)\n",
    "        shoot(desktop=desktop)"
   ]
  },
  {
   "cell_type": "code",
   "execution_count": null,
   "id": "e29619f4",
   "metadata": {},
   "outputs": [],
   "source": [
    "from datetime import datetime\n",
    "\n",
    "class ImageLoggingSettings:\n",
    "    def __init__(self, base_path=\"../images\"):\n",
    "        \"\"\"\n",
    "        Initializes settings for image logging.\n",
    "        Creates a unique directory for this session based on the current date and time.\n",
    "        \"\"\"\n",
    "        self.session_timestamp_str = datetime.now().strftime(\"%Y%m%d_%H%M%S\")\n",
    "        self.session_log_dir = os.path.join(base_path, self.session_timestamp_str)\n",
    "        os.makedirs(self.session_log_dir, exist_ok=True)\n",
    "        \n",
    "        # These will store the paths for the current iteration's images\n",
    "        self._current_screenshot_path = None\n",
    "        self._current_annotated_screenshot_path = None\n",
    "        \n",
    "        print(f\"Image logging session directory initialized: {self.session_log_dir}\")\n",
    "\n",
    "    def generate_new_paths_for_iteration(self):\n",
    "        \"\"\"\n",
    "        Generates and stores new, unique paths for a screenshot and its annotation\n",
    "        for the current processing iteration. This method should be called once at the\n",
    "        start of each iteration that requires image logging.\n",
    "        \"\"\"\n",
    "        iteration_file_timestamp_str = datetime.now().strftime(\"%Y%m%d_%H%M%S\")\n",
    "        screenshot_filename = f\"screenshot_{iteration_file_timestamp_str}.jpg\"\n",
    "        self._current_screenshot_path = os.path.join(self.session_log_dir, screenshot_filename)\n",
    "        \n",
    "        # Ensure annotated version uses the same unique timestamp as the screenshot\n",
    "        annotated_filename = f\"screenshot_annotated_{iteration_file_timestamp_str}.jpg\"\n",
    "        self._current_annotated_screenshot_path = os.path.join(self.session_log_dir, annotated_filename)\n",
    "\n",
    "    def get_screenshot_path(self) -> str:\n",
    "        \"\"\"\n",
    "        Returns the full path for the screenshot of the current iteration.\n",
    "        Ensure generate_new_paths_for_iteration() has been called for the current iteration.\n",
    "        \"\"\"\n",
    "        if self._current_screenshot_path is None:\n",
    "            # This case should ideally not be hit if generate_new_paths_for_iteration is called correctly.\n",
    "            # Consider raising an error or logging a more severe warning if strict ordering is critical.\n",
    "            print(\"Warning: get_screenshot_path() accessed before paths were generated for this iteration. Generating now.\")\n",
    "            self.generate_new_paths_for_iteration()\n",
    "        return self._current_screenshot_path\n",
    "\n",
    "    def get_annotated_screenshot_path(self) -> str:\n",
    "        \"\"\"\n",
    "        Returns the full path for the annotated screenshot of the current iteration.\n",
    "        Ensure generate_new_paths_for_iteration() has been called for the current iteration.\n",
    "        \"\"\"\n",
    "        if self._current_annotated_screenshot_path is None:\n",
    "            print(\"Warning: get_annotated_screenshot_path() accessed before paths were generated for this iteration. Generating now.\")\n",
    "            self.generate_new_paths_for_iteration()\n",
    "        return self._current_annotated_screenshot_path"
   ]
  },
  {
   "cell_type": "code",
   "execution_count": null,
   "id": "677d3293",
   "metadata": {},
   "outputs": [],
   "source": [
    "import concurrent.futures\n",
    "import time \n",
    "\n",
    "def process_models_concurrently(screenshot_message, aiming_model, gameplay_model):\n",
    "    \"\"\"\n",
    "    Runs aiming and gameplay models concurrently, prioritizing aiming results.\n",
    "    Returns coordinates if found, otherwise tool_calls from gameplay.\n",
    "    \"\"\"\n",
    "    tool_calls_output = None\n",
    "    aiming_model_time = 0\n",
    "    gameplay_model_time = 0 # Will only be set if gameplay_model.result() is called and used\n",
    "\n",
    "    with concurrent.futures.ThreadPoolExecutor(max_workers=2) as executor:\n",
    "        time_aiming_start = time.perf_counter()\n",
    "        future_aiming = executor.submit(aiming_model.complete, user_messages=screenshot_message)\n",
    "\n",
    "        time_gameplay_submit = time.perf_counter()\n",
    "        future_gameplay = executor.submit(gameplay_model.complete, user_messages=screenshot_message)\n",
    "\n",
    "        # Wait for aiming model to complete and get its execution time\n",
    "        point_json, _ = future_aiming.result()\n",
    "        time_aiming_end = time.perf_counter()\n",
    "        aiming_model_time = time_aiming_end - time_aiming_start\n",
    "        \n",
    "        parsed_coords = aiming_model.parse_point_json(point_json)\n",
    "\n",
    "        if parsed_coords:\n",
    "            # If coords are found, we don't necessarily wait for gameplay.\n",
    "            if not future_gameplay.done():\n",
    "                future_gameplay.cancel()\n",
    "            else:\n",
    "                try:\n",
    "                    _, _, _ = future_gameplay.result(timeout=0.01) # Quick check\n",
    "                except (concurrent.futures.TimeoutError, concurrent.futures.CancelledError):\n",
    "                    pass \n",
    "        else:\n",
    "                _, _, tool_calls_output = future_gameplay.result()\n",
    "                time_gameplay_wait_end = time.perf_counter()\n",
    "                # this time can be wrong\n",
    "                gameplay_model_time = time_gameplay_wait_end - time_gameplay_submit\n",
    "\n",
    "    return parsed_coords, tool_calls_output, aiming_model_time, gameplay_model_time\n",
    "\n",
    "# --- Configuration example #\n",
    "SCREENSHOT_PATH = \"../images/{log_dir_date_time}/screenshot_{datetime}.jpg\"\n",
    "ANNOTATED_SCREENSHOT_PATH = \"../images/{log_dir_date_time}/screenshot_annotated_{datime}.jpg\"\n",
    "\n",
    "def perform_aiming_sequence(coords, desktop):\n",
    "    \"\"\"\n",
    "    Executes the sequence of actions when coordinates are available.\n",
    "    \"\"\"\n",
    "    # print(f\"Coordinates found: {coords}. Proceeding with aiming and shooting.\") # Less verbose\n",
    "    draw_point(point=coords, image_path=SCREENSHOT_PATH, output_path=ANNOTATED_SCREENSHOT_PATH)\n",
    "    mouse_movements = get_mouse_movements(coords=coords)\n",
    "    aim(mouse_movements, desktop=desktop)\n",
    "    shoot(desktop=desktop)\n",
    "\n",
    "def handle_gameplay_actions(tool_calls, gameplay_model_instance): # Added gameplay_model_instance\n",
    "    \"\"\"\n",
    "    Handles the actions based on tool_calls from the gameplay model.\n",
    "    \"\"\"\n",
    "    if tool_calls:\n",
    "        # print(f\"No coordinates. Using tool_calls: {tool_calls}\") # Less verbose\n",
    "        gameplay_model_instance._handle_tool_calls(tool_calls=tool_calls)\n",
    "\n",
    "    else:\n",
    "        print(\"No coordinates found and no tool calls to execute from gameplay model.\")\n",
    "\n",
    "def run_game_loop(aiming_model, gameplay_model, desktop, iterations=10):\n",
    "    \"\"\"\n",
    "    Main loop for the game interaction with performance logging.\n",
    "    \"\"\"\n",
    "    total_loop_time_all_iterations = 0\n",
    "\n",
    "    for i in range(iterations):\n",
    "        iteration_start_time = time.perf_counter()\n",
    "        print(f\"\\n--- Iteration {i + 1} ---\")\n",
    "\n",
    "        # 1. Screenshot timing\n",
    "        screenshot_start_time = time.perf_counter()\n",
    "        screenshot_message = get_screenshot_message(desktop, filename=SCREENSHOT_PATH) # HEEEEEEEEEEEEEEERE\n",
    "        screenshot_end_time = time.perf_counter()\n",
    "        screenshot_time = screenshot_end_time - screenshot_start_time\n",
    "        print(f\"  [Time] Screenshot: {screenshot_time:.4f}s\")\n",
    "\n",
    "        # 2. Process models concurrently and get their timings\n",
    "        coords, tool_calls, aiming_time, gameplay_time = process_models_concurrently(\n",
    "            screenshot_message,\n",
    "            aiming_model,\n",
    "            gameplay_model\n",
    "        )\n",
    "        print(f\"  [Time] Aiming Model: {aiming_time:.4f}s\")\n",
    "\n",
    "        action_taken = \"None\"\n",
    "        if coords:\n",
    "            print(f\"  [Action] Coords found: {coords}. Aiming & Shooting.\")\n",
    "            perform_aiming_sequence(coords, desktop) # HEEEEEEEEEERE\n",
    "            action_taken = \"Aim & Shoot\"\n",
    "        else: # No coords, check tool_calls\n",
    "            if tool_calls:\n",
    "                print(f\"  [Action] No Coords. Using Gameplay Model Tool Calls.\")\n",
    "                if gameplay_time > 0: # Log gameplay time only if its result was used\n",
    "                    print(f\"  [Time] Gameplay Model: {gameplay_time:.4f}s\")\n",
    "                handle_gameplay_actions(tool_calls, gameplay_model) # Pass gameplay_model instance\n",
    "                action_taken = f\"Tool Calls: {tool_calls}\"\n",
    "            else:\n",
    "                print(f\"  [Action] No Coords, No Tool Calls.\")\n",
    "                if gameplay_time > 0: # Still log if it ran and we waited for it\n",
    "                     print(f\"  [Time] Gameplay Model (no valid output): {gameplay_time:.4f}s\")\n",
    "                action_taken = \"No Action\"\n",
    "\n",
    "        iteration_end_time = time.perf_counter()\n",
    "        iteration_total_time = iteration_end_time - iteration_start_time\n",
    "        total_loop_time_all_iterations += iteration_total_time\n",
    "        print(f\" Action taken: {action_taken}\")\n",
    "        print(f\"  [Time] Iteration {i+1} Total: {iteration_total_time:.4f}s\")"
   ]
  },
  {
   "cell_type": "code",
   "execution_count": 180,
   "id": "846a9e03",
   "metadata": {},
   "outputs": [
    {
     "name": "stdout",
     "output_type": "stream",
     "text": [
      "\n",
      "--- Iteration 1 ---\n",
      "  [Time] Screenshot: 0.9344s\n",
      "Model: qwen/qwen2.5-vl-32b-instruct\n",
      "Provider: Fireworks\n",
      "  [Time] Aiming Model: 1.5408s\n",
      "  [Action] No Coords. Using Gameplay Model Tool Calls.\n",
      "  [Time] Gameplay Model: 1.5384s\n",
      " Action taken: Tool Calls: [ChatCompletionMessageToolCall(id='tool_0_move_tool', function=Function(arguments='{\"key_sequence\":\"wwwww\"}', name='move_tool'), type='function', index=0)]\n",
      "  [Time] Iteration 1 Total: 4.8935s\n",
      "\n",
      "--- Iteration 2 ---\n",
      "  [Time] Screenshot: 1.5854s\n",
      "Model: qwen/qwen2.5-vl-32b-instruct\n",
      "Provider: Fireworks\n",
      "  [Time] Aiming Model: 1.8823s\n",
      "  [Action] No Coords. Using Gameplay Model Tool Calls.\n",
      "  [Time] Gameplay Model: 2.3514s\n",
      " Action taken: Tool Calls: [ChatCompletionMessageToolCall(id='tool_0_move_tool', function=Function(arguments='{\"key_sequence\":\"wwddd\"}', name='move_tool'), type='function', index=0)]\n",
      "  [Time] Iteration 2 Total: 6.4349s\n",
      "\n",
      "--- Iteration 3 ---\n",
      "  [Time] Screenshot: 1.9548s\n",
      "Model: qwen/qwen2.5-vl-32b-instruct\n",
      "Provider: Fireworks\n",
      "  [Time] Aiming Model: 3.8150s\n",
      "  [Action] No Coords. Using Gameplay Model Tool Calls.\n",
      "  [Time] Gameplay Model: 4.3076s\n",
      " Action taken: Tool Calls: [ChatCompletionMessageToolCall(id='tool_0_move_tool', function=Function(arguments='{\"key_sequence\":\"wwwww\"}', name='move_tool'), type='function', index=0)]\n",
      "  [Time] Iteration 3 Total: 8.8116s\n",
      "\n",
      "--- Iteration 4 ---\n",
      "  [Time] Screenshot: 1.9148s\n",
      "Model: qwen/qwen2.5-vl-32b-instruct\n",
      "Provider: Fireworks\n",
      "  [Time] Aiming Model: 4.0400s\n",
      "  [Action] Coords found: {'x': 1567, 'y': 554}. Aiming & Shooting.\n",
      " Action taken: Aim & Shoot\n",
      "  [Time] Iteration 4 Total: 12.2489s\n",
      "\n",
      "--- Iteration 5 ---\n",
      "  [Time] Screenshot: 1.0603s\n",
      "Model: qwen/qwen2.5-vl-72b-instruct\n",
      "Provider: Novita\n",
      "  [Time] Aiming Model: 31.1504s\n",
      "  [Action] No Coords. Using Gameplay Model Tool Calls.\n",
      "  [Time] Gameplay Model: 31.1404s\n",
      " Action taken: Tool Calls: [ChatCompletionMessageToolCall(id='tool_0_move_tool', function=Function(arguments='{\"key_sequence\":\"aaaaa\"}', name='move_tool'), type='function', index=0)]\n",
      "  [Time] Iteration 5 Total: 34.6802s\n",
      "\n",
      "--- Iteration 6 ---\n",
      "  [Time] Screenshot: 1.9907s\n",
      "Model: qwen/qwen2.5-vl-32b-instruct\n",
      "Provider: Fireworks\n",
      "  [Time] Aiming Model: 6.4629s\n",
      "  [Action] No Coords. Using Gameplay Model Tool Calls.\n",
      "  [Time] Gameplay Model: 6.4556s\n",
      " Action taken: Tool Calls: [ChatCompletionMessageToolCall(id='tool_0_move_tool', function=Function(arguments='{\"key_sequence\":\"wwadd\"}', name='move_tool'), type='function', index=0)]\n",
      "  [Time] Iteration 6 Total: 10.9089s\n",
      "\n",
      "--- Iteration 7 ---\n",
      "  [Time] Screenshot: 1.1154s\n",
      "Model: qwen/qwen2.5-vl-32b-instruct\n",
      "Provider: Fireworks\n"
     ]
    },
    {
     "ename": "KeyboardInterrupt",
     "evalue": "",
     "output_type": "error",
     "traceback": [
      "\u001b[31m---------------------------------------------------------------------------\u001b[39m",
      "\u001b[31mKeyboardInterrupt\u001b[39m                         Traceback (most recent call last)",
      "\u001b[36mCell\u001b[39m\u001b[36m \u001b[39m\u001b[32mIn[180]\u001b[39m\u001b[32m, line 1\u001b[39m\n\u001b[32m----> \u001b[39m\u001b[32m1\u001b[39m \u001b[43mrun_game_loop\u001b[49m\u001b[43m(\u001b[49m\n\u001b[32m      2\u001b[39m \u001b[43m    \u001b[49m\u001b[43maiming_model\u001b[49m\u001b[43m=\u001b[49m\u001b[43maiming_model\u001b[49m\u001b[43m,\u001b[49m\n\u001b[32m      3\u001b[39m \u001b[43m    \u001b[49m\u001b[43mgameplay_model\u001b[49m\u001b[43m=\u001b[49m\u001b[43mgameplay_model\u001b[49m\u001b[43m,\u001b[49m\n\u001b[32m      4\u001b[39m \u001b[43m    \u001b[49m\u001b[43mdesktop\u001b[49m\u001b[43m=\u001b[49m\u001b[43mdesktop\u001b[49m\u001b[43m,\u001b[49m\n\u001b[32m      5\u001b[39m \u001b[43m    \u001b[49m\u001b[43miterations\u001b[49m\u001b[43m=\u001b[49m\u001b[32;43m20\u001b[39;49m\u001b[43m \u001b[49m\u001b[38;5;66;43;03m# For demonstration\u001b[39;49;00m\n\u001b[32m      6\u001b[39m \u001b[43m)\u001b[49m \n",
      "\u001b[36mCell\u001b[39m\u001b[36m \u001b[39m\u001b[32mIn[154]\u001b[39m\u001b[32m, line 87\u001b[39m, in \u001b[36mrun_game_loop\u001b[39m\u001b[34m(aiming_model, gameplay_model, desktop, iterations)\u001b[39m\n\u001b[32m     84\u001b[39m \u001b[38;5;28mprint\u001b[39m(\u001b[33mf\u001b[39m\u001b[33m\"\u001b[39m\u001b[33m  [Time] Screenshot: \u001b[39m\u001b[38;5;132;01m{\u001b[39;00mscreenshot_time\u001b[38;5;132;01m:\u001b[39;00m\u001b[33m.4f\u001b[39m\u001b[38;5;132;01m}\u001b[39;00m\u001b[33ms\u001b[39m\u001b[33m\"\u001b[39m)\n\u001b[32m     86\u001b[39m \u001b[38;5;66;03m# 2. Process models concurrently and get their timings\u001b[39;00m\n\u001b[32m---> \u001b[39m\u001b[32m87\u001b[39m coords, tool_calls, aiming_time, gameplay_time = \u001b[43mprocess_models_concurrently\u001b[49m\u001b[43m(\u001b[49m\n\u001b[32m     88\u001b[39m \u001b[43m    \u001b[49m\u001b[43mscreenshot_message\u001b[49m\u001b[43m,\u001b[49m\n\u001b[32m     89\u001b[39m \u001b[43m    \u001b[49m\u001b[43maiming_model\u001b[49m\u001b[43m,\u001b[49m\n\u001b[32m     90\u001b[39m \u001b[43m    \u001b[49m\u001b[43mgameplay_model\u001b[49m\n\u001b[32m     91\u001b[39m \u001b[43m\u001b[49m\u001b[43m)\u001b[49m\n\u001b[32m     92\u001b[39m \u001b[38;5;28mprint\u001b[39m(\u001b[33mf\u001b[39m\u001b[33m\"\u001b[39m\u001b[33m  [Time] Aiming Model: \u001b[39m\u001b[38;5;132;01m{\u001b[39;00maiming_time\u001b[38;5;132;01m:\u001b[39;00m\u001b[33m.4f\u001b[39m\u001b[38;5;132;01m}\u001b[39;00m\u001b[33ms\u001b[39m\u001b[33m\"\u001b[39m)\n\u001b[32m     94\u001b[39m action_taken = \u001b[33m\"\u001b[39m\u001b[33mNone\u001b[39m\u001b[33m\"\u001b[39m\n",
      "\u001b[36mCell\u001b[39m\u001b[36m \u001b[39m\u001b[32mIn[154]\u001b[39m\u001b[32m, line 25\u001b[39m, in \u001b[36mprocess_models_concurrently\u001b[39m\u001b[34m(screenshot_message, aiming_model, gameplay_model)\u001b[39m\n\u001b[32m     22\u001b[39m future_gameplay = executor.submit(gameplay_model.complete, user_messages=screenshot_message)\n\u001b[32m     24\u001b[39m \u001b[38;5;66;03m# Wait for aiming model to complete and get its execution time\u001b[39;00m\n\u001b[32m---> \u001b[39m\u001b[32m25\u001b[39m point_json, _ = \u001b[43mfuture_aiming\u001b[49m\u001b[43m.\u001b[49m\u001b[43mresult\u001b[49m\u001b[43m(\u001b[49m\u001b[43m)\u001b[49m\n\u001b[32m     26\u001b[39m time_aiming_end = time.perf_counter()\n\u001b[32m     27\u001b[39m aiming_model_time = time_aiming_end - time_aiming_start\n",
      "\u001b[36mFile \u001b[39m\u001b[32mc:\\Users\\richa\\miniconda3\\envs\\e2b\\Lib\\concurrent\\futures\\_base.py:451\u001b[39m, in \u001b[36mFuture.result\u001b[39m\u001b[34m(self, timeout)\u001b[39m\n\u001b[32m    448\u001b[39m \u001b[38;5;28;01melif\u001b[39;00m \u001b[38;5;28mself\u001b[39m._state == FINISHED:\n\u001b[32m    449\u001b[39m     \u001b[38;5;28;01mreturn\u001b[39;00m \u001b[38;5;28mself\u001b[39m.__get_result()\n\u001b[32m--> \u001b[39m\u001b[32m451\u001b[39m \u001b[38;5;28;43mself\u001b[39;49m\u001b[43m.\u001b[49m\u001b[43m_condition\u001b[49m\u001b[43m.\u001b[49m\u001b[43mwait\u001b[49m\u001b[43m(\u001b[49m\u001b[43mtimeout\u001b[49m\u001b[43m)\u001b[49m\n\u001b[32m    453\u001b[39m \u001b[38;5;28;01mif\u001b[39;00m \u001b[38;5;28mself\u001b[39m._state \u001b[38;5;129;01min\u001b[39;00m [CANCELLED, CANCELLED_AND_NOTIFIED]:\n\u001b[32m    454\u001b[39m     \u001b[38;5;28;01mraise\u001b[39;00m CancelledError()\n",
      "\u001b[36mFile \u001b[39m\u001b[32mc:\\Users\\richa\\miniconda3\\envs\\e2b\\Lib\\threading.py:355\u001b[39m, in \u001b[36mCondition.wait\u001b[39m\u001b[34m(self, timeout)\u001b[39m\n\u001b[32m    353\u001b[39m \u001b[38;5;28;01mtry\u001b[39;00m:    \u001b[38;5;66;03m# restore state no matter what (e.g., KeyboardInterrupt)\u001b[39;00m\n\u001b[32m    354\u001b[39m     \u001b[38;5;28;01mif\u001b[39;00m timeout \u001b[38;5;129;01mis\u001b[39;00m \u001b[38;5;28;01mNone\u001b[39;00m:\n\u001b[32m--> \u001b[39m\u001b[32m355\u001b[39m         \u001b[43mwaiter\u001b[49m\u001b[43m.\u001b[49m\u001b[43macquire\u001b[49m\u001b[43m(\u001b[49m\u001b[43m)\u001b[49m\n\u001b[32m    356\u001b[39m         gotit = \u001b[38;5;28;01mTrue\u001b[39;00m\n\u001b[32m    357\u001b[39m     \u001b[38;5;28;01melse\u001b[39;00m:\n",
      "\u001b[31mKeyboardInterrupt\u001b[39m: "
     ]
    }
   ],
   "source": [
    "run_game_loop(\n",
    "    aiming_model=aiming_model,\n",
    "    gameplay_model=gameplay_model,\n",
    "    desktop=desktop,\n",
    "    iterations=20 # For demonstration\n",
    ") "
   ]
  },
  {
   "cell_type": "code",
   "execution_count": null,
   "id": "205255c5",
   "metadata": {},
   "outputs": [
    {
     "name": "stdout",
     "output_type": "stream",
     "text": [
      "Iteration 1\n",
      "[{'role': 'user', 'content': 'Current map: aim_map_2010.Design five consecutive movement steps to locate the enemy: 1) Choose a combined sequence of 5 keys (w/a/s/d) per move. 2) Return your answer by calling move_tool with the \\'key_sequence\\' parameter. Example: {\"name\": \"move_tool\", \"arguments\": {\"key_sequence\": \"wwaad\"}}'}]\n",
      "ChatCompletion(id='gen-1746896490-iwwebrGcnOAtNf09cx0H', choices=[Choice(finish_reason='stop', index=0, logprobs=None, message=ChatCompletionMessage(content='```json\\n{\"point\": {\"x\": \"1065\", \"y\": \"542\"}}\\n```', refusal=None, role='assistant', annotations=None, audio=None, function_call=None, tool_calls=None, reasoning=None), native_finish_reason='stop')], created=1746896490, model='qwen/qwen2.5-vl-72b-instruct', object='chat.completion', service_tier=None, system_fingerprint=None, usage=CompletionUsage(completion_tokens=25, prompt_tokens=2790, total_tokens=2815, completion_tokens_details=None, prompt_tokens_details=None), provider='Parasail')\n",
      "Aiming model output: ```json\n",
      "{\"point\": {\"x\": \"1065\", \"y\": \"542\"}}\n",
      "```\n",
      "Coordinates found: {'x': 1065, 'y': 542}. Proceeding with aiming and shooting.\n",
      "Aiming to coords 1: {'x': 1096, 'y': 542}\n",
      "------------------------------\n",
      "------------------------------\n",
      "Iteration 2\n",
      "[{'role': 'user', 'content': 'Current map: aim_map_2010.Design five consecutive movement steps to locate the enemy: 1) Choose a combined sequence of 5 keys (w/a/s/d) per move. 2) Return your answer by calling move_tool with the \\'key_sequence\\' parameter. Example: {\"name\": \"move_tool\", \"arguments\": {\"key_sequence\": \"wwaad\"}}'}]\n",
      "ChatCompletion(id='gen-1746896502-ZA3ibQnwfj0BHUDAGyTP', choices=[Choice(finish_reason='stop', index=0, logprobs=None, message=ChatCompletionMessage(content='None', refusal=None, role='assistant', annotations=None, audio=None, function_call=None, tool_calls=None, reasoning=None), native_finish_reason='stop')], created=1746896502, model='qwen/qwen2.5-vl-72b-instruct', object='chat.completion', service_tier=None, system_fingerprint=None, usage=CompletionUsage(completion_tokens=2, prompt_tokens=2790, total_tokens=2792, completion_tokens_details=None, prompt_tokens_details=None), provider='Parasail')\n",
      "Aiming model output: None\n",
      "No valid coords from aiming model, waiting for gameplay model.\n"
     ]
    },
    {
     "ename": "KeyboardInterrupt",
     "evalue": "",
     "output_type": "error",
     "traceback": [
      "\u001b[31m---------------------------------------------------------------------------\u001b[39m",
      "\u001b[31mKeyboardInterrupt\u001b[39m                         Traceback (most recent call last)",
      "\u001b[36mCell\u001b[39m\u001b[36m \u001b[39m\u001b[32mIn[124]\u001b[39m\u001b[32m, line 56\u001b[39m\n\u001b[32m     53\u001b[39m \u001b[38;5;28;01mtry\u001b[39;00m:\n\u001b[32m     54\u001b[39m     \u001b[38;5;66;03m# Wait for the gameplay future to complete if it hasn't been processed\u001b[39;00m\n\u001b[32m     55\u001b[39m     \u001b[38;5;28;01mif\u001b[39;00m \u001b[38;5;129;01mnot\u001b[39;00m future_gameplay.done() \u001b[38;5;129;01mor\u001b[39;00m \u001b[38;5;129;01mnot\u001b[39;00m tool_calls: \u001b[38;5;66;03m# check if tool_calls already populated\u001b[39;00m\n\u001b[32m---> \u001b[39m\u001b[32m56\u001b[39m         content_result, _, tool_calls_result = \u001b[43mfuture_gameplay\u001b[49m\u001b[43m.\u001b[49m\u001b[43mresult\u001b[49m\u001b[43m(\u001b[49m\u001b[43mtimeout\u001b[49m\u001b[43m=\u001b[49m\u001b[38;5;28;43;01mNone\u001b[39;49;00m\u001b[43m)\u001b[49m \u001b[38;5;66;03m# Wait indefinitely\u001b[39;00m\n\u001b[32m     57\u001b[39m         content = content_result\n\u001b[32m     58\u001b[39m         tool_calls = tool_calls_result\n",
      "\u001b[36mFile \u001b[39m\u001b[32mc:\\Users\\richa\\miniconda3\\envs\\e2b\\Lib\\concurrent\\futures\\_base.py:451\u001b[39m, in \u001b[36mFuture.result\u001b[39m\u001b[34m(self, timeout)\u001b[39m\n\u001b[32m    448\u001b[39m \u001b[38;5;28;01melif\u001b[39;00m \u001b[38;5;28mself\u001b[39m._state == FINISHED:\n\u001b[32m    449\u001b[39m     \u001b[38;5;28;01mreturn\u001b[39;00m \u001b[38;5;28mself\u001b[39m.__get_result()\n\u001b[32m--> \u001b[39m\u001b[32m451\u001b[39m \u001b[38;5;28;43mself\u001b[39;49m\u001b[43m.\u001b[49m\u001b[43m_condition\u001b[49m\u001b[43m.\u001b[49m\u001b[43mwait\u001b[49m\u001b[43m(\u001b[49m\u001b[43mtimeout\u001b[49m\u001b[43m)\u001b[49m\n\u001b[32m    453\u001b[39m \u001b[38;5;28;01mif\u001b[39;00m \u001b[38;5;28mself\u001b[39m._state \u001b[38;5;129;01min\u001b[39;00m [CANCELLED, CANCELLED_AND_NOTIFIED]:\n\u001b[32m    454\u001b[39m     \u001b[38;5;28;01mraise\u001b[39;00m CancelledError()\n",
      "\u001b[36mFile \u001b[39m\u001b[32mc:\\Users\\richa\\miniconda3\\envs\\e2b\\Lib\\threading.py:355\u001b[39m, in \u001b[36mCondition.wait\u001b[39m\u001b[34m(self, timeout)\u001b[39m\n\u001b[32m    353\u001b[39m \u001b[38;5;28;01mtry\u001b[39;00m:    \u001b[38;5;66;03m# restore state no matter what (e.g., KeyboardInterrupt)\u001b[39;00m\n\u001b[32m    354\u001b[39m     \u001b[38;5;28;01mif\u001b[39;00m timeout \u001b[38;5;129;01mis\u001b[39;00m \u001b[38;5;28;01mNone\u001b[39;00m:\n\u001b[32m--> \u001b[39m\u001b[32m355\u001b[39m         \u001b[43mwaiter\u001b[49m\u001b[43m.\u001b[49m\u001b[43macquire\u001b[49m\u001b[43m(\u001b[49m\u001b[43m)\u001b[49m\n\u001b[32m    356\u001b[39m         gotit = \u001b[38;5;28;01mTrue\u001b[39;00m\n\u001b[32m    357\u001b[39m     \u001b[38;5;28;01melse\u001b[39;00m:\n",
      "\u001b[31mKeyboardInterrupt\u001b[39m: "
     ]
    }
   ],
   "source": [
    "import concurrent.futures\n",
    "\n",
    "for i in range(10):\n",
    "    print(f\"Iteration {i+1}\") # Changed None to i+1 for clarity\n",
    "    screenshot_message = get_screenshot_message(desktop, filename=\"../images/screenshot.jpg\")\n",
    "\n",
    "    coords = None\n",
    "    point_json = None\n",
    "    content = None\n",
    "    tool_calls = None\n",
    "    aiming_done_first_and_valid = False\n",
    "\n",
    "    with concurrent.futures.ThreadPoolExecutor(max_workers=2) as executor:\n",
    "        future_aiming = executor.submit(aiming_model.complete, user_messages=screenshot_message, debug=True)\n",
    "        future_gameplay = executor.submit(gameplay_model.complete, user_messages=screenshot_message)\n",
    "\n",
    "        futures = [future_aiming, future_gameplay]\n",
    "        future_to_task = {future_aiming: \"aiming\", future_gameplay: \"gameplay\"}\n",
    "\n",
    "        try:\n",
    "            point_json_result, _ = future_aiming.result(timeout=None) \n",
    "            print(f\"Aiming model output: {point_json_result}\")\n",
    "            parsed_coords = aiming_model.parse_point_json(point_json_result)\n",
    "            if parsed_coords:\n",
    "                coords = parsed_coords\n",
    "                aiming_done_first_and_valid = True\n",
    "                # If coords are found, we can cancel the gameplay future if it's not needed\n",
    "                # and not already running or completed.\n",
    "                if not future_gameplay.done():\n",
    "                    future_gameplay.cancel()\n",
    "                else: # if it's already done, get its result to avoid unretrieved exception\n",
    "                    try:\n",
    "                        content_result, response, tool_calls_result = future_gameplay.result(timeout=0.1)\n",
    "                        content = content_result\n",
    "                        tool_calls = tool_calls_result\n",
    "                        print(\"Gameplay model completed even though coords were found.\")\n",
    "                    except (concurrent.futures.TimeoutError, concurrent.futures.CancelledError):\n",
    "                        print(\"Gameplay model was cancelled or timed out after aiming was successful.\")\n",
    "                    except Exception as e:\n",
    "                        print(f\"Error retrieving result from already done gameplay future: {e}\")\n",
    "\n",
    "\n",
    "        except Exception as e:\n",
    "            print(f\"Error in aiming_model.complete: {e}\")\n",
    "\n",
    "        # If coords were found and processed, we skip waiting for gameplay if it was cancelled\n",
    "        if aiming_done_first_and_valid:\n",
    "            pass # Handled above\n",
    "        else:\n",
    "            # If coords were not found from aiming_model (either it failed or returned no coords)\n",
    "            # we now need the result from gameplay_model\n",
    "            print(\"No valid coords from aiming model, waiting for gameplay model.\")\n",
    "            try:\n",
    "                # Wait for the gameplay future to complete if it hasn't been processed\n",
    "                if not future_gameplay.done() or not tool_calls: # check if tool_calls already populated\n",
    "                    content_result, _, tool_calls_result = future_gameplay.result(timeout=None) # Wait indefinitely\n",
    "                    content = content_result\n",
    "                    tool_calls = tool_calls_result\n",
    "                    print(f\"Gameplay model output: content='{content}', tool_calls='{tool_calls}'\")\n",
    "            except concurrent.futures.CancelledError:\n",
    "                print(\"Gameplay model task was cancelled.\")\n",
    "            except Exception as e:\n",
    "                print(f\"Error in gameplay_model.complete: {e}\")\n",
    "\n",
    "\n",
    "    # Logic based on the results\n",
    "    if coords:\n",
    "        print(f\"Coordinates found: {coords}. Proceeding with aiming and shooting.\")\n",
    "        draw_point(point=coords, image_path=\"../images/screenshot.jpg\", output_path=\"../images/screenshot_annotated.jpg\")\n",
    "        mouse_movements = get_mouse_movements(coords=coords)\n",
    "        aim(mouse_movements, desktop=desktop)\n",
    "        shoot(desktop=desktop)\n",
    "    elif tool_calls: # If no coords, but we have tool_calls from the gameplay model\n",
    "        print(f\"No coordinates. Using tool_calls: {tool_calls}\")\n",
    "        gameplay_model._handle_tool_calls(tool_calls=tool_calls)\n",
    "    else:\n",
    "        print(f\"The gameplay model did not return any tool calls. Response.\") # print the response here.\n",
    "\n",
    "    print(\"-\" * 30) # Separator for iterations"
   ]
  }
 ],
 "metadata": {
  "kernelspec": {
   "display_name": "e2b",
   "language": "python",
   "name": "python3"
  },
  "language_info": {
   "codemirror_mode": {
    "name": "ipython",
    "version": 3
   },
   "file_extension": ".py",
   "mimetype": "text/x-python",
   "name": "python",
   "nbconvert_exporter": "python",
   "pygments_lexer": "ipython3",
   "version": "3.12.9"
  }
 },
 "nbformat": 4,
 "nbformat_minor": 5
}

{
 "cells": [
  {
   "cell_type": "code",
   "execution_count": 32,
   "id": "0b9fea95",
   "metadata": {},
   "outputs": [
    {
     "name": "stdout",
     "output_type": "stream",
     "text": [
      "The autoreload extension is already loaded. To reload it, use:\n",
      "  %reload_ext autoreload\n"
     ]
    }
   ],
   "source": [
    "# automatically load changes from the sandbox_steps module\n",
    "%load_ext autoreload\n",
    "%autoreload 2"
   ]
  },
  {
   "cell_type": "code",
   "execution_count": 33,
   "id": "3df2a758",
   "metadata": {},
   "outputs": [],
   "source": [
    "import sys\n",
    "import os\n",
    "from e2b_desktop import Sandbox, CommandExitException\n",
    "from dotenv import load_dotenv\n",
    "load_dotenv()\n",
    "\n",
    "sys.path.append(os.path.abspath('..')) # Add the parent directory (project root) to sys.path\n",
    "\n",
    "from counter_strike.install_cs import install_cs_1_6\n",
    "from counter_strike.image_handling import get_screenshot_message, draw_point, get_screenshot\n",
    "\n",
    "from llms.models import AimingModel\n",
    "\n",
    "E2B_API_KEY = os.environ.get(\"E2B_API_KEY\")\n",
    "CS_SERVER_IP = os.environ.get(\"CS_SERVER_IP\")\n"
   ]
  },
  {
   "cell_type": "code",
   "execution_count": 34,
   "id": "1a496eaa",
   "metadata": {},
   "outputs": [
    {
     "name": "stdout",
     "output_type": "stream",
     "text": [
      "https://6080-imh51qd8ks5os9p4e30i4-f3c1fb85.e2b.app/vnc.html?autoconnect=true&resize=scale\n",
      "https://6080-imh51qd8ks5os9p4e30i4-f3c1fb85.e2b.app/vnc.html?autoconnect=true&view_only=true&resize=scale\n"
     ]
    }
   ],
   "source": [
    "# With custom configuration\n",
    "desktop = Sandbox(\n",
    "    display=\":0\",  # Custom display (defaults to :0)\n",
    "    resolution=(1920, 1080),  # Custom resolution\n",
    "    timeout = 3600) \n",
    "\n",
    "desktop.stream.start()\n",
    "\n",
    "# Get stream URL\n",
    "url = desktop.stream.get_url()\n",
    "print(url)\n",
    "\n",
    "# only viewing \n",
    "url_view = desktop.stream.get_url(view_only=True)\n",
    "print(url_view)"
   ]
  },
  {
   "cell_type": "code",
   "execution_count": 35,
   "id": "f0668a28",
   "metadata": {},
   "outputs": [],
   "source": [
    "install_cs_1_6(desktop=desktop)"
   ]
  },
  {
   "cell_type": "markdown",
   "id": "fc5dcc52",
   "metadata": {},
   "source": [
    "### Steps to connect to the server"
   ]
  },
  {
   "cell_type": "code",
   "execution_count": null,
   "id": "0ddd5cb9",
   "metadata": {},
   "outputs": [
    {
     "name": "stdout",
     "output_type": "stream",
     "text": [
      "0\n",
      "1\n"
     ]
    }
   ],
   "source": [
    "def connect_to_server(desktop: \"Sandbox\"):\n",
    "    desktop.wait(5000)\n",
    "    desktop.left_click(76, 948) # click on Find Servers\n",
    "    desktop.wait(1000)\n",
    "    desktop.left_click(258, 76) # Click on Favorites Tab\n",
    "    desktop.wait(1000)\n",
    "    desktop.left_click(665, 604) # Add server\n",
    "    desktop.wait(1000)\n",
    "    desktop.write(text=CS_SERVER_IP) # Type server ip Address\n",
    "    desktop.wait(500)\n",
    "    desktop.left_click(1119, 527) # Add server to favourites\n",
    "    desktop.wait(500)\n",
    "    desktop.left_click(273, 126) # Select the added server\n",
    "    desktop.wait(500)\n",
    "    desktop.left_click(849, 606) # Connect\n",
    "    # Now wait at least 2 mins for connection and Download\n",
    "    for i in range(5):\n",
    "        print(i)\n",
    "        desktop.wait(30_000)\n",
    "\n",
    "connect_to_server(desktop)"
   ]
  },
  {
   "cell_type": "code",
   "execution_count": null,
   "id": "11893a72",
   "metadata": {},
   "outputs": [],
   "source": [
    "# steps to connect to the game\n",
    "desktop.press(\"enter\")\n",
    "desktop.wait(300)\n",
    "desktop.press(\"1\") # 1=T, 2=CT, 6=SPECTATE\n",
    "desktop.wait(300)\n",
    "desktop.press(\"4\") # T side: Guerilla warfare skin because they have the red headband\n",
    "\n",
    "# congrats, you joined the game!!"
   ]
  },
  {
   "cell_type": "code",
   "execution_count": null,
   "id": "e0713e56",
   "metadata": {},
   "outputs": [],
   "source": [
    "desktop.left_click(170, 10)     "
   ]
  },
  {
   "cell_type": "code",
   "execution_count": 3,
   "id": "fd42c30f",
   "metadata": {},
   "outputs": [],
   "source": [
    "desktop.kill()"
   ]
  },
  {
   "cell_type": "code",
   "execution_count": 11,
   "id": "7dc4374b",
   "metadata": {},
   "outputs": [
    {
     "name": "stdout",
     "output_type": "stream",
     "text": [
      "['qwen/qwen2.5-vl-32b-instruct', 'qwen/qwen2.5-vl-72b-instruct', 'qwen/qwen-2.5-vl-7b-instruct', 'qwen/qwen2.5-vl-32b-instruct:free']\n",
      "qwen/qwen2.5-vl-72b-instruct\n",
      "['qwen/qwen2.5-vl-32b-instruct', 'qwen/qwen-2.5-vl-7b-instruct', 'qwen/qwen2.5-vl-32b-instruct:free']\n"
     ]
    }
   ],
   "source": [
    "from counter_strike.image_handling import get_mouse_movements\n",
    "from counter_strike.controls import aim, shoot\n",
    "\n",
    "from llms.models import AimingModel\n",
    "\n",
    "aiming_model = AimingModel(model=\"qwen/qwen2.5-vl-72b-instruct\")"
   ]
  },
  {
   "cell_type": "code",
   "execution_count": 12,
   "id": "7512e965",
   "metadata": {},
   "outputs": [
    {
     "data": {
      "text/plain": [
       "'move_tool'"
      ]
     },
     "execution_count": 12,
     "metadata": {},
     "output_type": "execute_result"
    }
   ],
   "source": [
    "from llms.tools import MoveTool\n",
    "from llms.models import OpenRouterGameplayModel\n",
    "\n",
    "move_tool = MoveTool(desktop=desktop)\n",
    "tools_move = {move_tool.name: move_tool}\n",
    "\n",
    "gameplay_model = OpenRouterGameplayModel(tools=tools_move, model=\"google/gemini-2.5-flash-preview\")\n",
    "move_tool.name"
   ]
  },
  {
   "cell_type": "code",
   "execution_count": 96,
   "id": "bea0611b",
   "metadata": {},
   "outputs": [],
   "source": [
    "user_message = [{\n",
    "    \"role\": \"user\",\n",
    "    \"content\": [\n",
    "        {\n",
    "            \"type\": \"text\",\n",
    "            \"text\": f\"This is the current state of your counterstrike deathmatch game. Choose the keystrokes to do and execute them with the move tool. It's up to you to choose the best action.\",\n",
    "        },\n",
    "        ]\n",
    "    }\n",
    "]\n",
    "\n",
    "messages = screenshot_message + user_message"
   ]
  },
  {
   "cell_type": "code",
   "execution_count": 97,
   "id": "c23b41ad",
   "metadata": {},
   "outputs": [
    {
     "name": "stdout",
     "output_type": "stream",
     "text": [
      "Arguments: {'key_sequence': 'wwwwwwwwwwwwwwwwwwww'}\n",
      "The model halucinated a tool move_character_directional. The tool is not defined.\n"
     ]
    },
    {
     "data": {
      "text/plain": [
       "('',\n",
       " ChatCompletion(id='gen-1746872604-PaJ4DjO3AC8NJGYpOG08', choices=[Choice(finish_reason='tool_calls', index=0, logprobs=None, message=ChatCompletionMessage(content='', refusal=None, role='assistant', annotations=None, audio=None, function_call=None, tool_calls=[ChatCompletionMessageToolCall(id='tool_0_move_character_directional', function=Function(arguments='{\"key_sequence\":\"wwwwwwwwwwwwwwwwwwww\"}', name='move_character_directional'), type='function', index=0)], reasoning=None), native_finish_reason='STOP')], created=1746872604, model='google/gemini-2.5-flash-preview', object='chat.completion', service_tier=None, system_fingerprint=None, usage=CompletionUsage(completion_tokens=11, prompt_tokens=1941, total_tokens=1952, completion_tokens_details=None, prompt_tokens_details=None), provider='Google'))"
      ]
     },
     "execution_count": 97,
     "metadata": {},
     "output_type": "execute_result"
    }
   ],
   "source": [
    "gameplay_model.complete(messages)"
   ]
  },
  {
   "cell_type": "code",
   "execution_count": 31,
   "id": "d37bf48f",
   "metadata": {},
   "outputs": [
    {
     "name": "stdout",
     "output_type": "stream",
     "text": [
      "Iteration None\n",
      "ChatCompletion(id='gen-1746874166-aClgoP9lS2FziF4t1EQ6', choices=[Choice(finish_reason='stop', index=0, logprobs=None, message=ChatCompletionMessage(content='{\"point\": {\"x\": \"80\", \"y\": \"440\"}}', refusal=None, role='assistant', annotations=None, audio=None, function_call=None, tool_calls=None, reasoning=None), native_finish_reason='stop')], created=1746874166, model='qwen/qwen2.5-vl-72b-instruct', object='chat.completion', service_tier=None, system_fingerprint=None, usage=CompletionUsage(completion_tokens=19, prompt_tokens=2790, total_tokens=2809, completion_tokens_details=None, prompt_tokens_details=None), provider='Parasail')\n",
      "{\"point\": {\"x\": \"80\", \"y\": \"440\"}}\n",
      "coords: {'x': 80, 'y': 440}\n",
      "Aiming to coords 1: {'x': 0, 'y': 410}\n",
      "Aiming to coords 2: {'x': 776, 'y': 540}\n",
      "------------------------------\n",
      "Iteration None\n",
      "ChatCompletion(id='gen-1746874178-n5Ndu7wqB1162Sxn3uTD', choices=[Choice(finish_reason='stop', index=0, logprobs=None, message=ChatCompletionMessage(content='{\"point\": {\"x\": \"1105\", \"y\": \"528\"}}', refusal=None, role='assistant', annotations=None, audio=None, function_call=None, tool_calls=None, reasoning=None), native_finish_reason='stop')], created=1746874178, model='qwen/qwen2.5-vl-72b-instruct', object='chat.completion', service_tier=None, system_fingerprint=None, usage=CompletionUsage(completion_tokens=21, prompt_tokens=2790, total_tokens=2811, completion_tokens_details=None, prompt_tokens_details=None), provider='Parasail')\n",
      "{\"point\": {\"x\": \"1105\", \"y\": \"528\"}}\n",
      "coords: {'x': 1105, 'y': 528}\n",
      "Aiming to coords 1: {'x': 1148, 'y': 524}\n",
      "------------------------------\n",
      "Iteration None\n",
      "ChatCompletion(id='gen-1746874190-ROep09tb1V1WEjW4ZodB', choices=[Choice(finish_reason='stop', index=0, logprobs=None, message=ChatCompletionMessage(content='{\"point\": {\"x\": \"960\", \"y\": \"530\"}}', refusal=None, role='assistant', annotations=None, audio=None, function_call=None, tool_calls=None, reasoning=None), native_finish_reason='stop')], created=1746874190, model='qwen/qwen2.5-vl-72b-instruct', object='chat.completion', service_tier=None, system_fingerprint=None, usage=CompletionUsage(completion_tokens=20, prompt_tokens=2790, total_tokens=2810, completion_tokens_details=None, prompt_tokens_details=None), provider='Parasail')\n",
      "{\"point\": {\"x\": \"960\", \"y\": \"530\"}}\n",
      "coords: {'x': 960, 'y': 530}\n",
      "Aiming to coords 1: {'x': 960, 'y': 527}\n",
      "------------------------------\n"
     ]
    }
   ],
   "source": [
    "for i in range(3):\n",
    "    user_message = [{\n",
    "        \"role\": \"user\",\n",
    "        \"content\": [\n",
    "            {\n",
    "                \"type\": \"text\",\n",
    "                \"text\": f\"This is the current state of your counterstrike deathmatch game. Choose the keystrokes to do and execute them with the move tool. It's up to you to choose the best action.\",\n",
    "            },\n",
    "            ]\n",
    "        }\n",
    "    ]\n",
    "\n",
    "    print(f\"Iteration {None}\")\n",
    "    screenshot_message = get_screenshot_message(desktop, filename=\"../images/screenshot.jpg\")\n",
    "\n",
    "    point_json, _ = aiming_model.complete(user_messages=screenshot_message, debug=True)\n",
    "    print(point_json)\n",
    "    coords = aiming_model.parse_point_json(point_json)\n",
    "    print(f\"coords: {coords}\")\n",
    "    if not coords:\n",
    "        # TODO: Define agentic logic to move around \n",
    "        print(\"Letting gemini move:\")\n",
    "        messages = screenshot_message + user_message\n",
    "        print(gameplay_model.complete(messages)) # will use tools to move around\n",
    "        pass\n",
    "\n",
    "    else:\n",
    "        draw_point(point = coords, image_path=\"../images/screenshot.jpg\", output_path=\"../images/screenshot_annotated.jpg\")\n",
    "\n",
    "        mouse_movements = get_mouse_movements(coords=coords)\n",
    "        aim(mouse_movements, desktop=desktop)\n",
    "        shoot(desktop=desktop)"
   ]
  }
 ],
 "metadata": {
  "kernelspec": {
   "display_name": "e2b",
   "language": "python",
   "name": "python3"
  },
  "language_info": {
   "codemirror_mode": {
    "name": "ipython",
    "version": 3
   },
   "file_extension": ".py",
   "mimetype": "text/x-python",
   "name": "python",
   "nbconvert_exporter": "python",
   "pygments_lexer": "ipython3",
   "version": "3.12.9"
  }
 },
 "nbformat": 4,
 "nbformat_minor": 5
}

{
 "cells": [
  {
   "cell_type": "code",
   "execution_count": 2,
   "id": "0b9fea95",
   "metadata": {},
   "outputs": [],
   "source": [
    "# automatically load changes from the sandbox_steps module\n",
    "%load_ext autoreload\n",
    "%autoreload 2"
   ]
  },
  {
   "cell_type": "code",
   "execution_count": 32,
   "id": "3df2a758",
   "metadata": {},
   "outputs": [],
   "source": [
    "import sys\n",
    "import os\n",
    "from e2b_desktop import Sandbox, CommandExitException\n",
    "from dotenv import load_dotenv\n",
    "load_dotenv()\n",
    "\n",
    "sys.path.append(os.path.abspath('..')) # Add the parent directory (project root) to sys.path\n",
    "\n",
    "from counter_strike.install_cs import install_cs_1_6\n",
    "from counter_strike.image_handling import get_screenshot_message, draw_point\n",
    "\n",
    "from llms.models import AimingModel\n",
    "\n",
    "E2B_API_KEY = os.environ.get(\"E2B_API_KEY\")\n",
    "CS_SERVER_IP = os.environ.get(\"CS_SERVER_IP\")\n"
   ]
  },
  {
   "cell_type": "code",
   "execution_count": 253,
   "id": "1a496eaa",
   "metadata": {},
   "outputs": [
    {
     "name": "stdout",
     "output_type": "stream",
     "text": [
      "https://6080-i5owxn6gg98tek7o4kqnh-f3c1fb85.e2b.app/vnc.html?autoconnect=true&resize=scale\n",
      "https://6080-i5owxn6gg98tek7o4kqnh-f3c1fb85.e2b.app/vnc.html?autoconnect=true&view_only=true&resize=scale\n"
     ]
    }
   ],
   "source": [
    "# With custom configuration\n",
    "desktop = Sandbox(\n",
    "    display=\":0\",  # Custom display (defaults to :0)\n",
    "    resolution=(1920, 1080),  # Custom resolution\n",
    "    timeout = 3600) \n",
    "\n",
    "desktop.stream.start()\n",
    "\n",
    "# Get stream URL\n",
    "url = desktop.stream.get_url()\n",
    "print(url)\n",
    "\n",
    "# only viewing \n",
    "url_view = desktop.stream.get_url(view_only=True)\n",
    "print(url_view)"
   ]
  },
  {
   "cell_type": "code",
   "execution_count": 254,
   "id": "f0668a28",
   "metadata": {},
   "outputs": [],
   "source": [
    "install_cs_1_6(desktop=desktop)"
   ]
  },
  {
   "cell_type": "markdown",
   "id": "fc5dcc52",
   "metadata": {},
   "source": [
    "### Steps to connect to the server"
   ]
  },
  {
   "cell_type": "code",
   "execution_count": 257,
   "id": "0ddd5cb9",
   "metadata": {},
   "outputs": [
    {
     "name": "stdout",
     "output_type": "stream",
     "text": [
      "0\n",
      "1\n",
      "2\n",
      "3\n",
      "4\n"
     ]
    }
   ],
   "source": [
    "desktop.wait(5000)\n",
    "desktop.left_click(76, 948) # click on Find Servers\n",
    "desktop.wait(1000)\n",
    "desktop.left_click(258, 76) # Click on Favorites Tab\n",
    "desktop.wait(1000)\n",
    "desktop.left_click(665, 604) # Add server\n",
    "desktop.wait(1000)\n",
    "desktop.write(text=CS_SERVER_IP) # Type server ip Address\n",
    "desktop.wait(500)\n",
    "desktop.left_click(1119, 527) # Add server to favourites\n",
    "desktop.wait(500)\n",
    "desktop.left_click(273, 126) # Select the added server\n",
    "desktop.wait(500)\n",
    "desktop.left_click(849, 606) # Connect\n",
    "for i in range(5):\n",
    "    print(i)\n",
    "    desktop.wait(30_000)\n",
    "\n",
    "\n",
    "# Now wait at least 2 mins for connection and Download"
   ]
  },
  {
   "cell_type": "code",
   "execution_count": null,
   "id": "11893a72",
   "metadata": {},
   "outputs": [],
   "source": [
    "# steps to connect to the game\n",
    "desktop.press(\"enter\")\n",
    "desktop.wait(300)\n",
    "desktop.press(\"1\") # 1=T, 2=CT, 6=SPECTATE\n",
    "desktop.wait(300)\n",
    "desktop.press(\"4\") # T side: Guerilla warfare skin because they have the red headband\n",
    "\n",
    "# congrats, you joined the game!!"
   ]
  },
  {
   "cell_type": "code",
   "execution_count": 260,
   "id": "4b06aff1",
   "metadata": {},
   "outputs": [],
   "source": [
    "desktop.move_mouse(150, 10)\n"
   ]
  },
  {
   "cell_type": "code",
   "execution_count": null,
   "id": "b4486c2a",
   "metadata": {},
   "outputs": [
    {
     "name": "stdout",
     "output_type": "stream",
     "text": [
      "{'x': 1257, 'y': 465}\n"
     ]
    }
   ],
   "source": [
    "screenshot_coords = (1189, 483)\n",
    "scr_x = screenshot_coords[0]\n",
    "scr_y = screenshot_coords[1]\n",
    "\n",
    "x_mid = 960\n",
    "y_mid = 540\n",
    "aim_multiplier = 1.3\n",
    "\n",
    "\n",
    "if scr_y >= y_mid:\n",
    "    diff = scr_y - y_mid\n",
    "    new_y = diff * aim_multiplier + y_mid\n",
    "else: # we are aiming up\n",
    "    diff = y_mid - scr_y\n",
    "    new_y = y_mid - diff * aim_multiplier\n",
    "\n",
    "if scr_x >= x_mid:\n",
    "    diff = scr_x - x_mid\n",
    "    new_x = diff * aim_multiplier + x_mid\n",
    "else: # we are aiming up\n",
    "    diff = x_mid - scr_x\n",
    "    new_x = x_mid - diff * aim_multiplier\n",
    "\n",
    "if new_x > (x_mid * 2) or new_x < 0:\n",
    "    # move mouse once to the edge of the screen and then finish the rest of needed movement\n",
    "\n",
    "# do the same for y\n",
    "\n",
    "\n",
    "# this is the case we are not overflowing\n",
    "move_mouse_coords = {\"x\": int(new_x),\n",
    "                     \"y\": int(new_y)}\n",
    "print(move_mouse_coords)\n",
    "desktop.move_mouse(**move_mouse_coords)\n"
   ]
  },
  {
   "cell_type": "code",
   "execution_count": 262,
   "id": "e0713e56",
   "metadata": {},
   "outputs": [],
   "source": [
    "desktop.left_click(170, 10)"
   ]
  },
  {
   "cell_type": "code",
   "execution_count": 268,
   "id": "fd42c30f",
   "metadata": {},
   "outputs": [],
   "source": [
    "desktop.press(\"enter\")"
   ]
  },
  {
   "cell_type": "code",
   "execution_count": 266,
   "id": "d3eac3d1",
   "metadata": {},
   "outputs": [],
   "source": [
    "screenshot_message = get_screenshot_message(desktop, filename=\"../images/screenshot.jpg\")"
   ]
  },
  {
   "cell_type": "code",
   "execution_count": null,
   "id": "7dc4374b",
   "metadata": {},
   "outputs": [],
   "source": [
    "aiming_model = AimingModel()"
   ]
  },
  {
   "cell_type": "code",
   "execution_count": 252,
   "id": "d37bf48f",
   "metadata": {},
   "outputs": [
    {
     "name": "stdout",
     "output_type": "stream",
     "text": [
      "```json\n",
      "{\"point\": {\"x\": \"1582\", \"y\": \"545\"}}\n",
      "```\n",
      "{'x': 1582, 'y': 545}\n",
      "<class 'dict'>\n",
      "{'x': 1768, 'y': 546}\n"
     ]
    }
   ],
   "source": [
    "screenshot_message = get_screenshot_message(desktop, filename=\"../images/screenshot.jpg\")\n",
    "\n",
    "point_json, _ = aiming_model.complete(messages=screenshot_message)\n",
    "print(point_json)\n",
    "coords = aiming_model.parse_point_json(point_json)\n",
    "print(coords)\n",
    "print(type(coords))\n",
    "draw_point(point = coords, image_path=\"../images/screenshot.jpg\", output_path=\"../images/screenshot_annotated.jpg\")\n",
    "\n",
    "scr_x = coords[\"x\"]\n",
    "scr_y = coords[\"y\"]\n",
    "\n",
    "x_mid = 960\n",
    "y_mid = 540\n",
    "aim_multiplier = 1.3\n",
    "\n",
    "\n",
    "if scr_y >= y_mid:\n",
    "    diff = scr_y - y_mid\n",
    "    new_y = diff * aim_multiplier + y_mid\n",
    "else: # we are aiming up\n",
    "    diff = y_mid - scr_y\n",
    "    new_y = y_mid - diff * aim_multiplier\n",
    "\n",
    "if scr_x >= x_mid:\n",
    "    diff = scr_x - x_mid\n",
    "    new_x = diff * aim_multiplier + x_mid\n",
    "else: # we are aiming up\n",
    "    diff = x_mid - scr_x\n",
    "    new_x = x_mid - diff * aim_multiplier\n",
    "\n",
    "move_mouse_coords = {\"x\": int(new_x),\n",
    "                     \"y\": int(new_y)}\n",
    "\n",
    "print(move_mouse_coords)\n",
    "\n",
    "desktop.move_mouse(**move_mouse_coords)\n",
    "for i in range(3):\n",
    "    desktop.left_click()"
   ]
  }
 ],
 "metadata": {
  "kernelspec": {
   "display_name": "e2b",
   "language": "python",
   "name": "python3"
  },
  "language_info": {
   "codemirror_mode": {
    "name": "ipython",
    "version": 3
   },
   "file_extension": ".py",
   "mimetype": "text/x-python",
   "name": "python",
   "nbconvert_exporter": "python",
   "pygments_lexer": "ipython3",
   "version": "3.12.9"
  }
 },
 "nbformat": 4,
 "nbformat_minor": 5
}

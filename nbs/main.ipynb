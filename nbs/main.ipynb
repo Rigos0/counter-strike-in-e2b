{
 "cells": [
  {
   "cell_type": "code",
   "execution_count": 1,
   "id": "0b9fea95",
   "metadata": {},
   "outputs": [],
   "source": [
    "# automatically load changes from the sandbox_steps module\n",
    "%load_ext autoreload\n",
    "%autoreload 2"
   ]
  },
  {
   "cell_type": "code",
   "execution_count": 2,
   "id": "3df2a758",
   "metadata": {},
   "outputs": [],
   "source": [
    "import sys\n",
    "import os\n",
    "from e2b_desktop import Sandbox, CommandExitException\n",
    "from dotenv import load_dotenv\n",
    "load_dotenv()\n",
    "\n",
    "sys.path.append(os.path.abspath('..')) # Add the parent directory (project root) to sys.path\n",
    "\n",
    "from counter_strike.install_cs import install_cs_1_6, connect_to_server, choose_team\n",
    "from counter_strike.image_handling import get_screenshot_message, draw_point, get_screenshot\n",
    "\n",
    "from llms.models import AimingModel\n",
    "\n",
    "E2B_API_KEY = os.environ.get(\"E2B_API_KEY\")\n",
    "CS_SERVER_IP = os.environ.get(\"CS_SERVER_IP\")\n"
   ]
  },
  {
   "cell_type": "code",
   "execution_count": 3,
   "id": "1a496eaa",
   "metadata": {},
   "outputs": [
    {
     "name": "stdout",
     "output_type": "stream",
     "text": [
      "https://6080-ipx7xikgaj16g4u1fqgzv-c65ff479.e2b.app/vnc.html?autoconnect=true&resize=scale\n",
      "https://6080-ipx7xikgaj16g4u1fqgzv-c65ff479.e2b.app/vnc.html?autoconnect=true&view_only=true&resize=scale\n"
     ]
    }
   ],
   "source": [
    "# With custom configuration\n",
    "desktop = Sandbox(\n",
    "    display=\":0\",  # Custom display (defaults to :0)\n",
    "    resolution=(1920, 1080),  # Custom resolution\n",
    "    timeout = 3600) \n",
    "\n",
    "desktop.stream.start()\n",
    "\n",
    "# Get stream URL\n",
    "url = desktop.stream.get_url()\n",
    "print(url)\n",
    "\n",
    "# only viewing \n",
    "url_view = desktop.stream.get_url(view_only=True)\n",
    "print(url_view)"
   ]
  },
  {
   "cell_type": "code",
   "execution_count": 184,
   "id": "f0668a28",
   "metadata": {},
   "outputs": [
    {
     "name": "stdout",
     "output_type": "stream",
     "text": [
      "Waiting for 150 secs for map download...\n"
     ]
    }
   ],
   "source": [
    "install_cs_1_6(desktop=desktop)\n",
    "connect_to_server(desktop=desktop, ip_address=CS_SERVER_IP)\n",
    "choose_team(desktop=desktop)"
   ]
  },
  {
   "cell_type": "code",
   "execution_count": 65,
   "id": "e0713e56",
   "metadata": {},
   "outputs": [],
   "source": [
    "#desktop.write(text=\"ddddddddddddddddd\", delay_in_ms=0, chunk_size=50)\n",
    "desktop.write(text=\"dddddddddddddddddddd\")\n",
    "desktop.write(text=\"aaaaaaaaaaaaaaaaaaaa\")\n",
    "desktop.write(text=\"wwwwwwwwwwwwwwwwwwww\")"
   ]
  },
  {
   "cell_type": "code",
   "execution_count": 3,
   "id": "fd42c30f",
   "metadata": {},
   "outputs": [],
   "source": [
    "desktop.kill()"
   ]
  },
  {
   "cell_type": "code",
   "execution_count": 4,
   "id": "7dc4374b",
   "metadata": {},
   "outputs": [],
   "source": [
    "from counter_strike.image_handling import get_mouse_movements\n",
    "from counter_strike.controls import aim, shoot\n",
    "\n",
    "from llms.models import AimingModel\n",
    "\n",
    "aiming_model = AimingModel()"
   ]
  },
  {
   "cell_type": "code",
   "execution_count": 5,
   "id": "b18b62e2",
   "metadata": {},
   "outputs": [],
   "source": [
    "screenshot_message = get_screenshot_message(desktop)"
   ]
  },
  {
   "cell_type": "code",
   "execution_count": 6,
   "id": "de0c256d",
   "metadata": {},
   "outputs": [
    {
     "name": "stdout",
     "output_type": "stream",
     "text": [
      "Model: qwen/qwen2.5-vl-32b-instruct\n",
      "Provider: Fireworks\n"
     ]
    },
    {
     "data": {
      "text/plain": [
       "('```json\\n{\"point\": {\"x\": \"966\", \"y\": \"544\"}}\\n```',\n",
       " ChatCompletion(id='gen-1746964059-5JTwSxoL0nQbgLaUaWa9', choices=[Choice(finish_reason='stop', index=0, logprobs=None, message=ChatCompletionMessage(content='```json\\n{\"point\": {\"x\": \"966\", \"y\": \"544\"}}\\n```', refusal=None, role='assistant', annotations=None, audio=None, function_call=None, tool_calls=None, reasoning=None), native_finish_reason='stop')], created=1746964059, model='qwen/qwen2.5-vl-32b-instruct', object='chat.completion', service_tier=None, system_fingerprint=None, usage=CompletionUsage(completion_tokens=24, prompt_tokens=2790, total_tokens=2814, completion_tokens_details=None, prompt_tokens_details=None), provider='Fireworks'))"
      ]
     },
     "execution_count": 6,
     "metadata": {},
     "output_type": "execute_result"
    }
   ],
   "source": [
    "aiming_model.complete(screenshot_message)"
   ]
  },
  {
   "cell_type": "code",
   "execution_count": 11,
   "id": "7512e965",
   "metadata": {},
   "outputs": [],
   "source": [
    "from llms.tools import MoveTool\n",
    "from llms.models import OpenRouterGameplayModel\n",
    "\n",
    "move_tool = MoveTool(desktop=desktop)\n",
    "tools = {move_tool.name: move_tool}\n",
    "\n",
    "gameplay_model = OpenRouterGameplayModel(tools=tools, \n",
    "                                         model=\"google/gemini-2.5-flash-preview\")"
   ]
  },
  {
   "cell_type": "code",
   "execution_count": 12,
   "id": "d878a03f",
   "metadata": {},
   "outputs": [
    {
     "data": {
      "text/plain": [
       "('',\n",
       " ChatCompletion(id='gen-1746964310-yJNS9m86uSZe2LkwuU2m', choices=[Choice(finish_reason='tool_calls', index=0, logprobs=None, message=ChatCompletionMessage(content='', refusal=None, role='assistant', annotations=None, audio=None, function_call=None, tool_calls=[ChatCompletionMessageToolCall(id='tool_0_move_tool', function=Function(arguments='{\"key_sequence\":\"wwasd\"}', name='move_tool'), type='function', index=0)], reasoning=None), native_finish_reason='STOP')], created=1746964310, model='google/gemini-2.5-flash-preview', object='chat.completion', service_tier=None, system_fingerprint=None, usage=CompletionUsage(completion_tokens=8, prompt_tokens=2042, total_tokens=2050, completion_tokens_details=None, prompt_tokens_details=None), provider='Google'),\n",
       " [ChatCompletionMessageToolCall(id='tool_0_move_tool', function=Function(arguments='{\"key_sequence\":\"wwasd\"}', name='move_tool'), type='function', index=0)])"
      ]
     },
     "execution_count": 12,
     "metadata": {},
     "output_type": "execute_result"
    }
   ],
   "source": [
    "gameplay_model.complete(screenshot_message)"
   ]
  },
  {
   "cell_type": "code",
   "execution_count": 208,
   "id": "846a9e03",
   "metadata": {},
   "outputs": [
    {
     "name": "stdout",
     "output_type": "stream",
     "text": [
      "ImageLoggingSettings: Session directory created at ../images\\20250510_214313\n",
      "\n",
      "--- Iteration 1 ---\n",
      "  [Time] Screenshot: 1.9487s\n",
      "Model: qwen/qwen2.5-vl-32b-instruct\n",
      "Provider: Fireworks\n",
      "  [Time] Aiming Model: 4.4648s\n",
      "  [Action] No Coords. Using Gameplay Model Tool Calls.\n",
      "  [Time] Gameplay Model: 0.1749s\n",
      " Action taken: Tool Calls: [ChatCompletionMessageToolCall(id='tool_0_move_tool', function=Function(arguments='{\"key_sequence\":\"wwwwd\"}', name='move_tool'), type='function', index=0)]\n",
      "  [Time] Iteration 1 Total: 9.1135s\n",
      "\n",
      "--- Iteration 2 ---\n",
      "  [Time] Screenshot: 1.9071s\n",
      "Model: qwen/qwen2.5-vl-32b-instruct\n",
      "Provider: Fireworks\n"
     ]
    },
    {
     "ename": "KeyboardInterrupt",
     "evalue": "",
     "output_type": "error",
     "traceback": [
      "\u001b[31m---------------------------------------------------------------------------\u001b[39m",
      "\u001b[31mKeyboardInterrupt\u001b[39m                         Traceback (most recent call last)",
      "\u001b[36mCell\u001b[39m\u001b[36m \u001b[39m\u001b[32mIn[208]\u001b[39m\u001b[32m, line 3\u001b[39m\n\u001b[32m      1\u001b[39m \u001b[38;5;28;01mfrom\u001b[39;00m\u001b[38;5;250m \u001b[39m\u001b[34;01mcounter_strike\u001b[39;00m\u001b[34;01m.\u001b[39;00m\u001b[34;01magent\u001b[39;00m\u001b[38;5;250m \u001b[39m\u001b[38;5;28;01mimport\u001b[39;00m run_agent\n\u001b[32m----> \u001b[39m\u001b[32m3\u001b[39m \u001b[43mrun_agent\u001b[49m\u001b[43m(\u001b[49m\n\u001b[32m      4\u001b[39m \u001b[43m    \u001b[49m\u001b[43maiming_model\u001b[49m\u001b[43m=\u001b[49m\u001b[43maiming_model\u001b[49m\u001b[43m,\u001b[49m\n\u001b[32m      5\u001b[39m \u001b[43m    \u001b[49m\u001b[43mgameplay_model\u001b[49m\u001b[43m=\u001b[49m\u001b[43mgameplay_model\u001b[49m\u001b[43m,\u001b[49m\n\u001b[32m      6\u001b[39m \u001b[43m    \u001b[49m\u001b[43mdesktop\u001b[49m\u001b[43m=\u001b[49m\u001b[43mdesktop\u001b[49m\u001b[43m,\u001b[49m\n\u001b[32m      7\u001b[39m \u001b[43m    \u001b[49m\u001b[43miterations\u001b[49m\u001b[43m=\u001b[49m\u001b[32;43m20\u001b[39;49m\u001b[43m \u001b[49m\u001b[38;5;66;43;03m# For demonstration\u001b[39;49;00m\n\u001b[32m      8\u001b[39m \u001b[43m)\u001b[49m \n",
      "\u001b[36mFile \u001b[39m\u001b[32mc:\\Users\\richa\\Documents\\projects\\e2b\\counter_strike\\agent.py:131\u001b[39m, in \u001b[36mrun_agent\u001b[39m\u001b[34m(aiming_model, gameplay_model, desktop, iterations)\u001b[39m\n\u001b[32m    127\u001b[39m iteration_start = time.perf_counter()\n\u001b[32m    129\u001b[39m screenshot_message = capture_screenshot(desktop, image_logger)\n\u001b[32m--> \u001b[39m\u001b[32m131\u001b[39m coords, tool_calls, aiming_time, gameplay_time = \u001b[43mprocess_models_concurrently\u001b[49m\u001b[43m(\u001b[49m\n\u001b[32m    132\u001b[39m \u001b[43m    \u001b[49m\u001b[43mscreenshot_message\u001b[49m\u001b[43m,\u001b[49m\n\u001b[32m    133\u001b[39m \u001b[43m    \u001b[49m\u001b[43maiming_model\u001b[49m\u001b[43m,\u001b[49m\n\u001b[32m    134\u001b[39m \u001b[43m    \u001b[49m\u001b[43mgameplay_model\u001b[49m\n\u001b[32m    135\u001b[39m \u001b[43m\u001b[49m\u001b[43m)\u001b[49m\n\u001b[32m    136\u001b[39m \u001b[38;5;28mprint\u001b[39m(\u001b[33mf\u001b[39m\u001b[33m\"\u001b[39m\u001b[33m  [Time] Aiming Model: \u001b[39m\u001b[38;5;132;01m{\u001b[39;00maiming_time\u001b[38;5;132;01m:\u001b[39;00m\u001b[33m.4f\u001b[39m\u001b[38;5;132;01m}\u001b[39;00m\u001b[33ms\u001b[39m\u001b[33m\"\u001b[39m)\n\u001b[32m    138\u001b[39m action_taken = decide_and_act(\n\u001b[32m    139\u001b[39m     coords, tool_calls, gameplay_time, desktop, image_logger, gameplay_model\n\u001b[32m    140\u001b[39m )\n",
      "\u001b[36mFile \u001b[39m\u001b[32mc:\\Users\\richa\\Documents\\projects\\e2b\\counter_strike\\agent.py:60\u001b[39m, in \u001b[36mprocess_models_concurrently\u001b[39m\u001b[34m(screenshot_message, aiming_model, gameplay_model)\u001b[39m\n\u001b[32m     57\u001b[39m     future_aiming = run_model_async(executor, aiming_model, screenshot_message)\n\u001b[32m     58\u001b[39m     future_gameplay = run_model_async(executor, gameplay_model, screenshot_message)\n\u001b[32m---> \u001b[39m\u001b[32m60\u001b[39m     coords, aiming_model_time = \u001b[43mget_aiming_result\u001b[49m\u001b[43m(\u001b[49m\u001b[43mfuture_aiming\u001b[49m\u001b[43m,\u001b[49m\u001b[43m \u001b[49m\u001b[43maiming_model\u001b[49m\u001b[43m)\u001b[49m\n\u001b[32m     61\u001b[39m     tool_calls_output, gameplay_model_time = handle_gameplay_model_response(future_gameplay, coords)\n\u001b[32m     63\u001b[39m \u001b[38;5;28;01mreturn\u001b[39;00m coords, tool_calls_output, aiming_model_time, gameplay_model_time\n",
      "\u001b[36mFile \u001b[39m\u001b[32mc:\\Users\\richa\\Documents\\projects\\e2b\\counter_strike\\agent.py:23\u001b[39m, in \u001b[36mget_aiming_result\u001b[39m\u001b[34m(future_aiming, aiming_model)\u001b[39m\n\u001b[32m     21\u001b[39m \u001b[38;5;28;01mdef\u001b[39;00m\u001b[38;5;250m \u001b[39m\u001b[34mget_aiming_result\u001b[39m(future_aiming, aiming_model):\n\u001b[32m     22\u001b[39m     time_start = time.perf_counter()\n\u001b[32m---> \u001b[39m\u001b[32m23\u001b[39m     point_json, _ = \u001b[43mfuture_aiming\u001b[49m\u001b[43m.\u001b[49m\u001b[43mresult\u001b[49m\u001b[43m(\u001b[49m\u001b[43m)\u001b[49m\n\u001b[32m     24\u001b[39m     time_end = time.perf_counter()\n\u001b[32m     25\u001b[39m     coords = aiming_model.parse_point_json(point_json)\n",
      "\u001b[36mFile \u001b[39m\u001b[32mc:\\Users\\richa\\miniconda3\\envs\\e2b\\Lib\\concurrent\\futures\\_base.py:451\u001b[39m, in \u001b[36mFuture.result\u001b[39m\u001b[34m(self, timeout)\u001b[39m\n\u001b[32m    448\u001b[39m \u001b[38;5;28;01melif\u001b[39;00m \u001b[38;5;28mself\u001b[39m._state == FINISHED:\n\u001b[32m    449\u001b[39m     \u001b[38;5;28;01mreturn\u001b[39;00m \u001b[38;5;28mself\u001b[39m.__get_result()\n\u001b[32m--> \u001b[39m\u001b[32m451\u001b[39m \u001b[38;5;28;43mself\u001b[39;49m\u001b[43m.\u001b[49m\u001b[43m_condition\u001b[49m\u001b[43m.\u001b[49m\u001b[43mwait\u001b[49m\u001b[43m(\u001b[49m\u001b[43mtimeout\u001b[49m\u001b[43m)\u001b[49m\n\u001b[32m    453\u001b[39m \u001b[38;5;28;01mif\u001b[39;00m \u001b[38;5;28mself\u001b[39m._state \u001b[38;5;129;01min\u001b[39;00m [CANCELLED, CANCELLED_AND_NOTIFIED]:\n\u001b[32m    454\u001b[39m     \u001b[38;5;28;01mraise\u001b[39;00m CancelledError()\n",
      "\u001b[36mFile \u001b[39m\u001b[32mc:\\Users\\richa\\miniconda3\\envs\\e2b\\Lib\\threading.py:355\u001b[39m, in \u001b[36mCondition.wait\u001b[39m\u001b[34m(self, timeout)\u001b[39m\n\u001b[32m    353\u001b[39m \u001b[38;5;28;01mtry\u001b[39;00m:    \u001b[38;5;66;03m# restore state no matter what (e.g., KeyboardInterrupt)\u001b[39;00m\n\u001b[32m    354\u001b[39m     \u001b[38;5;28;01mif\u001b[39;00m timeout \u001b[38;5;129;01mis\u001b[39;00m \u001b[38;5;28;01mNone\u001b[39;00m:\n\u001b[32m--> \u001b[39m\u001b[32m355\u001b[39m         \u001b[43mwaiter\u001b[49m\u001b[43m.\u001b[49m\u001b[43macquire\u001b[49m\u001b[43m(\u001b[49m\u001b[43m)\u001b[49m\n\u001b[32m    356\u001b[39m         gotit = \u001b[38;5;28;01mTrue\u001b[39;00m\n\u001b[32m    357\u001b[39m     \u001b[38;5;28;01melse\u001b[39;00m:\n",
      "\u001b[31mKeyboardInterrupt\u001b[39m: "
     ]
    }
   ],
   "source": [
    "from counter_strike.agent import run_agent\n",
    "\n",
    "run_agent(\n",
    "    aiming_model=aiming_model,\n",
    "    gameplay_model=gameplay_model,\n",
    "    desktop=desktop,\n",
    "    iterations=20 # For demonstration\n",
    ") "
   ]
  },
  {
   "cell_type": "code",
   "execution_count": null,
   "id": "205255c5",
   "metadata": {},
   "outputs": [
    {
     "name": "stdout",
     "output_type": "stream",
     "text": [
      "Iteration 1\n",
      "[{'role': 'user', 'content': 'Current map: aim_map_2010.Design five consecutive movement steps to locate the enemy: 1) Choose a combined sequence of 5 keys (w/a/s/d) per move. 2) Return your answer by calling move_tool with the \\'key_sequence\\' parameter. Example: {\"name\": \"move_tool\", \"arguments\": {\"key_sequence\": \"wwaad\"}}'}]\n",
      "ChatCompletion(id='gen-1746896490-iwwebrGcnOAtNf09cx0H', choices=[Choice(finish_reason='stop', index=0, logprobs=None, message=ChatCompletionMessage(content='```json\\n{\"point\": {\"x\": \"1065\", \"y\": \"542\"}}\\n```', refusal=None, role='assistant', annotations=None, audio=None, function_call=None, tool_calls=None, reasoning=None), native_finish_reason='stop')], created=1746896490, model='qwen/qwen2.5-vl-72b-instruct', object='chat.completion', service_tier=None, system_fingerprint=None, usage=CompletionUsage(completion_tokens=25, prompt_tokens=2790, total_tokens=2815, completion_tokens_details=None, prompt_tokens_details=None), provider='Parasail')\n",
      "Aiming model output: ```json\n",
      "{\"point\": {\"x\": \"1065\", \"y\": \"542\"}}\n",
      "```\n",
      "Coordinates found: {'x': 1065, 'y': 542}. Proceeding with aiming and shooting.\n",
      "Aiming to coords 1: {'x': 1096, 'y': 542}\n",
      "------------------------------\n",
      "------------------------------\n",
      "Iteration 2\n",
      "[{'role': 'user', 'content': 'Current map: aim_map_2010.Design five consecutive movement steps to locate the enemy: 1) Choose a combined sequence of 5 keys (w/a/s/d) per move. 2) Return your answer by calling move_tool with the \\'key_sequence\\' parameter. Example: {\"name\": \"move_tool\", \"arguments\": {\"key_sequence\": \"wwaad\"}}'}]\n",
      "ChatCompletion(id='gen-1746896502-ZA3ibQnwfj0BHUDAGyTP', choices=[Choice(finish_reason='stop', index=0, logprobs=None, message=ChatCompletionMessage(content='None', refusal=None, role='assistant', annotations=None, audio=None, function_call=None, tool_calls=None, reasoning=None), native_finish_reason='stop')], created=1746896502, model='qwen/qwen2.5-vl-72b-instruct', object='chat.completion', service_tier=None, system_fingerprint=None, usage=CompletionUsage(completion_tokens=2, prompt_tokens=2790, total_tokens=2792, completion_tokens_details=None, prompt_tokens_details=None), provider='Parasail')\n",
      "Aiming model output: None\n",
      "No valid coords from aiming model, waiting for gameplay model.\n"
     ]
    },
    {
     "ename": "KeyboardInterrupt",
     "evalue": "",
     "output_type": "error",
     "traceback": [
      "\u001b[31m---------------------------------------------------------------------------\u001b[39m",
      "\u001b[31mKeyboardInterrupt\u001b[39m                         Traceback (most recent call last)",
      "\u001b[36mCell\u001b[39m\u001b[36m \u001b[39m\u001b[32mIn[124]\u001b[39m\u001b[32m, line 56\u001b[39m\n\u001b[32m     53\u001b[39m \u001b[38;5;28;01mtry\u001b[39;00m:\n\u001b[32m     54\u001b[39m     \u001b[38;5;66;03m# Wait for the gameplay future to complete if it hasn't been processed\u001b[39;00m\n\u001b[32m     55\u001b[39m     \u001b[38;5;28;01mif\u001b[39;00m \u001b[38;5;129;01mnot\u001b[39;00m future_gameplay.done() \u001b[38;5;129;01mor\u001b[39;00m \u001b[38;5;129;01mnot\u001b[39;00m tool_calls: \u001b[38;5;66;03m# check if tool_calls already populated\u001b[39;00m\n\u001b[32m---> \u001b[39m\u001b[32m56\u001b[39m         content_result, _, tool_calls_result = \u001b[43mfuture_gameplay\u001b[49m\u001b[43m.\u001b[49m\u001b[43mresult\u001b[49m\u001b[43m(\u001b[49m\u001b[43mtimeout\u001b[49m\u001b[43m=\u001b[49m\u001b[38;5;28;43;01mNone\u001b[39;49;00m\u001b[43m)\u001b[49m \u001b[38;5;66;03m# Wait indefinitely\u001b[39;00m\n\u001b[32m     57\u001b[39m         content = content_result\n\u001b[32m     58\u001b[39m         tool_calls = tool_calls_result\n",
      "\u001b[36mFile \u001b[39m\u001b[32mc:\\Users\\richa\\miniconda3\\envs\\e2b\\Lib\\concurrent\\futures\\_base.py:451\u001b[39m, in \u001b[36mFuture.result\u001b[39m\u001b[34m(self, timeout)\u001b[39m\n\u001b[32m    448\u001b[39m \u001b[38;5;28;01melif\u001b[39;00m \u001b[38;5;28mself\u001b[39m._state == FINISHED:\n\u001b[32m    449\u001b[39m     \u001b[38;5;28;01mreturn\u001b[39;00m \u001b[38;5;28mself\u001b[39m.__get_result()\n\u001b[32m--> \u001b[39m\u001b[32m451\u001b[39m \u001b[38;5;28;43mself\u001b[39;49m\u001b[43m.\u001b[49m\u001b[43m_condition\u001b[49m\u001b[43m.\u001b[49m\u001b[43mwait\u001b[49m\u001b[43m(\u001b[49m\u001b[43mtimeout\u001b[49m\u001b[43m)\u001b[49m\n\u001b[32m    453\u001b[39m \u001b[38;5;28;01mif\u001b[39;00m \u001b[38;5;28mself\u001b[39m._state \u001b[38;5;129;01min\u001b[39;00m [CANCELLED, CANCELLED_AND_NOTIFIED]:\n\u001b[32m    454\u001b[39m     \u001b[38;5;28;01mraise\u001b[39;00m CancelledError()\n",
      "\u001b[36mFile \u001b[39m\u001b[32mc:\\Users\\richa\\miniconda3\\envs\\e2b\\Lib\\threading.py:355\u001b[39m, in \u001b[36mCondition.wait\u001b[39m\u001b[34m(self, timeout)\u001b[39m\n\u001b[32m    353\u001b[39m \u001b[38;5;28;01mtry\u001b[39;00m:    \u001b[38;5;66;03m# restore state no matter what (e.g., KeyboardInterrupt)\u001b[39;00m\n\u001b[32m    354\u001b[39m     \u001b[38;5;28;01mif\u001b[39;00m timeout \u001b[38;5;129;01mis\u001b[39;00m \u001b[38;5;28;01mNone\u001b[39;00m:\n\u001b[32m--> \u001b[39m\u001b[32m355\u001b[39m         \u001b[43mwaiter\u001b[49m\u001b[43m.\u001b[49m\u001b[43macquire\u001b[49m\u001b[43m(\u001b[49m\u001b[43m)\u001b[49m\n\u001b[32m    356\u001b[39m         gotit = \u001b[38;5;28;01mTrue\u001b[39;00m\n\u001b[32m    357\u001b[39m     \u001b[38;5;28;01melse\u001b[39;00m:\n",
      "\u001b[31mKeyboardInterrupt\u001b[39m: "
     ]
    }
   ],
   "source": [
    "import concurrent.futures\n",
    "\n",
    "for i in range(10):\n",
    "    print(f\"Iteration {i+1}\") # Changed None to i+1 for clarity\n",
    "    screenshot_message = get_screenshot_message(desktop, filename=\"../images/screenshot.jpg\")\n",
    "\n",
    "    coords = None\n",
    "    point_json = None\n",
    "    content = None\n",
    "    tool_calls = None\n",
    "    aiming_done_first_and_valid = False\n",
    "\n",
    "    with concurrent.futures.ThreadPoolExecutor(max_workers=2) as executor:\n",
    "        future_aiming = executor.submit(aiming_model.complete, user_messages=screenshot_message, debug=True)\n",
    "        future_gameplay = executor.submit(gameplay_model.complete, user_messages=screenshot_message)\n",
    "\n",
    "        futures = [future_aiming, future_gameplay]\n",
    "        future_to_task = {future_aiming: \"aiming\", future_gameplay: \"gameplay\"}\n",
    "\n",
    "        try:\n",
    "            point_json_result, _ = future_aiming.result(timeout=None) \n",
    "            print(f\"Aiming model output: {point_json_result}\")\n",
    "            parsed_coords = aiming_model.parse_point_json(point_json_result)\n",
    "            if parsed_coords:\n",
    "                coords = parsed_coords\n",
    "                aiming_done_first_and_valid = True\n",
    "                # If coords are found, we can cancel the gameplay future if it's not needed\n",
    "                # and not already running or completed.\n",
    "                if not future_gameplay.done():\n",
    "                    future_gameplay.cancel()\n",
    "                else: # if it's already done, get its result to avoid unretrieved exception\n",
    "                    try:\n",
    "                        content_result, response, tool_calls_result = future_gameplay.result(timeout=0.1)\n",
    "                        content = content_result\n",
    "                        tool_calls = tool_calls_result\n",
    "                        print(\"Gameplay model completed even though coords were found.\")\n",
    "                    except (concurrent.futures.TimeoutError, concurrent.futures.CancelledError):\n",
    "                        print(\"Gameplay model was cancelled or timed out after aiming was successful.\")\n",
    "                    except Exception as e:\n",
    "                        print(f\"Error retrieving result from already done gameplay future: {e}\")\n",
    "\n",
    "\n",
    "        except Exception as e:\n",
    "            print(f\"Error in aiming_model.complete: {e}\")\n",
    "\n",
    "        # If coords were found and processed, we skip waiting for gameplay if it was cancelled\n",
    "        if aiming_done_first_and_valid:\n",
    "            pass # Handled above\n",
    "        else:\n",
    "            # If coords were not found from aiming_model (either it failed or returned no coords)\n",
    "            # we now need the result from gameplay_model\n",
    "            print(\"No valid coords from aiming model, waiting for gameplay model.\")\n",
    "            try:\n",
    "                # Wait for the gameplay future to complete if it hasn't been processed\n",
    "                if not future_gameplay.done() or not tool_calls: # check if tool_calls already populated\n",
    "                    content_result, _, tool_calls_result = future_gameplay.result(timeout=None) # Wait indefinitely\n",
    "                    content = content_result\n",
    "                    tool_calls = tool_calls_result\n",
    "                    print(f\"Gameplay model output: content='{content}', tool_calls='{tool_calls}'\")\n",
    "            except concurrent.futures.CancelledError:\n",
    "                print(\"Gameplay model task was cancelled.\")\n",
    "            except Exception as e:\n",
    "                print(f\"Error in gameplay_model.complete: {e}\")\n",
    "\n",
    "\n",
    "    # Logic based on the results\n",
    "    if coords:\n",
    "        print(f\"Coordinates found: {coords}. Proceeding with aiming and shooting.\")\n",
    "        draw_point(point=coords, image_path=\"../images/screenshot.jpg\", output_path=\"../images/screenshot_annotated.jpg\")\n",
    "        mouse_movements = get_mouse_movements(coords=coords)\n",
    "        aim(mouse_movements, desktop=desktop)\n",
    "        shoot(desktop=desktop)\n",
    "    elif tool_calls: # If no coords, but we have tool_calls from the gameplay model\n",
    "        print(f\"No coordinates. Using tool_calls: {tool_calls}\")\n",
    "        gameplay_model._handle_tool_calls(tool_calls=tool_calls)\n",
    "    else:\n",
    "        print(f\"The gameplay model did not return any tool calls. Response.\") # print the response here.\n",
    "\n",
    "    print(\"-\" * 30) # Separator for iterations"
   ]
  }
 ],
 "metadata": {
  "kernelspec": {
   "display_name": "e2b",
   "language": "python",
   "name": "python3"
  },
  "language_info": {
   "codemirror_mode": {
    "name": "ipython",
    "version": 3
   },
   "file_extension": ".py",
   "mimetype": "text/x-python",
   "name": "python",
   "nbconvert_exporter": "python",
   "pygments_lexer": "ipython3",
   "version": "3.12.9"
  }
 },
 "nbformat": 4,
 "nbformat_minor": 5
}

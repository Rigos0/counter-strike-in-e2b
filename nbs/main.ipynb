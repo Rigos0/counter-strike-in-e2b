{
 "cells": [
  {
   "cell_type": "code",
   "execution_count": 1,
   "id": "0b9fea95",
   "metadata": {},
   "outputs": [],
   "source": [
    "# automatically load changes from the sandbox_steps module\n",
    "%load_ext autoreload\n",
    "%autoreload 2"
   ]
  },
  {
   "cell_type": "code",
   "execution_count": 30,
   "id": "3df2a758",
   "metadata": {},
   "outputs": [],
   "source": [
    "import sys\n",
    "import os\n",
    "from e2b_desktop import Sandbox, CommandExitException\n",
    "from dotenv import load_dotenv\n",
    "load_dotenv()\n",
    "\n",
    "sys.path.append(os.path.abspath('..')) # Add the parent directory (project root) to sys.path\n",
    "\n",
    "from counter_strike.install_cs import install_cs_1_6, connect_to_server, choose_team\n",
    "from counter_strike.image_handling import get_screenshot_message, draw_point, get_screenshot\n",
    "from counter_strike.agent import run_agent, AgentSettings\n",
    "\n",
    "from llms.models import AimingModel, OpenRouterGameplayModel\n",
    "from llms.tools import MoveTool\n",
    "\n",
    "E2B_API_KEY = os.environ.get(\"E2B_API_KEY\")\n",
    "CS_SERVER_IP = os.environ.get(\"CS_SERVER_IP\")\n"
   ]
  },
  {
   "cell_type": "code",
   "execution_count": 6,
   "id": "1a496eaa",
   "metadata": {},
   "outputs": [
    {
     "name": "stdout",
     "output_type": "stream",
     "text": [
      "https://6080-ievb8r59npj50308e3660-f0559fa9.e2b.app/vnc.html?autoconnect=true&resize=scale\n",
      "https://6080-ievb8r59npj50308e3660-f0559fa9.e2b.app/vnc.html?autoconnect=true&view_only=true&resize=scale\n"
     ]
    }
   ],
   "source": [
    "# With custom configuration\n",
    "desktop = Sandbox(\n",
    "    display=\":0\",  # Custom display (defaults to :0)\n",
    "    resolution=(1920, 1080),  # Custom resolution\n",
    "    timeout = 3600) \n",
    "\n",
    "desktop.stream.start()\n",
    "\n",
    "# Get stream URL\n",
    "url = desktop.stream.get_url()\n",
    "print(url)\n",
    "\n",
    "# only viewing \n",
    "url_view = desktop.stream.get_url(view_only=True)\n",
    "print(url_view)"
   ]
  },
  {
   "cell_type": "code",
   "execution_count": 7,
   "id": "f0668a28",
   "metadata": {},
   "outputs": [
    {
     "name": "stdout",
     "output_type": "stream",
     "text": [
      "Waiting for 150 secs for map download...\n"
     ]
    }
   ],
   "source": [
    "agent_setting = AgentSettings(\n",
    "    side = \"CT\",\n",
    "    open_router_api_key_name=\"OPENROUTER_API_KEY\"\n",
    ")\n",
    "\n",
    "install_cs_1_6(desktop=desktop)\n",
    "connect_to_server(desktop=desktop, ip_address=CS_SERVER_IP)\n",
    "choose_team(desktop=desktop,\n",
    "            team_option=agent_setting.team_choice,\n",
    "            skin=agent_setting.skin_choice)"
   ]
  },
  {
   "cell_type": "code",
   "execution_count": 34,
   "id": "355c6c49",
   "metadata": {},
   "outputs": [],
   "source": [
    "aiming_model = AimingModel(model=\"qwen/qwen2.5-vl-72b-instruct\",\n",
    "                           system_message=agent_setting.aiming_system_prompt,\n",
    "                           api_key_name=agent_setting.open_router_key_name)\n",
    "\n",
    "move_tool = MoveTool(desktop=desktop)\n",
    "tools = {move_tool.name: move_tool}\n",
    "\n",
    "gameplay_model = OpenRouterGameplayModel(tools=tools, \n",
    "                                         model=\"openai/gpt-4.1-nano\",\n",
    "                                         api_key_name=agent_setting.open_router_key_name)"
   ]
  },
  {
   "cell_type": "code",
   "execution_count": 35,
   "id": "845f77dd",
   "metadata": {},
   "outputs": [
    {
     "name": "stdout",
     "output_type": "stream",
     "text": [
      "ImageLoggingSettings: Session directory created at ../images\\20250512_005507\n",
      "\n",
      "--- Iteration 1 ---\n",
      "  [Time] Screenshot: 2.2022s\n",
      "Model: qwen/qwen2.5-vl-72b-instruct\n",
      "Provider: Parasail\n",
      "  [Time] Aiming Model: 7.0835s\n",
      "  [Action] No Coords. Using Gameplay Model Tool Calls.\n",
      "  [Time] Gameplay Model: 2.6637s\n",
      " Action taken: Tool Calls: [ChatCompletionMessageToolCall(id='call_D5kkbs5dWd7jPPsEk9sEky6u', function=Function(arguments='{\"key_sequence\":\"wwdss\"}', name='move_tool'), type='function', index=0)]\n",
      "  [Time] Iteration 1 Total: 14.4609s\n",
      "\n",
      "--- Iteration 2 ---\n",
      "  [Time] Screenshot: 2.2519s\n",
      "Model: qwen/qwen2.5-vl-72b-instruct\n",
      "Provider: Parasail\n",
      "  [Time] Aiming Model: 5.8307s\n",
      "  [Action] No Coords. Using Gameplay Model Tool Calls.\n",
      "  [Time] Gameplay Model: 3.7535s\n",
      " Action taken: Tool Calls: [ChatCompletionMessageToolCall(id='call_WJ0lW1ZeEfvkFyularh8tqDy', function=Function(arguments='{\"key_sequence\":\"ssddd\"}', name='move_tool'), type='function', index=0)]\n",
      "  [Time] Iteration 2 Total: 14.3340s\n",
      "\n",
      "--- Iteration 3 ---\n",
      "  [Time] Screenshot: 1.9998s\n",
      "Model: qwen/qwen2.5-vl-72b-instruct\n",
      "Provider: Parasail\n",
      "  [Time] Aiming Model: 5.0690s\n",
      "  [Action] No Coords. Using Gameplay Model Tool Calls.\n",
      "  [Time] Gameplay Model: 4.1838s\n",
      " Action taken: Tool Calls: [ChatCompletionMessageToolCall(id='call_Kzp3rW9Lh3CG1czsuBj0zsR4', function=Function(arguments='{\"key_sequence\":\"ddwww\"}', name='move_tool'), type='function', index=0)]\n",
      "  [Time] Iteration 3 Total: 13.7762s\n",
      "\n",
      "--- Iteration 4 ---\n",
      "  [Time] Screenshot: 1.2185s\n",
      "Model: qwen/qwen2.5-vl-72b-instruct\n",
      "Provider: Parasail\n"
     ]
    },
    {
     "ename": "KeyboardInterrupt",
     "evalue": "",
     "output_type": "error",
     "traceback": [
      "\u001b[31m---------------------------------------------------------------------------\u001b[39m",
      "\u001b[31mKeyboardInterrupt\u001b[39m                         Traceback (most recent call last)",
      "\u001b[36mCell\u001b[39m\u001b[36m \u001b[39m\u001b[32mIn[35]\u001b[39m\u001b[32m, line 1\u001b[39m\n\u001b[32m----> \u001b[39m\u001b[32m1\u001b[39m \u001b[43mrun_agent\u001b[49m\u001b[43m(\u001b[49m\u001b[43maiming_model\u001b[49m\u001b[43m=\u001b[49m\u001b[43maiming_model\u001b[49m\u001b[43m,\u001b[49m\n\u001b[32m      2\u001b[39m \u001b[43m            \u001b[49m\u001b[43mgameplay_model\u001b[49m\u001b[43m=\u001b[49m\u001b[43mgameplay_model\u001b[49m\u001b[43m,\u001b[49m\n\u001b[32m      3\u001b[39m \u001b[43m            \u001b[49m\u001b[43mdesktop\u001b[49m\u001b[43m=\u001b[49m\u001b[43mdesktop\u001b[49m\u001b[43m,\u001b[49m\n\u001b[32m      4\u001b[39m \u001b[43m            \u001b[49m\u001b[43miterations\u001b[49m\u001b[43m=\u001b[49m\u001b[32;43m10\u001b[39;49m\u001b[43m,\u001b[49m\n\u001b[32m      5\u001b[39m \u001b[43m            \u001b[49m\u001b[43mimage_logging_path\u001b[49m\u001b[43m=\u001b[49m\u001b[33;43m\"\u001b[39;49m\u001b[33;43m../images\u001b[39;49m\u001b[33;43m\"\u001b[39;49m\u001b[43m)\u001b[49m \u001b[38;5;66;03m# For demonstration \u001b[39;00m\n",
      "\u001b[36mFile \u001b[39m\u001b[32m<string>:7\u001b[39m, in \u001b[36mrun_agent\u001b[39m\u001b[34m(aiming_model, gameplay_model, desktop, iterations, image_logging_path)\u001b[39m\n",
      "\u001b[36mFile \u001b[39m\u001b[32mc:\\Users\\richa\\Documents\\projects\\e2b\\counter_strike\\agent.py:84\u001b[39m, in \u001b[36mprocess_models_concurrently\u001b[39m\u001b[34m(screenshot_message, aiming_model, gameplay_model)\u001b[39m\n\u001b[32m     81\u001b[39m     future_gameplay = run_model_async(executor, gameplay_model, screenshot_message)\n\u001b[32m     83\u001b[39m     coords, aiming_model_time = get_aiming_result(future_aiming, aiming_model)\n\u001b[32m---> \u001b[39m\u001b[32m84\u001b[39m     tool_calls_output, gameplay_model_time = \u001b[43mhandle_gameplay_model_response\u001b[49m\u001b[43m(\u001b[49m\u001b[43mfuture_gameplay\u001b[49m\u001b[43m,\u001b[49m\u001b[43m \u001b[49m\u001b[43mcoords\u001b[49m\u001b[43m)\u001b[49m\n\u001b[32m     86\u001b[39m \u001b[38;5;28;01mreturn\u001b[39;00m coords, tool_calls_output, aiming_model_time, gameplay_model_time\n",
      "\u001b[36mFile \u001b[39m\u001b[32mc:\\Users\\richa\\Documents\\projects\\e2b\\counter_strike\\agent.py:67\u001b[39m, in \u001b[36mhandle_gameplay_model_response\u001b[39m\u001b[34m(future_gameplay, coords_found)\u001b[39m\n\u001b[32m     65\u001b[39m \u001b[38;5;28;01melse\u001b[39;00m:\n\u001b[32m     66\u001b[39m     time_start = time.perf_counter()\n\u001b[32m---> \u001b[39m\u001b[32m67\u001b[39m     _, _, tool_calls_output = \u001b[43mfuture_gameplay\u001b[49m\u001b[43m.\u001b[49m\u001b[43mresult\u001b[49m\u001b[43m(\u001b[49m\u001b[43m)\u001b[49m\n\u001b[32m     68\u001b[39m     time_end = time.perf_counter()\n\u001b[32m     69\u001b[39m     gameplay_model_time = time_end - time_start\n",
      "\u001b[36mFile \u001b[39m\u001b[32mc:\\Users\\richa\\miniconda3\\envs\\e2b\\Lib\\concurrent\\futures\\_base.py:451\u001b[39m, in \u001b[36mFuture.result\u001b[39m\u001b[34m(self, timeout)\u001b[39m\n\u001b[32m    448\u001b[39m \u001b[38;5;28;01melif\u001b[39;00m \u001b[38;5;28mself\u001b[39m._state == FINISHED:\n\u001b[32m    449\u001b[39m     \u001b[38;5;28;01mreturn\u001b[39;00m \u001b[38;5;28mself\u001b[39m.__get_result()\n\u001b[32m--> \u001b[39m\u001b[32m451\u001b[39m \u001b[38;5;28;43mself\u001b[39;49m\u001b[43m.\u001b[49m\u001b[43m_condition\u001b[49m\u001b[43m.\u001b[49m\u001b[43mwait\u001b[49m\u001b[43m(\u001b[49m\u001b[43mtimeout\u001b[49m\u001b[43m)\u001b[49m\n\u001b[32m    453\u001b[39m \u001b[38;5;28;01mif\u001b[39;00m \u001b[38;5;28mself\u001b[39m._state \u001b[38;5;129;01min\u001b[39;00m [CANCELLED, CANCELLED_AND_NOTIFIED]:\n\u001b[32m    454\u001b[39m     \u001b[38;5;28;01mraise\u001b[39;00m CancelledError()\n",
      "\u001b[36mFile \u001b[39m\u001b[32mc:\\Users\\richa\\miniconda3\\envs\\e2b\\Lib\\threading.py:355\u001b[39m, in \u001b[36mCondition.wait\u001b[39m\u001b[34m(self, timeout)\u001b[39m\n\u001b[32m    353\u001b[39m \u001b[38;5;28;01mtry\u001b[39;00m:    \u001b[38;5;66;03m# restore state no matter what (e.g., KeyboardInterrupt)\u001b[39;00m\n\u001b[32m    354\u001b[39m     \u001b[38;5;28;01mif\u001b[39;00m timeout \u001b[38;5;129;01mis\u001b[39;00m \u001b[38;5;28;01mNone\u001b[39;00m:\n\u001b[32m--> \u001b[39m\u001b[32m355\u001b[39m         \u001b[43mwaiter\u001b[49m\u001b[43m.\u001b[49m\u001b[43macquire\u001b[49m\u001b[43m(\u001b[49m\u001b[43m)\u001b[49m\n\u001b[32m    356\u001b[39m         gotit = \u001b[38;5;28;01mTrue\u001b[39;00m\n\u001b[32m    357\u001b[39m     \u001b[38;5;28;01melse\u001b[39;00m:\n",
      "\u001b[31mKeyboardInterrupt\u001b[39m: "
     ]
    }
   ],
   "source": [
    "run_agent(aiming_model=aiming_model,\n",
    "            gameplay_model=gameplay_model,\n",
    "            desktop=desktop,\n",
    "            iterations=10,\n",
    "            image_logging_path=\"../images\") # For demonstration "
   ]
  },
  {
   "cell_type": "code",
   "execution_count": 65,
   "id": "e0713e56",
   "metadata": {},
   "outputs": [],
   "source": [
    "#desktop.write(text=\"ddddddddddddddddd\", delay_in_ms=0, chunk_size=50)\n",
    "desktop.write(text=\"dddddddddddddddddddd\")\n",
    "desktop.write(text=\"aaaaaaaaaaaaaaaaaaaa\")\n",
    "desktop.write(text=\"wwwwwwwwwwwwwwwwwwww\")"
   ]
  },
  {
   "cell_type": "code",
   "execution_count": 29,
   "id": "6c647336",
   "metadata": {},
   "outputs": [],
   "source": [
    "desktop.move_mouse(1380, 540) # keep y constant\n",
    "#desktop.move_mouse(540, 540) "
   ]
  },
  {
   "cell_type": "code",
   "execution_count": 3,
   "id": "fd42c30f",
   "metadata": {},
   "outputs": [],
   "source": [
    "desktop.kill()"
   ]
  },
  {
   "cell_type": "code",
   "execution_count": 4,
   "id": "7dc4374b",
   "metadata": {},
   "outputs": [],
   "source": [
    "from counter_strike.image_handling import get_mouse_movements\n",
    "from counter_strike.controls import aim, shoot\n",
    "\n",
    "from llms.models import AimingModel\n",
    "\n",
    "aiming_model = AimingModel()"
   ]
  },
  {
   "cell_type": "code",
   "execution_count": 5,
   "id": "b18b62e2",
   "metadata": {},
   "outputs": [],
   "source": [
    "screenshot_message = get_screenshot_message(desktop)"
   ]
  },
  {
   "cell_type": "code",
   "execution_count": 6,
   "id": "de0c256d",
   "metadata": {},
   "outputs": [
    {
     "name": "stdout",
     "output_type": "stream",
     "text": [
      "Model: qwen/qwen2.5-vl-32b-instruct\n",
      "Provider: Fireworks\n"
     ]
    },
    {
     "data": {
      "text/plain": [
       "('```json\\n{\"point\": {\"x\": \"966\", \"y\": \"544\"}}\\n```',\n",
       " ChatCompletion(id='gen-1746964059-5JTwSxoL0nQbgLaUaWa9', choices=[Choice(finish_reason='stop', index=0, logprobs=None, message=ChatCompletionMessage(content='```json\\n{\"point\": {\"x\": \"966\", \"y\": \"544\"}}\\n```', refusal=None, role='assistant', annotations=None, audio=None, function_call=None, tool_calls=None, reasoning=None), native_finish_reason='stop')], created=1746964059, model='qwen/qwen2.5-vl-32b-instruct', object='chat.completion', service_tier=None, system_fingerprint=None, usage=CompletionUsage(completion_tokens=24, prompt_tokens=2790, total_tokens=2814, completion_tokens_details=None, prompt_tokens_details=None), provider='Fireworks'))"
      ]
     },
     "execution_count": 6,
     "metadata": {},
     "output_type": "execute_result"
    }
   ],
   "source": [
    "aiming_model.complete(screenshot_message)"
   ]
  },
  {
   "cell_type": "code",
   "execution_count": 11,
   "id": "7512e965",
   "metadata": {},
   "outputs": [],
   "source": [
    "from llms.tools import MoveTool\n",
    "from llms.models import OpenRouterGameplayModel\n",
    "\n",
    "move_tool = MoveTool(desktop=desktop)\n",
    "tools = {move_tool.name: move_tool}\n",
    "\n",
    "gameplay_model = OpenRouterGameplayModel(tools=tools, \n",
    "                                         model=\"google/gemini-2.5-flash-preview\")"
   ]
  },
  {
   "cell_type": "code",
   "execution_count": 12,
   "id": "d878a03f",
   "metadata": {},
   "outputs": [
    {
     "data": {
      "text/plain": [
       "('',\n",
       " ChatCompletion(id='gen-1746964310-yJNS9m86uSZe2LkwuU2m', choices=[Choice(finish_reason='tool_calls', index=0, logprobs=None, message=ChatCompletionMessage(content='', refusal=None, role='assistant', annotations=None, audio=None, function_call=None, tool_calls=[ChatCompletionMessageToolCall(id='tool_0_move_tool', function=Function(arguments='{\"key_sequence\":\"wwasd\"}', name='move_tool'), type='function', index=0)], reasoning=None), native_finish_reason='STOP')], created=1746964310, model='google/gemini-2.5-flash-preview', object='chat.completion', service_tier=None, system_fingerprint=None, usage=CompletionUsage(completion_tokens=8, prompt_tokens=2042, total_tokens=2050, completion_tokens_details=None, prompt_tokens_details=None), provider='Google'),\n",
       " [ChatCompletionMessageToolCall(id='tool_0_move_tool', function=Function(arguments='{\"key_sequence\":\"wwasd\"}', name='move_tool'), type='function', index=0)])"
      ]
     },
     "execution_count": 12,
     "metadata": {},
     "output_type": "execute_result"
    }
   ],
   "source": [
    "gameplay_model.complete(screenshot_message)"
   ]
  },
  {
   "cell_type": "code",
   "execution_count": 208,
   "id": "846a9e03",
   "metadata": {},
   "outputs": [
    {
     "name": "stdout",
     "output_type": "stream",
     "text": [
      "ImageLoggingSettings: Session directory created at ../images\\20250510_214313\n",
      "\n",
      "--- Iteration 1 ---\n",
      "  [Time] Screenshot: 1.9487s\n",
      "Model: qwen/qwen2.5-vl-32b-instruct\n",
      "Provider: Fireworks\n",
      "  [Time] Aiming Model: 4.4648s\n",
      "  [Action] No Coords. Using Gameplay Model Tool Calls.\n",
      "  [Time] Gameplay Model: 0.1749s\n",
      " Action taken: Tool Calls: [ChatCompletionMessageToolCall(id='tool_0_move_tool', function=Function(arguments='{\"key_sequence\":\"wwwwd\"}', name='move_tool'), type='function', index=0)]\n",
      "  [Time] Iteration 1 Total: 9.1135s\n",
      "\n",
      "--- Iteration 2 ---\n",
      "  [Time] Screenshot: 1.9071s\n",
      "Model: qwen/qwen2.5-vl-32b-instruct\n",
      "Provider: Fireworks\n"
     ]
    },
    {
     "ename": "KeyboardInterrupt",
     "evalue": "",
     "output_type": "error",
     "traceback": [
      "\u001b[31m---------------------------------------------------------------------------\u001b[39m",
      "\u001b[31mKeyboardInterrupt\u001b[39m                         Traceback (most recent call last)",
      "\u001b[36mCell\u001b[39m\u001b[36m \u001b[39m\u001b[32mIn[208]\u001b[39m\u001b[32m, line 3\u001b[39m\n\u001b[32m      1\u001b[39m \u001b[38;5;28;01mfrom\u001b[39;00m\u001b[38;5;250m \u001b[39m\u001b[34;01mcounter_strike\u001b[39;00m\u001b[34;01m.\u001b[39;00m\u001b[34;01magent\u001b[39;00m\u001b[38;5;250m \u001b[39m\u001b[38;5;28;01mimport\u001b[39;00m run_agent\n\u001b[32m----> \u001b[39m\u001b[32m3\u001b[39m \u001b[43mrun_agent\u001b[49m\u001b[43m(\u001b[49m\n\u001b[32m      4\u001b[39m \u001b[43m    \u001b[49m\u001b[43maiming_model\u001b[49m\u001b[43m=\u001b[49m\u001b[43maiming_model\u001b[49m\u001b[43m,\u001b[49m\n\u001b[32m      5\u001b[39m \u001b[43m    \u001b[49m\u001b[43mgameplay_model\u001b[49m\u001b[43m=\u001b[49m\u001b[43mgameplay_model\u001b[49m\u001b[43m,\u001b[49m\n\u001b[32m      6\u001b[39m \u001b[43m    \u001b[49m\u001b[43mdesktop\u001b[49m\u001b[43m=\u001b[49m\u001b[43mdesktop\u001b[49m\u001b[43m,\u001b[49m\n\u001b[32m      7\u001b[39m \u001b[43m    \u001b[49m\u001b[43miterations\u001b[49m\u001b[43m=\u001b[49m\u001b[32;43m20\u001b[39;49m\u001b[43m \u001b[49m\u001b[38;5;66;43;03m# For demonstration\u001b[39;49;00m\n\u001b[32m      8\u001b[39m \u001b[43m)\u001b[49m \n",
      "\u001b[36mFile \u001b[39m\u001b[32mc:\\Users\\richa\\Documents\\projects\\e2b\\counter_strike\\agent.py:131\u001b[39m, in \u001b[36mrun_agent\u001b[39m\u001b[34m(aiming_model, gameplay_model, desktop, iterations)\u001b[39m\n\u001b[32m    127\u001b[39m iteration_start = time.perf_counter()\n\u001b[32m    129\u001b[39m screenshot_message = capture_screenshot(desktop, image_logger)\n\u001b[32m--> \u001b[39m\u001b[32m131\u001b[39m coords, tool_calls, aiming_time, gameplay_time = \u001b[43mprocess_models_concurrently\u001b[49m\u001b[43m(\u001b[49m\n\u001b[32m    132\u001b[39m \u001b[43m    \u001b[49m\u001b[43mscreenshot_message\u001b[49m\u001b[43m,\u001b[49m\n\u001b[32m    133\u001b[39m \u001b[43m    \u001b[49m\u001b[43maiming_model\u001b[49m\u001b[43m,\u001b[49m\n\u001b[32m    134\u001b[39m \u001b[43m    \u001b[49m\u001b[43mgameplay_model\u001b[49m\n\u001b[32m    135\u001b[39m \u001b[43m\u001b[49m\u001b[43m)\u001b[49m\n\u001b[32m    136\u001b[39m \u001b[38;5;28mprint\u001b[39m(\u001b[33mf\u001b[39m\u001b[33m\"\u001b[39m\u001b[33m  [Time] Aiming Model: \u001b[39m\u001b[38;5;132;01m{\u001b[39;00maiming_time\u001b[38;5;132;01m:\u001b[39;00m\u001b[33m.4f\u001b[39m\u001b[38;5;132;01m}\u001b[39;00m\u001b[33ms\u001b[39m\u001b[33m\"\u001b[39m)\n\u001b[32m    138\u001b[39m action_taken = decide_and_act(\n\u001b[32m    139\u001b[39m     coords, tool_calls, gameplay_time, desktop, image_logger, gameplay_model\n\u001b[32m    140\u001b[39m )\n",
      "\u001b[36mFile \u001b[39m\u001b[32mc:\\Users\\richa\\Documents\\projects\\e2b\\counter_strike\\agent.py:60\u001b[39m, in \u001b[36mprocess_models_concurrently\u001b[39m\u001b[34m(screenshot_message, aiming_model, gameplay_model)\u001b[39m\n\u001b[32m     57\u001b[39m     future_aiming = run_model_async(executor, aiming_model, screenshot_message)\n\u001b[32m     58\u001b[39m     future_gameplay = run_model_async(executor, gameplay_model, screenshot_message)\n\u001b[32m---> \u001b[39m\u001b[32m60\u001b[39m     coords, aiming_model_time = \u001b[43mget_aiming_result\u001b[49m\u001b[43m(\u001b[49m\u001b[43mfuture_aiming\u001b[49m\u001b[43m,\u001b[49m\u001b[43m \u001b[49m\u001b[43maiming_model\u001b[49m\u001b[43m)\u001b[49m\n\u001b[32m     61\u001b[39m     tool_calls_output, gameplay_model_time = handle_gameplay_model_response(future_gameplay, coords)\n\u001b[32m     63\u001b[39m \u001b[38;5;28;01mreturn\u001b[39;00m coords, tool_calls_output, aiming_model_time, gameplay_model_time\n",
      "\u001b[36mFile \u001b[39m\u001b[32mc:\\Users\\richa\\Documents\\projects\\e2b\\counter_strike\\agent.py:23\u001b[39m, in \u001b[36mget_aiming_result\u001b[39m\u001b[34m(future_aiming, aiming_model)\u001b[39m\n\u001b[32m     21\u001b[39m \u001b[38;5;28;01mdef\u001b[39;00m\u001b[38;5;250m \u001b[39m\u001b[34mget_aiming_result\u001b[39m(future_aiming, aiming_model):\n\u001b[32m     22\u001b[39m     time_start = time.perf_counter()\n\u001b[32m---> \u001b[39m\u001b[32m23\u001b[39m     point_json, _ = \u001b[43mfuture_aiming\u001b[49m\u001b[43m.\u001b[49m\u001b[43mresult\u001b[49m\u001b[43m(\u001b[49m\u001b[43m)\u001b[49m\n\u001b[32m     24\u001b[39m     time_end = time.perf_counter()\n\u001b[32m     25\u001b[39m     coords = aiming_model.parse_point_json(point_json)\n",
      "\u001b[36mFile \u001b[39m\u001b[32mc:\\Users\\richa\\miniconda3\\envs\\e2b\\Lib\\concurrent\\futures\\_base.py:451\u001b[39m, in \u001b[36mFuture.result\u001b[39m\u001b[34m(self, timeout)\u001b[39m\n\u001b[32m    448\u001b[39m \u001b[38;5;28;01melif\u001b[39;00m \u001b[38;5;28mself\u001b[39m._state == FINISHED:\n\u001b[32m    449\u001b[39m     \u001b[38;5;28;01mreturn\u001b[39;00m \u001b[38;5;28mself\u001b[39m.__get_result()\n\u001b[32m--> \u001b[39m\u001b[32m451\u001b[39m \u001b[38;5;28;43mself\u001b[39;49m\u001b[43m.\u001b[49m\u001b[43m_condition\u001b[49m\u001b[43m.\u001b[49m\u001b[43mwait\u001b[49m\u001b[43m(\u001b[49m\u001b[43mtimeout\u001b[49m\u001b[43m)\u001b[49m\n\u001b[32m    453\u001b[39m \u001b[38;5;28;01mif\u001b[39;00m \u001b[38;5;28mself\u001b[39m._state \u001b[38;5;129;01min\u001b[39;00m [CANCELLED, CANCELLED_AND_NOTIFIED]:\n\u001b[32m    454\u001b[39m     \u001b[38;5;28;01mraise\u001b[39;00m CancelledError()\n",
      "\u001b[36mFile \u001b[39m\u001b[32mc:\\Users\\richa\\miniconda3\\envs\\e2b\\Lib\\threading.py:355\u001b[39m, in \u001b[36mCondition.wait\u001b[39m\u001b[34m(self, timeout)\u001b[39m\n\u001b[32m    353\u001b[39m \u001b[38;5;28;01mtry\u001b[39;00m:    \u001b[38;5;66;03m# restore state no matter what (e.g., KeyboardInterrupt)\u001b[39;00m\n\u001b[32m    354\u001b[39m     \u001b[38;5;28;01mif\u001b[39;00m timeout \u001b[38;5;129;01mis\u001b[39;00m \u001b[38;5;28;01mNone\u001b[39;00m:\n\u001b[32m--> \u001b[39m\u001b[32m355\u001b[39m         \u001b[43mwaiter\u001b[49m\u001b[43m.\u001b[49m\u001b[43macquire\u001b[49m\u001b[43m(\u001b[49m\u001b[43m)\u001b[49m\n\u001b[32m    356\u001b[39m         gotit = \u001b[38;5;28;01mTrue\u001b[39;00m\n\u001b[32m    357\u001b[39m     \u001b[38;5;28;01melse\u001b[39;00m:\n",
      "\u001b[31mKeyboardInterrupt\u001b[39m: "
     ]
    }
   ],
   "source": [
    "from counter_strike.agent import run_agent\n",
    "\n",
    "run_agent(\n",
    "    aiming_model=aiming_model,\n",
    "    gameplay_model=gameplay_model,\n",
    "    desktop=desktop,\n",
    "    iterations=20 # For demonstration\n",
    ") "
   ]
  }
 ],
 "metadata": {
  "kernelspec": {
   "display_name": "e2b",
   "language": "python",
   "name": "python3"
  },
  "language_info": {
   "codemirror_mode": {
    "name": "ipython",
    "version": 3
   },
   "file_extension": ".py",
   "mimetype": "text/x-python",
   "name": "python",
   "nbconvert_exporter": "python",
   "pygments_lexer": "ipython3",
   "version": "3.12.9"
  }
 },
 "nbformat": 4,
 "nbformat_minor": 5
}

{
 "cells": [
  {
   "cell_type": "code",
   "execution_count": 2,
   "id": "0b9fea95",
   "metadata": {},
   "outputs": [],
   "source": [
    "# automatically load changes from the sandbox_steps module\n",
    "%load_ext autoreload\n",
    "%autoreload 2"
   ]
  },
  {
   "cell_type": "code",
   "execution_count": 32,
   "id": "3df2a758",
   "metadata": {},
   "outputs": [],
   "source": [
    "import sys\n",
    "import os\n",
    "from e2b_desktop import Sandbox, CommandExitException\n",
    "from dotenv import load_dotenv\n",
    "load_dotenv()\n",
    "\n",
    "sys.path.append(os.path.abspath('..')) # Add the parent directory (project root) to sys.path\n",
    "\n",
    "from counter_strike.install_cs import install_cs_1_6\n",
    "from counter_strike.image_handling import get_screenshot_message, draw_point\n",
    "\n",
    "from llms.models import AimingModel\n",
    "\n",
    "E2B_API_KEY = os.environ.get(\"E2B_API_KEY\")\n",
    "CS_SERVER_IP = os.environ.get(\"CS_SERVER_IP\")\n"
   ]
  },
  {
   "cell_type": "code",
   "execution_count": 307,
   "id": "1a496eaa",
   "metadata": {},
   "outputs": [
    {
     "name": "stdout",
     "output_type": "stream",
     "text": [
      "https://6080-imuf5225tbcjhut3bj07v-53fc73d7.e2b.app/vnc.html?autoconnect=true&resize=scale\n",
      "https://6080-imuf5225tbcjhut3bj07v-53fc73d7.e2b.app/vnc.html?autoconnect=true&view_only=true&resize=scale\n"
     ]
    }
   ],
   "source": [
    "# With custom configuration\n",
    "desktop = Sandbox(\n",
    "    display=\":0\",  # Custom display (defaults to :0)\n",
    "    resolution=(1920, 1080),  # Custom resolution\n",
    "    timeout = 3600) \n",
    "\n",
    "desktop.stream.start()\n",
    "\n",
    "# Get stream URL\n",
    "url = desktop.stream.get_url()\n",
    "print(url)\n",
    "\n",
    "# only viewing \n",
    "url_view = desktop.stream.get_url(view_only=True)\n",
    "print(url_view)"
   ]
  },
  {
   "cell_type": "code",
   "execution_count": 308,
   "id": "f0668a28",
   "metadata": {},
   "outputs": [],
   "source": [
    "install_cs_1_6(desktop=desktop)"
   ]
  },
  {
   "cell_type": "markdown",
   "id": "fc5dcc52",
   "metadata": {},
   "source": [
    "### Steps to connect to the server"
   ]
  },
  {
   "cell_type": "code",
   "execution_count": 309,
   "id": "0ddd5cb9",
   "metadata": {},
   "outputs": [
    {
     "name": "stdout",
     "output_type": "stream",
     "text": [
      "0\n",
      "1\n",
      "2\n",
      "3\n",
      "4\n"
     ]
    }
   ],
   "source": [
    "desktop.wait(5000)\n",
    "desktop.left_click(76, 948) # click on Find Servers\n",
    "desktop.wait(1000)\n",
    "desktop.left_click(258, 76) # Click on Favorites Tab\n",
    "desktop.wait(1000)\n",
    "desktop.left_click(665, 604) # Add server\n",
    "desktop.wait(1000)\n",
    "desktop.write(text=CS_SERVER_IP) # Type server ip Address\n",
    "desktop.wait(500)\n",
    "desktop.left_click(1119, 527) # Add server to favourites\n",
    "desktop.wait(500)\n",
    "desktop.left_click(273, 126) # Select the added server\n",
    "desktop.wait(500)\n",
    "desktop.left_click(849, 606) # Connect\n",
    "for i in range(5):\n",
    "    print(i)\n",
    "    desktop.wait(30_000)\n",
    "\n",
    "\n",
    "# Now wait at least 2 mins for connection and Download"
   ]
  },
  {
   "cell_type": "code",
   "execution_count": 310,
   "id": "11893a72",
   "metadata": {},
   "outputs": [],
   "source": [
    "# steps to connect to the game\n",
    "desktop.press(\"enter\")\n",
    "desktop.wait(300)\n",
    "desktop.press(\"1\") # 1=T, 2=CT, 6=SPECTATE\n",
    "desktop.wait(300)\n",
    "desktop.press(\"4\") # T side: Guerilla warfare skin because they have the red headband\n",
    "\n",
    "# congrats, you joined the game!!"
   ]
  },
  {
   "cell_type": "code",
   "execution_count": 260,
   "id": "4b06aff1",
   "metadata": {},
   "outputs": [],
   "source": [
    "desktop.move_mouse(150, 10)\n"
   ]
  },
  {
   "cell_type": "code",
   "execution_count": null,
   "id": "b4486c2a",
   "metadata": {},
   "outputs": [
    {
     "name": "stdout",
     "output_type": "stream",
     "text": [
      "{'x': 1257, 'y': 465}\n"
     ]
    }
   ],
   "source": [
    "### OLD CODE FOR DEBUGGING OF THE AIM MULTIPLIER\n",
    "\n",
    "screenshot_coords = (1189, 483)\n",
    "scr_x = screenshot_coords[0]\n",
    "scr_y = screenshot_coords[1]\n",
    "\n",
    "x_mid = 960\n",
    "y_mid = 540\n",
    "aim_multiplier = 1.3\n",
    "\n",
    "\n",
    "if scr_y >= y_mid:\n",
    "    diff = scr_y - y_mid\n",
    "    new_y = diff * aim_multiplier + y_mid\n",
    "else: # we are aiming up\n",
    "    diff = y_mid - scr_y\n",
    "    new_y = y_mid - diff * aim_multiplier\n",
    "\n",
    "if scr_x >= x_mid:\n",
    "    diff = scr_x - x_mid\n",
    "    new_x = diff * aim_multiplier + x_mid\n",
    "else: # we are aiming up\n",
    "    diff = x_mid - scr_x\n",
    "    new_x = x_mid - diff * aim_multiplier\n",
    "\n",
    "# this is the case we are not overflowing\n",
    "move_mouse_coords = {\"x\": int(new_x),\n",
    "                     \"y\": int(new_y)}\n",
    "print(move_mouse_coords)\n",
    "desktop.move_mouse(**move_mouse_coords)\n"
   ]
  },
  {
   "cell_type": "code",
   "execution_count": 293,
   "id": "d3eac3d1",
   "metadata": {},
   "outputs": [],
   "source": [
    "screenshot_message = get_screenshot_message(desktop, filename=\"../images/screenshot.jpg\")"
   ]
  },
  {
   "cell_type": "code",
   "execution_count": 311,
   "id": "c9e81e43",
   "metadata": {},
   "outputs": [
    {
     "name": "stdout",
     "output_type": "stream",
     "text": [
      "Original screenshot_coords: (1900, 552)\n",
      "Executing movement 1: {'x': 1920, 'y': 555}\n",
      "Executing movement 2: {'x': 1222, 'y': 540}\n",
      "------------------------------\n"
     ]
    }
   ],
   "source": [
    "# --- Your initial parameters ---\n",
    "screenshot_coords = (1900, 552)\n",
    "x_mid = 960\n",
    "y_mid = 540\n",
    "aim_multiplier = 1.3\n",
    "\n",
    "# Determine screen dimensions (assuming mid is indeed the center)\n",
    "screen_width = x_mid * 2\n",
    "screen_height = y_mid * 2\n",
    "\n",
    "# --- Get the list of movements ---\n",
    "planned_movements = calculate_mouse_movements(\n",
    "    screenshot_coords,\n",
    "    x_mid,\n",
    "    y_mid,\n",
    "    aim_multiplier,\n",
    "    screen_width,\n",
    "    screen_height\n",
    ")\n",
    "\n",
    "# --- Execute the movements ---\n",
    "print(f\"Original screenshot_coords: {screenshot_coords}\")\n",
    "if not planned_movements:\n",
    "    print(\"No movement calculated.\")\n",
    "else:\n",
    "    for i, move_coords in enumerate(planned_movements):\n",
    "        print(f\"Executing movement {i+1}: {move_coords}\")\n",
    "        desktop.move_mouse(**move_coords)\n",
    "\n",
    "print(\"-\" * 30)"
   ]
  },
  {
   "cell_type": "code",
   "execution_count": 306,
   "id": "e0713e56",
   "metadata": {},
   "outputs": [
    {
     "ename": "RuntimeError",
     "evalue": "Attempted to access 'response.content' on a streaming response. Call 'response.read()' first.",
     "output_type": "error",
     "traceback": [
      "\u001b[31m---------------------------------------------------------------------------\u001b[39m",
      "\u001b[31mRuntimeError\u001b[39m                              Traceback (most recent call last)",
      "\u001b[36mCell\u001b[39m\u001b[36m \u001b[39m\u001b[32mIn[306]\u001b[39m\u001b[32m, line 1\u001b[39m\n\u001b[32m----> \u001b[39m\u001b[32m1\u001b[39m \u001b[43mdesktop\u001b[49m\u001b[43m.\u001b[49m\u001b[43mleft_click\u001b[49m\u001b[43m(\u001b[49m\u001b[32;43m170\u001b[39;49m\u001b[43m,\u001b[49m\u001b[43m \u001b[49m\u001b[32;43m10\u001b[39;49m\u001b[43m)\u001b[49m\n",
      "\u001b[36mFile \u001b[39m\u001b[32mc:\\Users\\richa\\miniconda3\\envs\\e2b\\Lib\\site-packages\\e2b_desktop\\main.py:321\u001b[39m, in \u001b[36mSandbox.left_click\u001b[39m\u001b[34m(self, x, y)\u001b[39m\n\u001b[32m    317\u001b[39m \u001b[38;5;250m\u001b[39m\u001b[33;03m\"\"\"\u001b[39;00m\n\u001b[32m    318\u001b[39m \u001b[33;03mLeft click on the mouse position.\u001b[39;00m\n\u001b[32m    319\u001b[39m \u001b[33;03m\"\"\"\u001b[39;00m\n\u001b[32m    320\u001b[39m \u001b[38;5;28;01mif\u001b[39;00m x \u001b[38;5;129;01mand\u001b[39;00m y:\n\u001b[32m--> \u001b[39m\u001b[32m321\u001b[39m     \u001b[38;5;28;43mself\u001b[39;49m\u001b[43m.\u001b[49m\u001b[43mmove_mouse\u001b[49m\u001b[43m(\u001b[49m\u001b[43mx\u001b[49m\u001b[43m,\u001b[49m\u001b[43m \u001b[49m\u001b[43my\u001b[49m\u001b[43m)\u001b[49m\n\u001b[32m    322\u001b[39m \u001b[38;5;28mself\u001b[39m.commands.run(\u001b[33m\"\u001b[39m\u001b[33mxdotool click 1\u001b[39m\u001b[33m\"\u001b[39m, envs={\u001b[33m\"\u001b[39m\u001b[33mDISPLAY\u001b[39m\u001b[33m\"\u001b[39m: \u001b[38;5;28mself\u001b[39m._display})\n",
      "\u001b[36mFile \u001b[39m\u001b[32mc:\\Users\\richa\\miniconda3\\envs\\e2b\\Lib\\site-packages\\e2b_desktop\\main.py:369\u001b[39m, in \u001b[36mSandbox.move_mouse\u001b[39m\u001b[34m(self, x, y)\u001b[39m\n\u001b[32m    362\u001b[39m \u001b[38;5;28;01mdef\u001b[39;00m\u001b[38;5;250m \u001b[39m\u001b[34mmove_mouse\u001b[39m(\u001b[38;5;28mself\u001b[39m, x: \u001b[38;5;28mint\u001b[39m, y: \u001b[38;5;28mint\u001b[39m):\n\u001b[32m    363\u001b[39m \u001b[38;5;250m    \u001b[39m\u001b[33;03m\"\"\"\u001b[39;00m\n\u001b[32m    364\u001b[39m \u001b[33;03m    Move the mouse to the given coordinates.\u001b[39;00m\n\u001b[32m    365\u001b[39m \u001b[33;03m    \u001b[39;00m\n\u001b[32m    366\u001b[39m \u001b[33;03m    :param x: The x coordinate.\u001b[39;00m\n\u001b[32m    367\u001b[39m \u001b[33;03m    :param y: The y coordinate.\u001b[39;00m\n\u001b[32m    368\u001b[39m \u001b[33;03m    \"\"\"\u001b[39;00m\n\u001b[32m--> \u001b[39m\u001b[32m369\u001b[39m     \u001b[38;5;28;43mself\u001b[39;49m\u001b[43m.\u001b[49m\u001b[43mcommands\u001b[49m\u001b[43m.\u001b[49m\u001b[43mrun\u001b[49m\u001b[43m(\u001b[49m\u001b[33;43mf\u001b[39;49m\u001b[33;43m\"\u001b[39;49m\u001b[33;43mxdotool mousemove --sync \u001b[39;49m\u001b[38;5;132;43;01m{\u001b[39;49;00m\u001b[43mx\u001b[49m\u001b[38;5;132;43;01m}\u001b[39;49;00m\u001b[33;43m \u001b[39;49m\u001b[38;5;132;43;01m{\u001b[39;49;00m\u001b[43my\u001b[49m\u001b[38;5;132;43;01m}\u001b[39;49;00m\u001b[33;43m\"\u001b[39;49m\u001b[43m,\u001b[49m\u001b[43m \u001b[49m\u001b[43menvs\u001b[49m\u001b[43m=\u001b[49m\u001b[43m{\u001b[49m\u001b[33;43m\"\u001b[39;49m\u001b[33;43mDISPLAY\u001b[39;49m\u001b[33;43m\"\u001b[39;49m\u001b[43m:\u001b[49m\u001b[43m \u001b[49m\u001b[38;5;28;43mself\u001b[39;49m\u001b[43m.\u001b[49m\u001b[43m_display\u001b[49m\u001b[43m}\u001b[49m\u001b[43m)\u001b[49m\n",
      "\u001b[36mFile \u001b[39m\u001b[32mc:\\Users\\richa\\miniconda3\\envs\\e2b\\Lib\\site-packages\\e2b\\sandbox_sync\\commands\\command.py:200\u001b[39m, in \u001b[36mCommands.run\u001b[39m\u001b[34m(self, cmd, background, envs, user, cwd, on_stdout, on_stderr, timeout, request_timeout)\u001b[39m\n\u001b[32m    188\u001b[39m \u001b[38;5;28;01mdef\u001b[39;00m\u001b[38;5;250m \u001b[39m\u001b[34mrun\u001b[39m(\n\u001b[32m    189\u001b[39m     \u001b[38;5;28mself\u001b[39m,\n\u001b[32m    190\u001b[39m     cmd: \u001b[38;5;28mstr\u001b[39m,\n\u001b[32m   (...)\u001b[39m\u001b[32m    198\u001b[39m     request_timeout: Optional[\u001b[38;5;28mfloat\u001b[39m] = \u001b[38;5;28;01mNone\u001b[39;00m,\n\u001b[32m    199\u001b[39m ):\n\u001b[32m--> \u001b[39m\u001b[32m200\u001b[39m     proc = \u001b[38;5;28;43mself\u001b[39;49m\u001b[43m.\u001b[49m\u001b[43m_start\u001b[49m\u001b[43m(\u001b[49m\n\u001b[32m    201\u001b[39m \u001b[43m        \u001b[49m\u001b[43mcmd\u001b[49m\u001b[43m,\u001b[49m\n\u001b[32m    202\u001b[39m \u001b[43m        \u001b[49m\u001b[43menvs\u001b[49m\u001b[43m,\u001b[49m\n\u001b[32m    203\u001b[39m \u001b[43m        \u001b[49m\u001b[43muser\u001b[49m\u001b[43m,\u001b[49m\n\u001b[32m    204\u001b[39m \u001b[43m        \u001b[49m\u001b[43mcwd\u001b[49m\u001b[43m,\u001b[49m\n\u001b[32m    205\u001b[39m \u001b[43m        \u001b[49m\u001b[43mtimeout\u001b[49m\u001b[43m,\u001b[49m\n\u001b[32m    206\u001b[39m \u001b[43m        \u001b[49m\u001b[43mrequest_timeout\u001b[49m\u001b[43m,\u001b[49m\n\u001b[32m    207\u001b[39m \u001b[43m    \u001b[49m\u001b[43m)\u001b[49m\n\u001b[32m    209\u001b[39m     \u001b[38;5;28;01mreturn\u001b[39;00m (\n\u001b[32m    210\u001b[39m         proc\n\u001b[32m    211\u001b[39m         \u001b[38;5;28;01mif\u001b[39;00m background\n\u001b[32m   (...)\u001b[39m\u001b[32m    215\u001b[39m         )\n\u001b[32m    216\u001b[39m     )\n",
      "\u001b[36mFile \u001b[39m\u001b[32mc:\\Users\\richa\\miniconda3\\envs\\e2b\\Lib\\site-packages\\e2b\\sandbox_sync\\commands\\command.py:260\u001b[39m, in \u001b[36mCommands._start\u001b[39m\u001b[34m(self, cmd, envs, user, cwd, timeout, request_timeout)\u001b[39m\n\u001b[32m    254\u001b[39m     \u001b[38;5;28;01mreturn\u001b[39;00m CommandHandle(\n\u001b[32m    255\u001b[39m         pid=start_event.event.start.pid,\n\u001b[32m    256\u001b[39m         handle_kill=\u001b[38;5;28;01mlambda\u001b[39;00m: \u001b[38;5;28mself\u001b[39m.kill(start_event.event.start.pid),\n\u001b[32m    257\u001b[39m         events=events,\n\u001b[32m    258\u001b[39m     )\n\u001b[32m    259\u001b[39m \u001b[38;5;28;01mexcept\u001b[39;00m \u001b[38;5;167;01mException\u001b[39;00m \u001b[38;5;28;01mas\u001b[39;00m e:\n\u001b[32m--> \u001b[39m\u001b[32m260\u001b[39m     \u001b[38;5;28;01mraise\u001b[39;00m handle_rpc_exception(e)\n",
      "\u001b[36mFile \u001b[39m\u001b[32mc:\\Users\\richa\\miniconda3\\envs\\e2b\\Lib\\site-packages\\e2b\\sandbox_sync\\commands\\command.py:247\u001b[39m, in \u001b[36mCommands._start\u001b[39m\u001b[34m(self, cmd, envs, user, cwd, timeout, request_timeout)\u001b[39m\n\u001b[32m    227\u001b[39m events = \u001b[38;5;28mself\u001b[39m._rpc.start(\n\u001b[32m    228\u001b[39m     process_pb2.StartRequest(\n\u001b[32m    229\u001b[39m         process=process_pb2.ProcessConfig(\n\u001b[32m   (...)\u001b[39m\u001b[32m    243\u001b[39m     ),\n\u001b[32m    244\u001b[39m )\n\u001b[32m    246\u001b[39m \u001b[38;5;28;01mtry\u001b[39;00m:\n\u001b[32m--> \u001b[39m\u001b[32m247\u001b[39m     start_event = \u001b[43mevents\u001b[49m\u001b[43m.\u001b[49m\u001b[34;43m__next__\u001b[39;49m\u001b[43m(\u001b[49m\u001b[43m)\u001b[49m\n\u001b[32m    249\u001b[39m     \u001b[38;5;28;01mif\u001b[39;00m \u001b[38;5;129;01mnot\u001b[39;00m start_event.HasField(\u001b[33m\"\u001b[39m\u001b[33mevent\u001b[39m\u001b[33m\"\u001b[39m):\n\u001b[32m    250\u001b[39m         \u001b[38;5;28;01mraise\u001b[39;00m SandboxException(\n\u001b[32m    251\u001b[39m             \u001b[33mf\u001b[39m\u001b[33m\"\u001b[39m\u001b[33mFailed to start process: expected start event, got \u001b[39m\u001b[38;5;132;01m{\u001b[39;00mstart_event\u001b[38;5;132;01m}\u001b[39;00m\u001b[33m\"\u001b[39m\n\u001b[32m    252\u001b[39m         )\n",
      "\u001b[36mFile \u001b[39m\u001b[32mc:\\Users\\richa\\miniconda3\\envs\\e2b\\Lib\\site-packages\\e2b_connect\\client.py:388\u001b[39m, in \u001b[36mClient.call_server_stream\u001b[39m\u001b[34m(self, req, request_timeout, timeout, headers, **opts)\u001b[39m\n\u001b[32m    386\u001b[39m \u001b[38;5;28;01mwith\u001b[39;00m conn.stream(**req_data) \u001b[38;5;28;01mas\u001b[39;00m http_resp:\n\u001b[32m    387\u001b[39m     \u001b[38;5;28;01mif\u001b[39;00m http_resp.status != \u001b[32m200\u001b[39m:\n\u001b[32m--> \u001b[39m\u001b[32m388\u001b[39m         \u001b[38;5;28;01mraise\u001b[39;00m \u001b[43merror_for_response\u001b[49m\u001b[43m(\u001b[49m\u001b[43mhttp_resp\u001b[49m\u001b[43m)\u001b[49m\n\u001b[32m    390\u001b[39m     parser = ServerStreamParser(\n\u001b[32m    391\u001b[39m         decode=\u001b[38;5;28mself\u001b[39m._codec.decode,\n\u001b[32m    392\u001b[39m         response_type=\u001b[38;5;28mself\u001b[39m._response_type,\n\u001b[32m    393\u001b[39m     )\n\u001b[32m    395\u001b[39m     \u001b[38;5;28;01mfor\u001b[39;00m chunk \u001b[38;5;129;01min\u001b[39;00m http_resp.iter_stream():\n",
      "\u001b[36mFile \u001b[39m\u001b[32mc:\\Users\\richa\\miniconda3\\envs\\e2b\\Lib\\site-packages\\e2b_connect\\client.py:66\u001b[39m, in \u001b[36merror_for_response\u001b[39m\u001b[34m(http_resp)\u001b[39m\n\u001b[32m     64\u001b[39m \u001b[38;5;28;01mdef\u001b[39;00m\u001b[38;5;250m \u001b[39m\u001b[34merror_for_response\u001b[39m(http_resp: Response):\n\u001b[32m     65\u001b[39m     \u001b[38;5;28;01mtry\u001b[39;00m:\n\u001b[32m---> \u001b[39m\u001b[32m66\u001b[39m         error = json.loads(\u001b[43mhttp_resp\u001b[49m\u001b[43m.\u001b[49m\u001b[43mcontent\u001b[49m)\n\u001b[32m     67\u001b[39m     \u001b[38;5;28;01mexcept\u001b[39;00m (json.decoder.JSONDecodeError, \u001b[38;5;167;01mKeyError\u001b[39;00m):\n\u001b[32m     68\u001b[39m         \u001b[38;5;28;01mif\u001b[39;00m http_resp.status == \u001b[32m429\u001b[39m:\n",
      "\u001b[36mFile \u001b[39m\u001b[32mc:\\Users\\richa\\miniconda3\\envs\\e2b\\Lib\\site-packages\\httpcore\\_models.py:406\u001b[39m, in \u001b[36mResponse.content\u001b[39m\u001b[34m(self)\u001b[39m\n\u001b[32m    404\u001b[39m \u001b[38;5;28;01mif\u001b[39;00m \u001b[38;5;129;01mnot\u001b[39;00m \u001b[38;5;28mhasattr\u001b[39m(\u001b[38;5;28mself\u001b[39m, \u001b[33m\"\u001b[39m\u001b[33m_content\u001b[39m\u001b[33m\"\u001b[39m):\n\u001b[32m    405\u001b[39m     \u001b[38;5;28;01mif\u001b[39;00m \u001b[38;5;28misinstance\u001b[39m(\u001b[38;5;28mself\u001b[39m.stream, typing.Iterable):\n\u001b[32m--> \u001b[39m\u001b[32m406\u001b[39m         \u001b[38;5;28;01mraise\u001b[39;00m \u001b[38;5;167;01mRuntimeError\u001b[39;00m(\n\u001b[32m    407\u001b[39m             \u001b[33m\"\u001b[39m\u001b[33mAttempted to access \u001b[39m\u001b[33m'\u001b[39m\u001b[33mresponse.content\u001b[39m\u001b[33m'\u001b[39m\u001b[33m on a streaming response. \u001b[39m\u001b[33m\"\u001b[39m\n\u001b[32m    408\u001b[39m             \u001b[33m\"\u001b[39m\u001b[33mCall \u001b[39m\u001b[33m'\u001b[39m\u001b[33mresponse.read()\u001b[39m\u001b[33m'\u001b[39m\u001b[33m first.\u001b[39m\u001b[33m\"\u001b[39m\n\u001b[32m    409\u001b[39m         )\n\u001b[32m    410\u001b[39m     \u001b[38;5;28;01melse\u001b[39;00m:\n\u001b[32m    411\u001b[39m         \u001b[38;5;28;01mraise\u001b[39;00m \u001b[38;5;167;01mRuntimeError\u001b[39;00m(\n\u001b[32m    412\u001b[39m             \u001b[33m\"\u001b[39m\u001b[33mAttempted to access \u001b[39m\u001b[33m'\u001b[39m\u001b[33mresponse.content\u001b[39m\u001b[33m'\u001b[39m\u001b[33m on a streaming response. \u001b[39m\u001b[33m\"\u001b[39m\n\u001b[32m    413\u001b[39m             \u001b[33m\"\u001b[39m\u001b[33mCall \u001b[39m\u001b[33m'\u001b[39m\u001b[33mawait response.aread()\u001b[39m\u001b[33m'\u001b[39m\u001b[33m first.\u001b[39m\u001b[33m\"\u001b[39m\n\u001b[32m    414\u001b[39m         )\n",
      "\u001b[31mRuntimeError\u001b[39m: Attempted to access 'response.content' on a streaming response. Call 'response.read()' first."
     ]
    }
   ],
   "source": [
    "desktop.left_click(170, 10)"
   ]
  },
  {
   "cell_type": "code",
   "execution_count": 268,
   "id": "fd42c30f",
   "metadata": {},
   "outputs": [],
   "source": [
    "desktop.press(\"enter\")"
   ]
  },
  {
   "cell_type": "code",
   "execution_count": null,
   "id": "7dc4374b",
   "metadata": {},
   "outputs": [],
   "source": [
    "aiming_model = AimingModel()"
   ]
  },
  {
   "cell_type": "code",
   "execution_count": null,
   "id": "d37bf48f",
   "metadata": {},
   "outputs": [
    {
     "name": "stdout",
     "output_type": "stream",
     "text": [
      "```json\n",
      "{\"point\": {\"x\": \"760\", \"y\": \"562\"}}\n",
      "```\n",
      "{'x': 760, 'y': 562}\n",
      "<class 'dict'>\n",
      "Original screenshot_coords: (760, 562)\n",
      "Executing movement 1: {'x': 700, 'y': 568}\n",
      "------------------------------\n"
     ]
    }
   ],
   "source": [
    "screenshot_message = get_screenshot_message(desktop, filename=\"../images/screenshot.jpg\")\n",
    "\n",
    "point_json, _ = aiming_model.complete(messages=screenshot_message)\n",
    "print(point_json)\n",
    "coords = aiming_model.parse_point_json(point_json)\n",
    "print(coords)\n",
    "print(type(coords))\n",
    "draw_point(point = coords, image_path=\"../images/screenshot.jpg\", output_path=\"../images/screenshot_annotated.jpg\")\n",
    "\n",
    "def aim_to_position(coords: Dict):\n",
    "    scr_x = coords[\"x\"]\n",
    "    scr_y = coords[\"y\"]\n",
    "    screenshot_coords = (scr_x, scr_y)\n",
    "\n",
    "\n",
    "    x_mid = 960\n",
    "    y_mid = 540\n",
    "    aim_multiplier = 1.3\n",
    "\n",
    "    # Determine screen dimensions (assuming mid is indeed the center)\n",
    "    screen_width = x_mid * 2\n",
    "    screen_height = y_mid * 2\n",
    "\n",
    "    # --- Get the list of movements ---\n",
    "    planned_movements = calculate_mouse_movements(\n",
    "        screenshot_coords,\n",
    "        x_mid,\n",
    "        y_mid,\n",
    "        aim_multiplier,\n",
    "        screen_width,\n",
    "        screen_height\n",
    "    )\n",
    "\n",
    "    # --- Execute the movements ---\n",
    "    print(f\"Original screenshot_coords: {screenshot_coords}\")\n",
    "    if not planned_movements:\n",
    "        print(\"No movement calculated.\")\n",
    "    else:\n",
    "        for i, move_coords in enumerate(planned_movements):\n",
    "            print(f\"Executing movement {i+1}: {move_coords}\")\n",
    "            desktop.move_mouse(**move_coords)\n",
    "\n",
    "    print(\"-\" * 30)\n",
    "\n",
    "desktop.left_click()\n",
    "desktop.wait(300)\n",
    "desktop.left_click()\n",
    "desktop.wait(300)\n",
    "desktop.left_click()\n",
    "desktop.wait(300)"
   ]
  }
 ],
 "metadata": {
  "kernelspec": {
   "display_name": "e2b",
   "language": "python",
   "name": "python3"
  },
  "language_info": {
   "codemirror_mode": {
    "name": "ipython",
    "version": 3
   },
   "file_extension": ".py",
   "mimetype": "text/x-python",
   "name": "python",
   "nbconvert_exporter": "python",
   "pygments_lexer": "ipython3",
   "version": "3.12.9"
  }
 },
 "nbformat": 4,
 "nbformat_minor": 5
}

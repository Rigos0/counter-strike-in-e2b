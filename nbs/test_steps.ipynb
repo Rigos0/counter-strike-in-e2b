{
 "cells": [
  {
   "cell_type": "code",
   "execution_count": 119,
   "id": "e3155b33",
   "metadata": {},
   "outputs": [],
   "source": [
    "import sys\n",
    "import os\n",
    "\n",
    "# Add the parent directory (project root) to sys.path\n",
    "sys.path.append(os.path.abspath('..'))\n",
    "\n",
    "from sandbox_steps.main import DesktopSteps\n",
    "from e2b_desktop import Sandbox, CommandExitException\n",
    "E2B_API_KEY = os.environ.get(\"E2B_API_KEY\")"
   ]
  },
  {
   "cell_type": "code",
   "execution_count": 28,
   "id": "516049aa",
   "metadata": {},
   "outputs": [
    {
     "name": "stdout",
     "output_type": "stream",
     "text": [
      "The autoreload extension is already loaded. To reload it, use:\n",
      "  %reload_ext autoreload\n"
     ]
    }
   ],
   "source": [
    "# automatically load changes from the sandbox_steps module\n",
    "%load_ext autoreload\n",
    "%autoreload 2"
   ]
  },
  {
   "cell_type": "code",
   "execution_count": 126,
   "id": "11c5a4bd",
   "metadata": {},
   "outputs": [
    {
     "name": "stdout",
     "output_type": "stream",
     "text": [
      "https://6080-iaqgg27k5t5orpequpb6q-ae06b565.e2b.app/vnc.html?autoconnect=true&resize=scale\n"
     ]
    }
   ],
   "source": [
    "# With custom configuration\n",
    "desktop = Sandbox(\n",
    "    display=\":0\",  # Custom display (defaults to :0)\n",
    "    resolution=(1920, 1080),  # Custom resolution\n",
    "    timeout = 3600) \n",
    "\n",
    "desktop.stream.start()\n",
    "\n",
    "# Get stream URL\n",
    "url = desktop.stream.get_url()\n",
    "print(url)"
   ]
  },
  {
   "cell_type": "code",
   "execution_count": 121,
   "id": "87894e91",
   "metadata": {},
   "outputs": [
    {
     "data": {
      "text/plain": [
       "[]"
      ]
     },
     "execution_count": 121,
     "metadata": {},
     "output_type": "execute_result"
    }
   ],
   "source": [
    "running_sandboxes = Sandbox.list()\n",
    "running_sandboxes"
   ]
  },
  {
   "cell_type": "code",
   "execution_count": 8,
   "id": "d6afb069",
   "metadata": {},
   "outputs": [
    {
     "data": {
      "text/plain": [
       "True"
      ]
     },
     "execution_count": 8,
     "metadata": {},
     "output_type": "execute_result"
    }
   ],
   "source": [
    "Sandbox.kill(\"ig67ifl7itvszhdnlxm3h-6cc9e88b\")"
   ]
  },
  {
   "cell_type": "code",
   "execution_count": null,
   "id": "89b916a1",
   "metadata": {},
   "outputs": [],
   "source": [
    "Sandbox.left_click(100, 100) \n",
    "Sandbox.right_click(200, 200)"
   ]
  },
  {
   "cell_type": "code",
   "execution_count": 127,
   "id": "5371c180",
   "metadata": {},
   "outputs": [],
   "source": [
    "def install_csgo(desktop: Sandbox):\n",
    "    desktop.open(\"https://www.cybersports.lt/setup/\")\n",
    "    desktop.commands.run(\"sudo dpkg --add-architecture i386\")\n",
    "    desktop.commands.run(\"sudo apt update\")\n",
    "    desktop.wait(100)\n",
    "    desktop.commands.run(\"sudo apt install -y wine32\")\n",
    "    desktop.wait(2000)\n",
    "    try:\n",
    "        desktop.commands.run(\"wine .\") # this throws an error for fun\n",
    "    except CommandExitException:\n",
    "        pass\n",
    "    desktop.open(\"https://drive.google.com/u/0/uc?id=1TIsvGACSrQOr1tgPaVpJebH375LjLIV6&export=download\")\n",
    "    desktop.wait(ms=4000)\n",
    "    desktop.left_click(460, 305) #click the Download button\n",
    "    desktop.wait(ms=5000) \n",
    "    desktop.commands.run(\"unzip Downloads/Windows7DefaultFonts.zip -d Downloads\")\n",
    "    desktop.commands.run(\"mv Downloads/Windows7DefaultFonts/* ~/.wine/drive_c/windows/Fonts/\")\n",
    "    desktop.left_click(880, 1040) # open the terminal (I know, clean)\n",
    "    desktop.wait(100)\n",
    "    desktop.left_click(1800, 800) # open the terminal (I know, clean)\n",
    "    desktop.write(\"wine Downloads/Counter-Strike-1.6-original.exe\", chunk_size=50, delay_in_ms=25) \n",
    "    desktop.wait(2000)\n",
    "    desktop.press(\"enter\") # start the exe with wine\n",
    "    desktop.wait(6000)\n",
    "    desktop.press(\"enter\") # start the installation\n",
    "    desktop.wait(2000)\n",
    "    desktop.press(\"enter\") # one menu\n",
    "    desktop.wait(2000)\n",
    "    desktop.press(\"enter\") # second menu\n",
    "    desktop.wait(2000)\n",
    "    desktop.press(\"enter\") # final install button\n",
    "    desktop.wait(55000) # installation process\n",
    "    desktop.press(\"enter\") # LAUNCH\n"
   ]
  },
  {
   "cell_type": "code",
   "execution_count": null,
   "id": "88dea8a1",
   "metadata": {},
   "outputs": [],
   "source": [
    "desktop.left_click(460, 305) # click on the button to download fonts"
   ]
  },
  {
   "cell_type": "code",
   "execution_count": 128,
   "id": "2b30774f",
   "metadata": {},
   "outputs": [],
   "source": [
    "install_csgo(desktop=desktop)"
   ]
  },
  {
   "cell_type": "code",
   "execution_count": 129,
   "id": "f38878f7",
   "metadata": {},
   "outputs": [],
   "source": [
    "desktop.kill()"
   ]
  }
 ],
 "metadata": {
  "kernelspec": {
   "display_name": "e2b",
   "language": "python",
   "name": "python3"
  },
  "language_info": {
   "codemirror_mode": {
    "name": "ipython",
    "version": 3
   },
   "file_extension": ".py",
   "mimetype": "text/x-python",
   "name": "python",
   "nbconvert_exporter": "python",
   "pygments_lexer": "ipython3",
   "version": "3.12.9"
  }
 },
 "nbformat": 4,
 "nbformat_minor": 5
}

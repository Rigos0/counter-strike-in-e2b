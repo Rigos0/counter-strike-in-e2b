{
 "cells": [
  {
   "cell_type": "code",
   "execution_count": 27,
   "id": "e3155b33",
   "metadata": {},
   "outputs": [],
   "source": [
    "import sys\n",
    "import os\n",
    "\n",
    "# Add the parent directory (project root) to sys.path\n",
    "sys.path.append(os.path.abspath('..'))\n",
    "\n",
    "from sandbox_steps.main import DesktopSteps\n",
    "from e2b_desktop import Sandbox\n",
    "E2B_API_KEY = os.environ.get(\"E2B_API_KEY\")"
   ]
  },
  {
   "cell_type": "code",
   "execution_count": 28,
   "id": "516049aa",
   "metadata": {},
   "outputs": [
    {
     "name": "stdout",
     "output_type": "stream",
     "text": [
      "The autoreload extension is already loaded. To reload it, use:\n",
      "  %reload_ext autoreload\n"
     ]
    }
   ],
   "source": [
    "# automatically load changes from the sandbox_steps module\n",
    "%load_ext autoreload\n",
    "%autoreload 2"
   ]
  },
  {
   "cell_type": "code",
   "execution_count": 104,
   "id": "11c5a4bd",
   "metadata": {},
   "outputs": [
    {
     "name": "stdout",
     "output_type": "stream",
     "text": [
      "https://6080-igkwu2umozbiummh5luag-7f5cc07c.e2b.app/vnc.html?autoconnect=true&resize=scale\n"
     ]
    }
   ],
   "source": [
    "# With custom configuration\n",
    "desktop = Sandbox(\n",
    "    display=\":0\",  # Custom display (defaults to :0)\n",
    "    resolution=(1920, 1080),  # Custom resolution\n",
    "    timeout = 3600) \n",
    "\n",
    "desktop.stream.start()\n",
    "\n",
    "# Get stream URL\n",
    "url = desktop.stream.get_url()\n",
    "print(url)"
   ]
  },
  {
   "cell_type": "code",
   "execution_count": 22,
   "id": "87894e91",
   "metadata": {},
   "outputs": [
    {
     "data": {
      "text/plain": [
       "[SandboxInfo(sandbox_id='irxv1iz3v4nnxqdjk943o-59d5f765', template_id='k0wmnzir0zuzye6dndlw', name='desktop', metadata={}, started_at=datetime.datetime(2025, 4, 29, 23, 5, 44, 437581, tzinfo=tzutc()), end_at=datetime.datetime(2025, 4, 30, 0, 5, 44, 437581, tzinfo=tzutc()))]"
      ]
     },
     "execution_count": 22,
     "metadata": {},
     "output_type": "execute_result"
    }
   ],
   "source": [
    "running_sandboxes = Sandbox.list()\n",
    "running_sandboxes"
   ]
  },
  {
   "cell_type": "code",
   "execution_count": 8,
   "id": "d6afb069",
   "metadata": {},
   "outputs": [
    {
     "data": {
      "text/plain": [
       "True"
      ]
     },
     "execution_count": 8,
     "metadata": {},
     "output_type": "execute_result"
    }
   ],
   "source": [
    "Sandbox.kill(\"ig67ifl7itvszhdnlxm3h-6cc9e88b\")"
   ]
  },
  {
   "cell_type": "code",
   "execution_count": null,
   "id": "89b916a1",
   "metadata": {},
   "outputs": [],
   "source": [
    "Sandbox.left_click(100, 100) \n",
    "Sandbox.right_click(200, 200)"
   ]
  },
  {
   "cell_type": "code",
   "execution_count": null,
   "id": "5371c180",
   "metadata": {},
   "outputs": [],
   "source": [
    "def install_csgo(desktop: Sandbox):\n",
    "    desktop.open(\"https://www.cybersports.lt/setup/\")\n",
    "    desktop.commands.run(\"sudo dpkg --add-architecture i386\")\n",
    "    desktop.commands.run(\"sudo apt update\")\n",
    "    desktop.wait(100)\n",
    "    desktop.commands.run(\"sudo apt install -y wine32\")\n",
    "    desktop.wait(100)\n",
    "    desktop.commands.run(\"wine .\") # this throws an error for fun\n",
    "    desktop.open(\"https://drive.google.com/u/0/uc?id=1TIsvGACSrQOr1tgPaVpJebH375LjLIV6&export=download\")\n",
    "    desktop.wait(ms=4000)\n",
    "    desktop.left_click(460, 305) #click the Download button\n",
    "    desktop.wait(ms=5000) \n",
    "    desktop.commands.run(\"unzip Downloads/Windows7DefaultFonts.zip -d Downloads\")\n",
    "    desktop.commands.run(\"mv Downloads/Windows7DefaultFonts/* ~/.wine/drive_c/windows/Fonts/\")\n",
    "    desktop.commands.run(\"wine Downloads/Counter-Strike-1.6-original.exe\")\n",
    "    desktop.left_click(880, 1040) # open the terminal (I know, clean)\n",
    "    desktop.wait(100)\n",
    "    desktop.left_click(1800, 800) # open the terminal (I know, clean)\n",
    "    desktop.write(\"wine Downloads/Counter-Strike-1.6-original.exe\", chunk_size=50, delay_in_ms=25) \n",
    "    desktop.wait(2000)\n",
    "    desktop.press(\"enter\") # start the exe with wine\n",
    "    desktop.wait(6000)\n",
    "    desktop.press(\"enter\") # start the installation\n",
    "    desktop.wait(2000)\n",
    "    desktop.press(\"enter\") # one menu\n",
    "    desktop.wait(2000)\n",
    "    desktop.press(\"enter\") # second menu\n",
    "    desktop.wait(2000)\n",
    "    desktop.press(\"enter\") # final install button\n",
    "    desktop.wait(55000) # installation process\n",
    "    desktop.press(\"enter\") # LAUNCH\n",
    "\n",
    "\n",
    "\n",
    "\n",
    "\n",
    "\n",
    "\n",
    "\n",
    "\n",
    "    \n"
   ]
  },
  {
   "cell_type": "code",
   "execution_count": 109,
   "id": "a82ac1d3",
   "metadata": {},
   "outputs": [
    {
     "ename": "CommandExitException",
     "evalue": "Command exited with code 186 and error:\n0070:err:explorer:initialize_display_settings Failed to query current display settings for L\"\\\\\\\\.\\\\DISPLAY1\".\n0024:err:module:process_init failed to load L\"Z:\\\\home\\\\user\", error c00000ba\n",
     "output_type": "error",
     "traceback": [
      "\u001b[31m---------------------------------------------------------------------------\u001b[39m",
      "\u001b[31mCommandExitException\u001b[39m                      Traceback (most recent call last)",
      "\u001b[36mCell\u001b[39m\u001b[36m \u001b[39m\u001b[32mIn[109]\u001b[39m\u001b[32m, line 1\u001b[39m\n\u001b[32m----> \u001b[39m\u001b[32m1\u001b[39m \u001b[43mdesktop\u001b[49m\u001b[43m.\u001b[49m\u001b[43mcommands\u001b[49m\u001b[43m.\u001b[49m\u001b[43mrun\u001b[49m\u001b[43m(\u001b[49m\u001b[33;43m\"\u001b[39;49m\u001b[33;43mwine .\u001b[39;49m\u001b[33;43m\"\u001b[39;49m\u001b[43m)\u001b[49m \u001b[38;5;66;03m# this throws an error for fun\u001b[39;00m\n",
      "\u001b[36mFile \u001b[39m\u001b[32mc:\\Users\\richa\\miniconda3\\envs\\e2b\\Lib\\site-packages\\e2b\\sandbox_sync\\commands\\command.py:212\u001b[39m, in \u001b[36mCommands.run\u001b[39m\u001b[34m(self, cmd, background, envs, user, cwd, on_stdout, on_stderr, timeout, request_timeout)\u001b[39m\n\u001b[32m    188\u001b[39m \u001b[38;5;28;01mdef\u001b[39;00m\u001b[38;5;250m \u001b[39m\u001b[34mrun\u001b[39m(\n\u001b[32m    189\u001b[39m     \u001b[38;5;28mself\u001b[39m,\n\u001b[32m    190\u001b[39m     cmd: \u001b[38;5;28mstr\u001b[39m,\n\u001b[32m   (...)\u001b[39m\u001b[32m    198\u001b[39m     request_timeout: Optional[\u001b[38;5;28mfloat\u001b[39m] = \u001b[38;5;28;01mNone\u001b[39;00m,\n\u001b[32m    199\u001b[39m ):\n\u001b[32m    200\u001b[39m     proc = \u001b[38;5;28mself\u001b[39m._start(\n\u001b[32m    201\u001b[39m         cmd,\n\u001b[32m    202\u001b[39m         envs,\n\u001b[32m   (...)\u001b[39m\u001b[32m    206\u001b[39m         request_timeout,\n\u001b[32m    207\u001b[39m     )\n\u001b[32m    209\u001b[39m     \u001b[38;5;28;01mreturn\u001b[39;00m (\n\u001b[32m    210\u001b[39m         proc\n\u001b[32m    211\u001b[39m         \u001b[38;5;28;01mif\u001b[39;00m background\n\u001b[32m--> \u001b[39m\u001b[32m212\u001b[39m         \u001b[38;5;28;01melse\u001b[39;00m \u001b[43mproc\u001b[49m\u001b[43m.\u001b[49m\u001b[43mwait\u001b[49m\u001b[43m(\u001b[49m\n\u001b[32m    213\u001b[39m \u001b[43m            \u001b[49m\u001b[43mon_stdout\u001b[49m\u001b[43m=\u001b[49m\u001b[43mon_stdout\u001b[49m\u001b[43m,\u001b[49m\n\u001b[32m    214\u001b[39m \u001b[43m            \u001b[49m\u001b[43mon_stderr\u001b[49m\u001b[43m=\u001b[49m\u001b[43mon_stderr\u001b[49m\u001b[43m,\u001b[49m\n\u001b[32m    215\u001b[39m \u001b[43m        \u001b[49m\u001b[43m)\u001b[49m\n\u001b[32m    216\u001b[39m     )\n",
      "\u001b[36mFile \u001b[39m\u001b[32mc:\\Users\\richa\\miniconda3\\envs\\e2b\\Lib\\site-packages\\e2b\\sandbox_sync\\commands\\command_handle.py:133\u001b[39m, in \u001b[36mCommandHandle.wait\u001b[39m\u001b[34m(self, on_pty, on_stdout, on_stderr)\u001b[39m\n\u001b[32m    130\u001b[39m     \u001b[38;5;28;01mraise\u001b[39;00m \u001b[38;5;167;01mException\u001b[39;00m(\u001b[33m\"\u001b[39m\u001b[33mCommand ended without an end event\u001b[39m\u001b[33m\"\u001b[39m)\n\u001b[32m    132\u001b[39m \u001b[38;5;28;01mif\u001b[39;00m \u001b[38;5;28mself\u001b[39m._result.exit_code != \u001b[32m0\u001b[39m:\n\u001b[32m--> \u001b[39m\u001b[32m133\u001b[39m     \u001b[38;5;28;01mraise\u001b[39;00m CommandExitException(\n\u001b[32m    134\u001b[39m         stdout=\u001b[38;5;28mself\u001b[39m._stdout,\n\u001b[32m    135\u001b[39m         stderr=\u001b[38;5;28mself\u001b[39m._stderr,\n\u001b[32m    136\u001b[39m         exit_code=\u001b[38;5;28mself\u001b[39m._result.exit_code,\n\u001b[32m    137\u001b[39m         error=\u001b[38;5;28mself\u001b[39m._result.error,\n\u001b[32m    138\u001b[39m     )\n\u001b[32m    140\u001b[39m \u001b[38;5;28;01mreturn\u001b[39;00m \u001b[38;5;28mself\u001b[39m._result\n",
      "\u001b[31mCommandExitException\u001b[39m: Command exited with code 186 and error:\n0070:err:explorer:initialize_display_settings Failed to query current display settings for L\"\\\\\\\\.\\\\DISPLAY1\".\n0024:err:module:process_init failed to load L\"Z:\\\\home\\\\user\", error c00000ba\n"
     ]
    }
   ],
   "source": [
    "desktop.commands.run(\"wine .\") # this throws an error for fun\n"
   ]
  },
  {
   "cell_type": "code",
   "execution_count": 112,
   "id": "61941a62",
   "metadata": {},
   "outputs": [
    {
     "ename": "KeyboardInterrupt",
     "evalue": "",
     "output_type": "error",
     "traceback": [
      "\u001b[31m---------------------------------------------------------------------------\u001b[39m",
      "\u001b[31mKeyboardInterrupt\u001b[39m                         Traceback (most recent call last)",
      "\u001b[36mCell\u001b[39m\u001b[36m \u001b[39m\u001b[32mIn[112]\u001b[39m\u001b[32m, line 13\u001b[39m\n\u001b[32m     11\u001b[39m desktop.wait(\u001b[32m2000\u001b[39m)\n\u001b[32m     12\u001b[39m desktop.press(\u001b[33m\"\u001b[39m\u001b[33menter\u001b[39m\u001b[33m\"\u001b[39m) \u001b[38;5;66;03m# second menu\u001b[39;00m\n\u001b[32m---> \u001b[39m\u001b[32m13\u001b[39m \u001b[43mdesktop\u001b[49m\u001b[43m.\u001b[49m\u001b[43mwait\u001b[49m\u001b[43m(\u001b[49m\u001b[32;43m2000\u001b[39;49m\u001b[43m)\u001b[49m\n\u001b[32m     14\u001b[39m desktop.press(\u001b[33m\"\u001b[39m\u001b[33menter\u001b[39m\u001b[33m\"\u001b[39m) \u001b[38;5;66;03m# final install button\u001b[39;00m\n\u001b[32m     15\u001b[39m desktop.wait(\u001b[32m55000\u001b[39m) \u001b[38;5;66;03m# installation process\u001b[39;00m\n",
      "\u001b[36mFile \u001b[39m\u001b[32mc:\\Users\\richa\\miniconda3\\envs\\e2b\\Lib\\site-packages\\e2b_desktop\\main.py:473\u001b[39m, in \u001b[36mSandbox.wait\u001b[39m\u001b[34m(self, ms)\u001b[39m\n\u001b[32m    467\u001b[39m \u001b[38;5;28;01mdef\u001b[39;00m\u001b[38;5;250m \u001b[39m\u001b[34mwait\u001b[39m(\u001b[38;5;28mself\u001b[39m, ms: \u001b[38;5;28mint\u001b[39m):\n\u001b[32m    468\u001b[39m \u001b[38;5;250m    \u001b[39m\u001b[33;03m\"\"\"\u001b[39;00m\n\u001b[32m    469\u001b[39m \u001b[33;03m    Wait for the given amount of time.\u001b[39;00m\n\u001b[32m    470\u001b[39m \n\u001b[32m    471\u001b[39m \u001b[33;03m    :param ms: The amount of time to wait in milliseconds.\u001b[39;00m\n\u001b[32m    472\u001b[39m \u001b[33;03m    \"\"\"\u001b[39;00m\n\u001b[32m--> \u001b[39m\u001b[32m473\u001b[39m     \u001b[38;5;28;43mself\u001b[39;49m\u001b[43m.\u001b[49m\u001b[43mcommands\u001b[49m\u001b[43m.\u001b[49m\u001b[43mrun\u001b[49m\u001b[43m(\u001b[49m\u001b[33;43mf\u001b[39;49m\u001b[33;43m\"\u001b[39;49m\u001b[33;43msleep \u001b[39;49m\u001b[38;5;132;43;01m{\u001b[39;49;00m\u001b[43mms\u001b[49m\u001b[38;5;250;43m \u001b[39;49m\u001b[43m/\u001b[49m\u001b[38;5;250;43m \u001b[39;49m\u001b[32;43m1000\u001b[39;49m\u001b[38;5;132;43;01m}\u001b[39;49;00m\u001b[33;43m\"\u001b[39;49m\u001b[43m,\u001b[49m\u001b[43m \u001b[49m\u001b[43menvs\u001b[49m\u001b[43m=\u001b[49m\u001b[43m{\u001b[49m\u001b[33;43m\"\u001b[39;49m\u001b[33;43mDISPLAY\u001b[39;49m\u001b[33;43m\"\u001b[39;49m\u001b[43m:\u001b[49m\u001b[43m \u001b[49m\u001b[38;5;28;43mself\u001b[39;49m\u001b[43m.\u001b[49m\u001b[43m_display\u001b[49m\u001b[43m}\u001b[49m\u001b[43m)\u001b[49m\n",
      "\u001b[36mFile \u001b[39m\u001b[32mc:\\Users\\richa\\miniconda3\\envs\\e2b\\Lib\\site-packages\\e2b\\sandbox_sync\\commands\\command.py:212\u001b[39m, in \u001b[36mCommands.run\u001b[39m\u001b[34m(self, cmd, background, envs, user, cwd, on_stdout, on_stderr, timeout, request_timeout)\u001b[39m\n\u001b[32m    188\u001b[39m \u001b[38;5;28;01mdef\u001b[39;00m\u001b[38;5;250m \u001b[39m\u001b[34mrun\u001b[39m(\n\u001b[32m    189\u001b[39m     \u001b[38;5;28mself\u001b[39m,\n\u001b[32m    190\u001b[39m     cmd: \u001b[38;5;28mstr\u001b[39m,\n\u001b[32m   (...)\u001b[39m\u001b[32m    198\u001b[39m     request_timeout: Optional[\u001b[38;5;28mfloat\u001b[39m] = \u001b[38;5;28;01mNone\u001b[39;00m,\n\u001b[32m    199\u001b[39m ):\n\u001b[32m    200\u001b[39m     proc = \u001b[38;5;28mself\u001b[39m._start(\n\u001b[32m    201\u001b[39m         cmd,\n\u001b[32m    202\u001b[39m         envs,\n\u001b[32m   (...)\u001b[39m\u001b[32m    206\u001b[39m         request_timeout,\n\u001b[32m    207\u001b[39m     )\n\u001b[32m    209\u001b[39m     \u001b[38;5;28;01mreturn\u001b[39;00m (\n\u001b[32m    210\u001b[39m         proc\n\u001b[32m    211\u001b[39m         \u001b[38;5;28;01mif\u001b[39;00m background\n\u001b[32m--> \u001b[39m\u001b[32m212\u001b[39m         \u001b[38;5;28;01melse\u001b[39;00m \u001b[43mproc\u001b[49m\u001b[43m.\u001b[49m\u001b[43mwait\u001b[49m\u001b[43m(\u001b[49m\n\u001b[32m    213\u001b[39m \u001b[43m            \u001b[49m\u001b[43mon_stdout\u001b[49m\u001b[43m=\u001b[49m\u001b[43mon_stdout\u001b[49m\u001b[43m,\u001b[49m\n\u001b[32m    214\u001b[39m \u001b[43m            \u001b[49m\u001b[43mon_stderr\u001b[49m\u001b[43m=\u001b[49m\u001b[43mon_stderr\u001b[49m\u001b[43m,\u001b[49m\n\u001b[32m    215\u001b[39m \u001b[43m        \u001b[49m\u001b[43m)\u001b[49m\n\u001b[32m    216\u001b[39m     )\n",
      "\u001b[36mFile \u001b[39m\u001b[32mc:\\Users\\richa\\miniconda3\\envs\\e2b\\Lib\\site-packages\\e2b\\sandbox_sync\\commands\\command_handle.py:114\u001b[39m, in \u001b[36mCommandHandle.wait\u001b[39m\u001b[34m(self, on_pty, on_stdout, on_stderr)\u001b[39m\n\u001b[32m    103\u001b[39m \u001b[38;5;250m\u001b[39m\u001b[33;03m\"\"\"\u001b[39;00m\n\u001b[32m    104\u001b[39m \u001b[33;03mWait for the command to finish and returns the result.\u001b[39;00m\n\u001b[32m    105\u001b[39m \u001b[33;03mIf the command exits with a non-zero exit code, it throws a `CommandExitException`.\u001b[39;00m\n\u001b[32m   (...)\u001b[39m\u001b[32m    111\u001b[39m \u001b[33;03m:return: `CommandResult` result of command execution\u001b[39;00m\n\u001b[32m    112\u001b[39m \u001b[33;03m\"\"\"\u001b[39;00m\n\u001b[32m    113\u001b[39m \u001b[38;5;28;01mtry\u001b[39;00m:\n\u001b[32m--> \u001b[39m\u001b[32m114\u001b[39m \u001b[43m    \u001b[49m\u001b[38;5;28;43;01mfor\u001b[39;49;00m\u001b[43m \u001b[49m\u001b[43mstdout\u001b[49m\u001b[43m,\u001b[49m\u001b[43m \u001b[49m\u001b[43mstderr\u001b[49m\u001b[43m,\u001b[49m\u001b[43m \u001b[49m\u001b[43mpty\u001b[49m\u001b[43m \u001b[49m\u001b[38;5;129;43;01min\u001b[39;49;00m\u001b[43m \u001b[49m\u001b[38;5;28;43mself\u001b[39;49m\u001b[43m:\u001b[49m\n\u001b[32m    115\u001b[39m \u001b[43m        \u001b[49m\u001b[38;5;28;43;01mif\u001b[39;49;00m\u001b[43m \u001b[49m\u001b[43mstdout\u001b[49m\u001b[43m \u001b[49m\u001b[38;5;129;43;01mis\u001b[39;49;00m\u001b[43m \u001b[49m\u001b[38;5;129;43;01mnot\u001b[39;49;00m\u001b[43m \u001b[49m\u001b[38;5;28;43;01mNone\u001b[39;49;00m\u001b[43m \u001b[49m\u001b[38;5;129;43;01mand\u001b[39;49;00m\u001b[43m \u001b[49m\u001b[43mon_stdout\u001b[49m\u001b[43m:\u001b[49m\n\u001b[32m    116\u001b[39m \u001b[43m            \u001b[49m\u001b[43mon_stdout\u001b[49m\u001b[43m(\u001b[49m\u001b[43mstdout\u001b[49m\u001b[43m)\u001b[49m\n",
      "\u001b[36mFile \u001b[39m\u001b[32mc:\\Users\\richa\\miniconda3\\envs\\e2b\\Lib\\site-packages\\e2b\\sandbox_sync\\commands\\command_handle.py:66\u001b[39m, in \u001b[36mCommandHandle._handle_events\u001b[39m\u001b[34m(self)\u001b[39m\n\u001b[32m     54\u001b[39m \u001b[38;5;28;01mdef\u001b[39;00m\u001b[38;5;250m \u001b[39m\u001b[34m_handle_events\u001b[39m(\n\u001b[32m     55\u001b[39m     \u001b[38;5;28mself\u001b[39m,\n\u001b[32m     56\u001b[39m ) -> Generator[\n\u001b[32m   (...)\u001b[39m\u001b[32m     63\u001b[39m     \u001b[38;5;28;01mNone\u001b[39;00m,\n\u001b[32m     64\u001b[39m ]:\n\u001b[32m     65\u001b[39m     \u001b[38;5;28;01mtry\u001b[39;00m:\n\u001b[32m---> \u001b[39m\u001b[32m66\u001b[39m \u001b[43m        \u001b[49m\u001b[38;5;28;43;01mfor\u001b[39;49;00m\u001b[43m \u001b[49m\u001b[43mevent\u001b[49m\u001b[43m \u001b[49m\u001b[38;5;129;43;01min\u001b[39;49;00m\u001b[43m \u001b[49m\u001b[38;5;28;43mself\u001b[39;49m\u001b[43m.\u001b[49m\u001b[43m_events\u001b[49m\u001b[43m:\u001b[49m\n\u001b[32m     67\u001b[39m \u001b[43m            \u001b[49m\u001b[38;5;28;43;01mif\u001b[39;49;00m\u001b[43m \u001b[49m\u001b[43mevent\u001b[49m\u001b[43m.\u001b[49m\u001b[43mevent\u001b[49m\u001b[43m.\u001b[49m\u001b[43mHasField\u001b[49m\u001b[43m(\u001b[49m\u001b[33;43m\"\u001b[39;49m\u001b[33;43mdata\u001b[39;49m\u001b[33;43m\"\u001b[39;49m\u001b[43m)\u001b[49m\u001b[43m:\u001b[49m\n\u001b[32m     68\u001b[39m \u001b[43m                \u001b[49m\u001b[38;5;28;43;01mif\u001b[39;49;00m\u001b[43m \u001b[49m\u001b[43mevent\u001b[49m\u001b[43m.\u001b[49m\u001b[43mevent\u001b[49m\u001b[43m.\u001b[49m\u001b[43mdata\u001b[49m\u001b[43m.\u001b[49m\u001b[43mstdout\u001b[49m\u001b[43m:\u001b[49m\n",
      "\u001b[36mFile \u001b[39m\u001b[32mc:\\Users\\richa\\miniconda3\\envs\\e2b\\Lib\\site-packages\\e2b_connect\\client.py:395\u001b[39m, in \u001b[36mClient.call_server_stream\u001b[39m\u001b[34m(self, req, request_timeout, timeout, headers, **opts)\u001b[39m\n\u001b[32m    388\u001b[39m     \u001b[38;5;28;01mraise\u001b[39;00m error_for_response(http_resp)\n\u001b[32m    390\u001b[39m parser = ServerStreamParser(\n\u001b[32m    391\u001b[39m     decode=\u001b[38;5;28mself\u001b[39m._codec.decode,\n\u001b[32m    392\u001b[39m     response_type=\u001b[38;5;28mself\u001b[39m._response_type,\n\u001b[32m    393\u001b[39m )\n\u001b[32m--> \u001b[39m\u001b[32m395\u001b[39m \u001b[43m\u001b[49m\u001b[38;5;28;43;01mfor\u001b[39;49;00m\u001b[43m \u001b[49m\u001b[43mchunk\u001b[49m\u001b[43m \u001b[49m\u001b[38;5;129;43;01min\u001b[39;49;00m\u001b[43m \u001b[49m\u001b[43mhttp_resp\u001b[49m\u001b[43m.\u001b[49m\u001b[43miter_stream\u001b[49m\u001b[43m(\u001b[49m\u001b[43m)\u001b[49m\u001b[43m:\u001b[49m\n\u001b[32m    396\u001b[39m \u001b[43m    \u001b[49m\u001b[38;5;28;43;01myield from\u001b[39;49;00m\u001b[43m \u001b[49m\u001b[43mparser\u001b[49m\u001b[43m.\u001b[49m\u001b[43mparse\u001b[49m\u001b[43m(\u001b[49m\u001b[43mchunk\u001b[49m\u001b[43m)\u001b[49m\n\u001b[32m    398\u001b[39m \u001b[38;5;28;01mreturn\u001b[39;00m\n",
      "\u001b[36mFile \u001b[39m\u001b[32mc:\\Users\\richa\\miniconda3\\envs\\e2b\\Lib\\site-packages\\httpcore\\_models.py:444\u001b[39m, in \u001b[36mResponse.iter_stream\u001b[39m\u001b[34m(self)\u001b[39m\n\u001b[32m    440\u001b[39m     \u001b[38;5;28;01mraise\u001b[39;00m \u001b[38;5;167;01mRuntimeError\u001b[39;00m(\n\u001b[32m    441\u001b[39m         \u001b[33m\"\u001b[39m\u001b[33mAttempted to call \u001b[39m\u001b[33m'\u001b[39m\u001b[33mfor ... in response.iter_stream()\u001b[39m\u001b[33m'\u001b[39m\u001b[33m more than once.\u001b[39m\u001b[33m\"\u001b[39m\n\u001b[32m    442\u001b[39m     )\n\u001b[32m    443\u001b[39m \u001b[38;5;28mself\u001b[39m._stream_consumed = \u001b[38;5;28;01mTrue\u001b[39;00m\n\u001b[32m--> \u001b[39m\u001b[32m444\u001b[39m \u001b[43m\u001b[49m\u001b[38;5;28;43;01mfor\u001b[39;49;00m\u001b[43m \u001b[49m\u001b[43mchunk\u001b[49m\u001b[43m \u001b[49m\u001b[38;5;129;43;01min\u001b[39;49;00m\u001b[43m \u001b[49m\u001b[38;5;28;43mself\u001b[39;49m\u001b[43m.\u001b[49m\u001b[43mstream\u001b[49m\u001b[43m:\u001b[49m\n\u001b[32m    445\u001b[39m \u001b[43m    \u001b[49m\u001b[38;5;28;43;01myield\u001b[39;49;00m\u001b[43m \u001b[49m\u001b[43mchunk\u001b[49m\n",
      "\u001b[36mFile \u001b[39m\u001b[32mc:\\Users\\richa\\miniconda3\\envs\\e2b\\Lib\\site-packages\\httpcore\\_sync\\connection_pool.py:407\u001b[39m, in \u001b[36mPoolByteStream.__iter__\u001b[39m\u001b[34m(self)\u001b[39m\n\u001b[32m    405\u001b[39m \u001b[38;5;28;01mexcept\u001b[39;00m \u001b[38;5;167;01mBaseException\u001b[39;00m \u001b[38;5;28;01mas\u001b[39;00m exc:\n\u001b[32m    406\u001b[39m     \u001b[38;5;28mself\u001b[39m.close()\n\u001b[32m--> \u001b[39m\u001b[32m407\u001b[39m     \u001b[38;5;28;01mraise\u001b[39;00m exc \u001b[38;5;28;01mfrom\u001b[39;00m\u001b[38;5;250m \u001b[39m\u001b[38;5;28;01mNone\u001b[39;00m\n",
      "\u001b[36mFile \u001b[39m\u001b[32mc:\\Users\\richa\\miniconda3\\envs\\e2b\\Lib\\site-packages\\httpcore\\_sync\\connection_pool.py:403\u001b[39m, in \u001b[36mPoolByteStream.__iter__\u001b[39m\u001b[34m(self)\u001b[39m\n\u001b[32m    401\u001b[39m \u001b[38;5;28;01mdef\u001b[39;00m\u001b[38;5;250m \u001b[39m\u001b[34m__iter__\u001b[39m(\u001b[38;5;28mself\u001b[39m) -> typing.Iterator[\u001b[38;5;28mbytes\u001b[39m]:\n\u001b[32m    402\u001b[39m     \u001b[38;5;28;01mtry\u001b[39;00m:\n\u001b[32m--> \u001b[39m\u001b[32m403\u001b[39m \u001b[43m        \u001b[49m\u001b[38;5;28;43;01mfor\u001b[39;49;00m\u001b[43m \u001b[49m\u001b[43mpart\u001b[49m\u001b[43m \u001b[49m\u001b[38;5;129;43;01min\u001b[39;49;00m\u001b[43m \u001b[49m\u001b[38;5;28;43mself\u001b[39;49m\u001b[43m.\u001b[49m\u001b[43m_stream\u001b[49m\u001b[43m:\u001b[49m\n\u001b[32m    404\u001b[39m \u001b[43m            \u001b[49m\u001b[38;5;28;43;01myield\u001b[39;49;00m\u001b[43m \u001b[49m\u001b[43mpart\u001b[49m\n\u001b[32m    405\u001b[39m     \u001b[38;5;28;01mexcept\u001b[39;00m \u001b[38;5;167;01mBaseException\u001b[39;00m \u001b[38;5;28;01mas\u001b[39;00m exc:\n",
      "\u001b[36mFile \u001b[39m\u001b[32mc:\\Users\\richa\\miniconda3\\envs\\e2b\\Lib\\site-packages\\httpcore\\_sync\\http11.py:342\u001b[39m, in \u001b[36mHTTP11ConnectionByteStream.__iter__\u001b[39m\u001b[34m(self)\u001b[39m\n\u001b[32m    340\u001b[39m \u001b[38;5;28;01mwith\u001b[39;00m ShieldCancellation():\n\u001b[32m    341\u001b[39m     \u001b[38;5;28mself\u001b[39m.close()\n\u001b[32m--> \u001b[39m\u001b[32m342\u001b[39m \u001b[38;5;28;01mraise\u001b[39;00m exc\n",
      "\u001b[36mFile \u001b[39m\u001b[32mc:\\Users\\richa\\miniconda3\\envs\\e2b\\Lib\\site-packages\\httpcore\\_sync\\http11.py:334\u001b[39m, in \u001b[36mHTTP11ConnectionByteStream.__iter__\u001b[39m\u001b[34m(self)\u001b[39m\n\u001b[32m    332\u001b[39m \u001b[38;5;28;01mtry\u001b[39;00m:\n\u001b[32m    333\u001b[39m     \u001b[38;5;28;01mwith\u001b[39;00m Trace(\u001b[33m\"\u001b[39m\u001b[33mreceive_response_body\u001b[39m\u001b[33m\"\u001b[39m, logger, \u001b[38;5;28mself\u001b[39m._request, kwargs):\n\u001b[32m--> \u001b[39m\u001b[32m334\u001b[39m \u001b[43m        \u001b[49m\u001b[38;5;28;43;01mfor\u001b[39;49;00m\u001b[43m \u001b[49m\u001b[43mchunk\u001b[49m\u001b[43m \u001b[49m\u001b[38;5;129;43;01min\u001b[39;49;00m\u001b[43m \u001b[49m\u001b[38;5;28;43mself\u001b[39;49m\u001b[43m.\u001b[49m\u001b[43m_connection\u001b[49m\u001b[43m.\u001b[49m\u001b[43m_receive_response_body\u001b[49m\u001b[43m(\u001b[49m\u001b[43m*\u001b[49m\u001b[43m*\u001b[49m\u001b[43mkwargs\u001b[49m\u001b[43m)\u001b[49m\u001b[43m:\u001b[49m\n\u001b[32m    335\u001b[39m \u001b[43m            \u001b[49m\u001b[38;5;28;43;01myield\u001b[39;49;00m\u001b[43m \u001b[49m\u001b[43mchunk\u001b[49m\n\u001b[32m    336\u001b[39m \u001b[38;5;28;01mexcept\u001b[39;00m \u001b[38;5;167;01mBaseException\u001b[39;00m \u001b[38;5;28;01mas\u001b[39;00m exc:\n\u001b[32m    337\u001b[39m     \u001b[38;5;66;03m# If we get an exception while streaming the response,\u001b[39;00m\n\u001b[32m    338\u001b[39m     \u001b[38;5;66;03m# we want to close the response (and possibly the connection)\u001b[39;00m\n\u001b[32m    339\u001b[39m     \u001b[38;5;66;03m# before raising that exception.\u001b[39;00m\n",
      "\u001b[36mFile \u001b[39m\u001b[32mc:\\Users\\richa\\miniconda3\\envs\\e2b\\Lib\\site-packages\\httpcore\\_sync\\http11.py:203\u001b[39m, in \u001b[36mHTTP11Connection._receive_response_body\u001b[39m\u001b[34m(self, request)\u001b[39m\n\u001b[32m    200\u001b[39m timeout = timeouts.get(\u001b[33m\"\u001b[39m\u001b[33mread\u001b[39m\u001b[33m\"\u001b[39m, \u001b[38;5;28;01mNone\u001b[39;00m)\n\u001b[32m    202\u001b[39m \u001b[38;5;28;01mwhile\u001b[39;00m \u001b[38;5;28;01mTrue\u001b[39;00m:\n\u001b[32m--> \u001b[39m\u001b[32m203\u001b[39m     event = \u001b[38;5;28;43mself\u001b[39;49m\u001b[43m.\u001b[49m\u001b[43m_receive_event\u001b[49m\u001b[43m(\u001b[49m\u001b[43mtimeout\u001b[49m\u001b[43m=\u001b[49m\u001b[43mtimeout\u001b[49m\u001b[43m)\u001b[49m\n\u001b[32m    204\u001b[39m     \u001b[38;5;28;01mif\u001b[39;00m \u001b[38;5;28misinstance\u001b[39m(event, h11.Data):\n\u001b[32m    205\u001b[39m         \u001b[38;5;28;01myield\u001b[39;00m \u001b[38;5;28mbytes\u001b[39m(event.data)\n",
      "\u001b[36mFile \u001b[39m\u001b[32mc:\\Users\\richa\\miniconda3\\envs\\e2b\\Lib\\site-packages\\httpcore\\_sync\\http11.py:217\u001b[39m, in \u001b[36mHTTP11Connection._receive_event\u001b[39m\u001b[34m(self, timeout)\u001b[39m\n\u001b[32m    214\u001b[39m     event = \u001b[38;5;28mself\u001b[39m._h11_state.next_event()\n\u001b[32m    216\u001b[39m \u001b[38;5;28;01mif\u001b[39;00m event \u001b[38;5;129;01mis\u001b[39;00m h11.NEED_DATA:\n\u001b[32m--> \u001b[39m\u001b[32m217\u001b[39m     data = \u001b[38;5;28;43mself\u001b[39;49m\u001b[43m.\u001b[49m\u001b[43m_network_stream\u001b[49m\u001b[43m.\u001b[49m\u001b[43mread\u001b[49m\u001b[43m(\u001b[49m\n\u001b[32m    218\u001b[39m \u001b[43m        \u001b[49m\u001b[38;5;28;43mself\u001b[39;49m\u001b[43m.\u001b[49m\u001b[43mREAD_NUM_BYTES\u001b[49m\u001b[43m,\u001b[49m\u001b[43m \u001b[49m\u001b[43mtimeout\u001b[49m\u001b[43m=\u001b[49m\u001b[43mtimeout\u001b[49m\n\u001b[32m    219\u001b[39m \u001b[43m    \u001b[49m\u001b[43m)\u001b[49m\n\u001b[32m    221\u001b[39m     \u001b[38;5;66;03m# If we feed this case through h11 we'll raise an exception like:\u001b[39;00m\n\u001b[32m    222\u001b[39m     \u001b[38;5;66;03m#\u001b[39;00m\n\u001b[32m    223\u001b[39m     \u001b[38;5;66;03m#     httpcore.RemoteProtocolError: can't handle event type\u001b[39;00m\n\u001b[32m   (...)\u001b[39m\u001b[32m    227\u001b[39m     \u001b[38;5;66;03m# perspective. Instead we handle this case distinctly and treat\u001b[39;00m\n\u001b[32m    228\u001b[39m     \u001b[38;5;66;03m# it as a ConnectError.\u001b[39;00m\n\u001b[32m    229\u001b[39m     \u001b[38;5;28;01mif\u001b[39;00m data == \u001b[33mb\u001b[39m\u001b[33m\"\u001b[39m\u001b[33m\"\u001b[39m \u001b[38;5;129;01mand\u001b[39;00m \u001b[38;5;28mself\u001b[39m._h11_state.their_state == h11.SEND_RESPONSE:\n",
      "\u001b[36mFile \u001b[39m\u001b[32mc:\\Users\\richa\\miniconda3\\envs\\e2b\\Lib\\site-packages\\httpcore\\_backends\\sync.py:128\u001b[39m, in \u001b[36mSyncStream.read\u001b[39m\u001b[34m(self, max_bytes, timeout)\u001b[39m\n\u001b[32m    126\u001b[39m \u001b[38;5;28;01mwith\u001b[39;00m map_exceptions(exc_map):\n\u001b[32m    127\u001b[39m     \u001b[38;5;28mself\u001b[39m._sock.settimeout(timeout)\n\u001b[32m--> \u001b[39m\u001b[32m128\u001b[39m     \u001b[38;5;28;01mreturn\u001b[39;00m \u001b[38;5;28;43mself\u001b[39;49m\u001b[43m.\u001b[49m\u001b[43m_sock\u001b[49m\u001b[43m.\u001b[49m\u001b[43mrecv\u001b[49m\u001b[43m(\u001b[49m\u001b[43mmax_bytes\u001b[49m\u001b[43m)\u001b[49m\n",
      "\u001b[36mFile \u001b[39m\u001b[32mc:\\Users\\richa\\miniconda3\\envs\\e2b\\Lib\\ssl.py:1232\u001b[39m, in \u001b[36mSSLSocket.recv\u001b[39m\u001b[34m(self, buflen, flags)\u001b[39m\n\u001b[32m   1228\u001b[39m     \u001b[38;5;28;01mif\u001b[39;00m flags != \u001b[32m0\u001b[39m:\n\u001b[32m   1229\u001b[39m         \u001b[38;5;28;01mraise\u001b[39;00m \u001b[38;5;167;01mValueError\u001b[39;00m(\n\u001b[32m   1230\u001b[39m             \u001b[33m\"\u001b[39m\u001b[33mnon-zero flags not allowed in calls to recv() on \u001b[39m\u001b[38;5;132;01m%s\u001b[39;00m\u001b[33m\"\u001b[39m %\n\u001b[32m   1231\u001b[39m             \u001b[38;5;28mself\u001b[39m.\u001b[34m__class__\u001b[39m)\n\u001b[32m-> \u001b[39m\u001b[32m1232\u001b[39m     \u001b[38;5;28;01mreturn\u001b[39;00m \u001b[38;5;28;43mself\u001b[39;49m\u001b[43m.\u001b[49m\u001b[43mread\u001b[49m\u001b[43m(\u001b[49m\u001b[43mbuflen\u001b[49m\u001b[43m)\u001b[49m\n\u001b[32m   1233\u001b[39m \u001b[38;5;28;01melse\u001b[39;00m:\n\u001b[32m   1234\u001b[39m     \u001b[38;5;28;01mreturn\u001b[39;00m \u001b[38;5;28msuper\u001b[39m().recv(buflen, flags)\n",
      "\u001b[36mFile \u001b[39m\u001b[32mc:\\Users\\richa\\miniconda3\\envs\\e2b\\Lib\\ssl.py:1105\u001b[39m, in \u001b[36mSSLSocket.read\u001b[39m\u001b[34m(self, len, buffer)\u001b[39m\n\u001b[32m   1103\u001b[39m         \u001b[38;5;28;01mreturn\u001b[39;00m \u001b[38;5;28mself\u001b[39m._sslobj.read(\u001b[38;5;28mlen\u001b[39m, buffer)\n\u001b[32m   1104\u001b[39m     \u001b[38;5;28;01melse\u001b[39;00m:\n\u001b[32m-> \u001b[39m\u001b[32m1105\u001b[39m         \u001b[38;5;28;01mreturn\u001b[39;00m \u001b[38;5;28;43mself\u001b[39;49m\u001b[43m.\u001b[49m\u001b[43m_sslobj\u001b[49m\u001b[43m.\u001b[49m\u001b[43mread\u001b[49m\u001b[43m(\u001b[49m\u001b[38;5;28;43mlen\u001b[39;49m\u001b[43m)\u001b[49m\n\u001b[32m   1106\u001b[39m \u001b[38;5;28;01mexcept\u001b[39;00m SSLError \u001b[38;5;28;01mas\u001b[39;00m x:\n\u001b[32m   1107\u001b[39m     \u001b[38;5;28;01mif\u001b[39;00m x.args[\u001b[32m0\u001b[39m] == SSL_ERROR_EOF \u001b[38;5;129;01mand\u001b[39;00m \u001b[38;5;28mself\u001b[39m.suppress_ragged_eofs:\n",
      "\u001b[31mKeyboardInterrupt\u001b[39m: "
     ]
    }
   ],
   "source": [
    "desktop.left_click(880, 1040) # open the terminal (I know, clean)\n",
    "desktop.wait(100)\n",
    "desktop.left_click(1800, 800) # open the terminal (I know, clean)\n",
    "desktop.write(\"wine Downloads/Counter-Strike-1.6-original.exe\", chunk_size=50, delay_in_ms=25) \n",
    "desktop.wait(2000)\n",
    "desktop.press(\"enter\") # start the exe with wine\n",
    "desktop.wait(6000)\n",
    "desktop.press(\"enter\") # start the installation\n",
    "desktop.wait(2000)\n",
    "desktop.press(\"enter\") # one menu\n",
    "desktop.wait(2000)\n",
    "desktop.press(\"enter\") # second menu\n",
    "desktop.wait(2000)\n",
    "desktop.press(\"enter\") # final install button\n",
    "desktop.wait(55000) # installation process\n",
    "desktop.press(\"enter\") # LAUNCH\n",
    "\n",
    "\n",
    "\n",
    "\n",
    "\n"
   ]
  },
  {
   "cell_type": "code",
   "execution_count": null,
   "id": "5039be0a",
   "metadata": {},
   "outputs": [
    {
     "data": {
      "text/plain": [
       "CommandResult(stderr='', stdout='Desktop\\nDocuments\\nDownloads\\nMusic\\nPictures\\nPublic\\nTemplates\\nVideos\\n', exit_code=0, error='')"
      ]
     },
     "execution_count": 54,
     "metadata": {},
     "output_type": "execute_result"
    }
   ],
   "source": [
    "desktop.left_click(700, 800) # open the terminal (I know, clean)\n"
   ]
  },
  {
   "cell_type": "code",
   "execution_count": null,
   "id": "88dea8a1",
   "metadata": {},
   "outputs": [],
   "source": [
    "desktop.left_click(460, 305) # click on the button to download fonts"
   ]
  },
  {
   "cell_type": "code",
   "execution_count": 106,
   "id": "2b30774f",
   "metadata": {},
   "outputs": [
    {
     "ename": "CommandExitException",
     "evalue": "Command exited with code 186 and error:\nwine: created the configuration directory '/home/user/.wine'\n0048:err:explorer:initialize_display_settings Failed to query current display settings for L\"\\\\\\\\.\\\\DISPLAY1\".\n0048:err:ole:StdMarshalImpl_MarshalInterface Failed to create ifstub, hr 0x80004002\n0048:err:ole:CoMarshalInterface Failed to marshal the interface {6d5140c1-7436-11ce-8034-00aa006009fa}, hr 0x80004002\n0048:err:ole:apartment_get_local_server_stream Failed: 0x80004002\n0040:err:winediag:nodrv_CreateWindow Application tried to create a window, but no driver could be loaded.\n0040:err:winediag:nodrv_CreateWindow Make sure that your X server is running and that $DISPLAY is set correctly.\n0040:err:setupapi:SetupDefaultQueueCallbackW copy error 1812 L\"@wineusb.sys,-1\" -> L\"C:\\\\windows\\\\inf\\\\wineusb.inf\"\n0050:err:winediag:nodrv_CreateWindow Application tried to create a window, but no driver could be loaded.\n0050:err:winediag:nodrv_CreateWindow Make sure that your X server is running and that $DISPLAY is set correctly.\n0050:err:ole:apartment_createwindowifneeded CreateWindow failed with error 0\n0050:err:ole:apartment_createwindowifneeded CreateWindow failed with error 0\n0050:err:ole:apartment_createwindowifneeded CreateWindow failed with error 14007\n0050:err:ole:StdMarshalImpl_MarshalInterface Failed to create ifstub, hr 0x800736b7\n0050:err:ole:CoMarshalInterface Failed to marshal the interface {6d5140c1-7436-11ce-8034-00aa006009fa}, hr 0x800736b7\n0050:err:ole:apartment_get_local_server_stream Failed: 0x800736b7\n0050:err:ole:start_rpcss Failed to open RpcSs service\n002c:err:winediag:nodrv_CreateWindow Application tried to create a window, but no driver could be loaded.\n002c:err:winediag:nodrv_CreateWindow Make sure that your X server is running and that $DISPLAY is set correctly.\nCould not find Wine Gecko. HTML rendering will be disabled.\nwine: configuration in L\"/home/user/.wine\" has been updated.\n0024:err:module:process_init failed to load L\"Z:\\\\home\\\\user\", error c00000ba\n",
     "output_type": "error",
     "traceback": [
      "\u001b[31m---------------------------------------------------------------------------\u001b[39m",
      "\u001b[31mCommandExitException\u001b[39m                      Traceback (most recent call last)",
      "\u001b[36mCell\u001b[39m\u001b[36m \u001b[39m\u001b[32mIn[106]\u001b[39m\u001b[32m, line 1\u001b[39m\n\u001b[32m----> \u001b[39m\u001b[32m1\u001b[39m \u001b[43minstall_csgo\u001b[49m\u001b[43m(\u001b[49m\u001b[43mdesktop\u001b[49m\u001b[43m=\u001b[49m\u001b[43mdesktop\u001b[49m\u001b[43m)\u001b[49m\n",
      "\u001b[36mCell\u001b[39m\u001b[36m \u001b[39m\u001b[32mIn[105]\u001b[39m\u001b[32m, line 8\u001b[39m, in \u001b[36minstall_csgo\u001b[39m\u001b[34m(desktop)\u001b[39m\n\u001b[32m      6\u001b[39m desktop.commands.run(\u001b[33m\"\u001b[39m\u001b[33msudo apt install -y wine32\u001b[39m\u001b[33m\"\u001b[39m)\n\u001b[32m      7\u001b[39m desktop.wait(\u001b[32m100\u001b[39m)\n\u001b[32m----> \u001b[39m\u001b[32m8\u001b[39m \u001b[43mdesktop\u001b[49m\u001b[43m.\u001b[49m\u001b[43mcommands\u001b[49m\u001b[43m.\u001b[49m\u001b[43mrun\u001b[49m\u001b[43m(\u001b[49m\u001b[33;43m\"\u001b[39;49m\u001b[33;43mwine .\u001b[39;49m\u001b[33;43m\"\u001b[39;49m\u001b[43m)\u001b[49m\n\u001b[32m      9\u001b[39m desktop.open(\u001b[33m\"\u001b[39m\u001b[33mhttps://drive.google.com/u/0/uc?id=1TIsvGACSrQOr1tgPaVpJebH375LjLIV6&export=download\u001b[39m\u001b[33m\"\u001b[39m)\n\u001b[32m     10\u001b[39m desktop.wait(ms=\u001b[32m4000\u001b[39m)\n",
      "\u001b[36mFile \u001b[39m\u001b[32mc:\\Users\\richa\\miniconda3\\envs\\e2b\\Lib\\site-packages\\e2b\\sandbox_sync\\commands\\command.py:212\u001b[39m, in \u001b[36mCommands.run\u001b[39m\u001b[34m(self, cmd, background, envs, user, cwd, on_stdout, on_stderr, timeout, request_timeout)\u001b[39m\n\u001b[32m    188\u001b[39m \u001b[38;5;28;01mdef\u001b[39;00m\u001b[38;5;250m \u001b[39m\u001b[34mrun\u001b[39m(\n\u001b[32m    189\u001b[39m     \u001b[38;5;28mself\u001b[39m,\n\u001b[32m    190\u001b[39m     cmd: \u001b[38;5;28mstr\u001b[39m,\n\u001b[32m   (...)\u001b[39m\u001b[32m    198\u001b[39m     request_timeout: Optional[\u001b[38;5;28mfloat\u001b[39m] = \u001b[38;5;28;01mNone\u001b[39;00m,\n\u001b[32m    199\u001b[39m ):\n\u001b[32m    200\u001b[39m     proc = \u001b[38;5;28mself\u001b[39m._start(\n\u001b[32m    201\u001b[39m         cmd,\n\u001b[32m    202\u001b[39m         envs,\n\u001b[32m   (...)\u001b[39m\u001b[32m    206\u001b[39m         request_timeout,\n\u001b[32m    207\u001b[39m     )\n\u001b[32m    209\u001b[39m     \u001b[38;5;28;01mreturn\u001b[39;00m (\n\u001b[32m    210\u001b[39m         proc\n\u001b[32m    211\u001b[39m         \u001b[38;5;28;01mif\u001b[39;00m background\n\u001b[32m--> \u001b[39m\u001b[32m212\u001b[39m         \u001b[38;5;28;01melse\u001b[39;00m \u001b[43mproc\u001b[49m\u001b[43m.\u001b[49m\u001b[43mwait\u001b[49m\u001b[43m(\u001b[49m\n\u001b[32m    213\u001b[39m \u001b[43m            \u001b[49m\u001b[43mon_stdout\u001b[49m\u001b[43m=\u001b[49m\u001b[43mon_stdout\u001b[49m\u001b[43m,\u001b[49m\n\u001b[32m    214\u001b[39m \u001b[43m            \u001b[49m\u001b[43mon_stderr\u001b[49m\u001b[43m=\u001b[49m\u001b[43mon_stderr\u001b[49m\u001b[43m,\u001b[49m\n\u001b[32m    215\u001b[39m \u001b[43m        \u001b[49m\u001b[43m)\u001b[49m\n\u001b[32m    216\u001b[39m     )\n",
      "\u001b[36mFile \u001b[39m\u001b[32mc:\\Users\\richa\\miniconda3\\envs\\e2b\\Lib\\site-packages\\e2b\\sandbox_sync\\commands\\command_handle.py:133\u001b[39m, in \u001b[36mCommandHandle.wait\u001b[39m\u001b[34m(self, on_pty, on_stdout, on_stderr)\u001b[39m\n\u001b[32m    130\u001b[39m     \u001b[38;5;28;01mraise\u001b[39;00m \u001b[38;5;167;01mException\u001b[39;00m(\u001b[33m\"\u001b[39m\u001b[33mCommand ended without an end event\u001b[39m\u001b[33m\"\u001b[39m)\n\u001b[32m    132\u001b[39m \u001b[38;5;28;01mif\u001b[39;00m \u001b[38;5;28mself\u001b[39m._result.exit_code != \u001b[32m0\u001b[39m:\n\u001b[32m--> \u001b[39m\u001b[32m133\u001b[39m     \u001b[38;5;28;01mraise\u001b[39;00m CommandExitException(\n\u001b[32m    134\u001b[39m         stdout=\u001b[38;5;28mself\u001b[39m._stdout,\n\u001b[32m    135\u001b[39m         stderr=\u001b[38;5;28mself\u001b[39m._stderr,\n\u001b[32m    136\u001b[39m         exit_code=\u001b[38;5;28mself\u001b[39m._result.exit_code,\n\u001b[32m    137\u001b[39m         error=\u001b[38;5;28mself\u001b[39m._result.error,\n\u001b[32m    138\u001b[39m     )\n\u001b[32m    140\u001b[39m \u001b[38;5;28;01mreturn\u001b[39;00m \u001b[38;5;28mself\u001b[39m._result\n",
      "\u001b[31mCommandExitException\u001b[39m: Command exited with code 186 and error:\nwine: created the configuration directory '/home/user/.wine'\n0048:err:explorer:initialize_display_settings Failed to query current display settings for L\"\\\\\\\\.\\\\DISPLAY1\".\n0048:err:ole:StdMarshalImpl_MarshalInterface Failed to create ifstub, hr 0x80004002\n0048:err:ole:CoMarshalInterface Failed to marshal the interface {6d5140c1-7436-11ce-8034-00aa006009fa}, hr 0x80004002\n0048:err:ole:apartment_get_local_server_stream Failed: 0x80004002\n0040:err:winediag:nodrv_CreateWindow Application tried to create a window, but no driver could be loaded.\n0040:err:winediag:nodrv_CreateWindow Make sure that your X server is running and that $DISPLAY is set correctly.\n0040:err:setupapi:SetupDefaultQueueCallbackW copy error 1812 L\"@wineusb.sys,-1\" -> L\"C:\\\\windows\\\\inf\\\\wineusb.inf\"\n0050:err:winediag:nodrv_CreateWindow Application tried to create a window, but no driver could be loaded.\n0050:err:winediag:nodrv_CreateWindow Make sure that your X server is running and that $DISPLAY is set correctly.\n0050:err:ole:apartment_createwindowifneeded CreateWindow failed with error 0\n0050:err:ole:apartment_createwindowifneeded CreateWindow failed with error 0\n0050:err:ole:apartment_createwindowifneeded CreateWindow failed with error 14007\n0050:err:ole:StdMarshalImpl_MarshalInterface Failed to create ifstub, hr 0x800736b7\n0050:err:ole:CoMarshalInterface Failed to marshal the interface {6d5140c1-7436-11ce-8034-00aa006009fa}, hr 0x800736b7\n0050:err:ole:apartment_get_local_server_stream Failed: 0x800736b7\n0050:err:ole:start_rpcss Failed to open RpcSs service\n002c:err:winediag:nodrv_CreateWindow Application tried to create a window, but no driver could be loaded.\n002c:err:winediag:nodrv_CreateWindow Make sure that your X server is running and that $DISPLAY is set correctly.\nCould not find Wine Gecko. HTML rendering will be disabled.\nwine: configuration in L\"/home/user/.wine\" has been updated.\n0024:err:module:process_init failed to load L\"Z:\\\\home\\\\user\", error c00000ba\n"
     ]
    }
   ],
   "source": [
    "install_csgo(desktop=desktop)"
   ]
  },
  {
   "cell_type": "code",
   "execution_count": 103,
   "id": "f38878f7",
   "metadata": {},
   "outputs": [],
   "source": [
    "desktop.kill()"
   ]
  }
 ],
 "metadata": {
  "kernelspec": {
   "display_name": "e2b",
   "language": "python",
   "name": "python3"
  },
  "language_info": {
   "codemirror_mode": {
    "name": "ipython",
    "version": 3
   },
   "file_extension": ".py",
   "mimetype": "text/x-python",
   "name": "python",
   "nbconvert_exporter": "python",
   "pygments_lexer": "ipython3",
   "version": "3.12.9"
  }
 },
 "nbformat": 4,
 "nbformat_minor": 5
}

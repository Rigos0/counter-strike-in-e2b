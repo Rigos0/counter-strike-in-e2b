{
 "cells": [
  {
   "cell_type": "code",
   "execution_count": null,
   "id": "5d8c189e",
   "metadata": {},
   "outputs": [
    {
     "name": "stdout",
     "output_type": "stream",
     "text": [
      "Fast language models enable efficient and real-time communication processing.\n"
     ]
    }
   ],
   "source": [
    "import os\n",
    "\n",
    "from groq import Groq\n",
    "\n",
    "client = Groq(\n",
    "    # This is the default and can be omitted\n",
    "    api_key=os.environ.get(\"GROQ_API_KEY\"),\n",
    ")\n"
   ]
  },
  {
   "cell_type": "code",
   "execution_count": 16,
   "id": "48ba567d",
   "metadata": {},
   "outputs": [
    {
     "name": "stdout",
     "output_type": "stream",
     "text": [
      "ChatCompletionMessage(content=\"The image presents a detailed, close-up view of a computer chip's surface, showcasing its intricate design and layout.\\n\\n*   The chip's surface is divided into several sections, each with its own unique characteristics.\\n    *   **Grid-like pattern**: A large grid-like pattern dominates the center of the chip, comprising numerous small squares arranged in rows and columns. This pattern is likely used for routing signals or storing data.\\n    *   **Rectangular sections**: Two long, rectangular sections flank the grid-like pattern on either side. These sections appear to be made up of smaller, square-shaped components that are densely packed together.\\n    *   **Border**: A decorative border surrounds the entire chip, featuring a repeating pattern of shapes and lines. This border may serve as a visual indicator of the chip's edges or provide additional functionality.\\n    *   **Bottom section**: The bottom section of the chip features a collection of smaller, irregularly shaped components. These components may be used for specific functions, such as input/output operations or power management.\\n\\nOverall, the image provides a fascinating glimpse into the complex architecture of a computer chip, highlighting the intricate details and precision engineering that go into creating these tiny but powerful devices.\", role='assistant', executed_tools=None, function_call=None, reasoning=None, tool_calls=None)\n"
     ]
    }
   ],
   "source": [
    "from groq import Groq\n",
    "import os\n",
    "\n",
    "client = Groq(api_key=os.environ.get(\"GROQ_API_KEY\"))\n",
    "completion = client.chat.completions.create(\n",
    "    model=\"meta-llama/llama-4-scout-17b-16e-instruct\",\n",
    "    messages=[\n",
    "        {\n",
    "            \"role\": \"user\",\n",
    "            \"content\": [\n",
    "                {\n",
    "                    \"type\": \"text\",\n",
    "                    \"text\": \"What's in this image?\"\n",
    "                },\n",
    "                {\n",
    "                    \"type\": \"image_url\",\n",
    "                    \"image_url\": {\n",
    "                        \"url\": \"https://upload.wikimedia.org/wikipedia/commons/f/f2/LPU-v1-die.jpg\"\n",
    "                    }\n",
    "                }\n",
    "            ]\n",
    "        }\n",
    "    ],\n",
    "    temperature=1,\n",
    "    max_completion_tokens=1024,\n",
    "    top_p=1,\n",
    "    stream=False,\n",
    "    stop=None,\n",
    ")\n",
    "\n",
    "print(completion.choices[0].message)"
   ]
  },
  {
   "cell_type": "code",
   "execution_count": 20,
   "id": "c31e925d",
   "metadata": {},
   "outputs": [
    {
     "name": "stdout",
     "output_type": "stream",
     "text": [
      "The image appears to depict a computer screen displaying a coding environment or integrated development environment (IDE). The presence of code and what seems to be a terminal or console window at the bottom suggests a workspace for software development. However, without a clearer view, it's difficult to determine the specific programming language, software, or project being worked on.\n"
     ]
    }
   ],
   "source": [
    "from openai import OpenAI\n",
    "client = OpenAI(\n",
    "    base_url=\"https://api.groq.com/openai/v1\",\n",
    "    api_key=os.environ.get(\"GROQ_API_KEY\")\n",
    ")\n",
    "\n",
    "completion = client.chat.completions.create(\n",
    "    model=\"meta-llama/llama-4-scout-17b-16e-instruct\",\n",
    "    messages=[\n",
    "        {\n",
    "            \"role\": \"user\",\n",
    "            \"content\": [\n",
    "                {\n",
    "                    \"type\": \"text\",\n",
    "                    \"text\": \"What's in this image?\"\n",
    "                },\n",
    "                {\n",
    "                    \"type\": \"image_url\",\n",
    "                    \"image_url\": {\n",
    "                        \"url\": f\"data:image/jpeg;base64,{screenshot_base64}\"\n",
    "                    }\n",
    "                }\n",
    "            ]\n",
    "        },\n",
    "    ]\n",
    ")\n",
    "print(completion.choices[0].message.content)"
   ]
  },
  {
   "cell_type": "code",
   "execution_count": null,
   "id": "fa3fe01a",
   "metadata": {},
   "outputs": [],
   "source": []
  },
  {
   "cell_type": "code",
   "execution_count": null,
   "id": "454f1076",
   "metadata": {},
   "outputs": [],
   "source": []
  },
  {
   "cell_type": "code",
   "execution_count": null,
   "id": "7f432f63",
   "metadata": {},
   "outputs": [],
   "source": []
  },
  {
   "cell_type": "code",
   "execution_count": null,
   "id": "6aa27348",
   "metadata": {},
   "outputs": [],
   "source": []
  },
  {
   "cell_type": "code",
   "execution_count": 23,
   "id": "ef75e56f",
   "metadata": {},
   "outputs": [],
   "source": [
    "import os\n",
    "import openai\n",
    "\n",
    "client = openai.OpenAI(\n",
    "    base_url=\"https://api.cerebras.ai/v1\",\n",
    "    api_key=os.environ.get(\"CEREBRAS_API_KEY\")\n",
    ")"
   ]
  },
  {
   "cell_type": "code",
   "execution_count": 26,
   "id": "95267158",
   "metadata": {},
   "outputs": [
    {
     "name": "stdout",
     "output_type": "stream",
     "text": [
      "The text you've provided appears to be a base64-encoded image in JPEG format. \n",
      "\n",
      "To decode it and view the image, you would typically use a base64 decoder or a programming language that supports base64 decoding. Here's a simple example using Python:\n",
      "\n",
      "```python\n",
      "import base64\n",
      "from io import BytesIO\n",
      "from PIL import Image\n",
      "\n",
      "# Your base64 encoded string here, truncated for brevity\n",
      "encoded_string = \"data:image/jpeg;base64,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\"\"\"\n",
      "\n",
      "\n",
      "# Decode the string\n",
      "image_data = base64.b64decode(encoded_string.split(',')[1])\n",
      "image = Image.open(BytesIO(image_data))\n",
      "\n",
      "# Display or save the image\n",
      "image.show()\n",
      "```\n",
      "\n",
      "This script first decodes the base64 string, then opens the decoded bytes as an image using Pillow, and finally displays the image.\n",
      "\n",
      "However, without directly executing or providing output, based on the information given:\n",
      "\n",
      "The answer to \"What's in this image?\" would typically involve visually inspecting the image after decoding. Since I can't directly display images or execute code in this format, my ability to provide a specific description of the image content is limited. \n",
      "\n",
      "If you decode and view the image, you can see what's in it. The process involves decoding the base64 string and viewing it as a JPEG image. The content of the image would depend on what the original image is—a photograph, a graphic, text, or something else entirely.\n"
     ]
    }
   ],
   "source": [
    "chat_completion = client.chat.completions.create(\n",
    "    messages=[\n",
    "        {\n",
    "            \"role\": \"user\",\n",
    "            \"content\": [\n",
    "                {\n",
    "                    \"type\": \"text\",\n",
    "                    \"text\": f\"What's in this image? data:image/jpeg;base64,{screenshot_base64}\"\n",
    "                },\n",
    "                # {\n",
    "                #     \"type\": \"image_url\",\n",
    "                #     \"image_url\": {\n",
    "                #         \"url\": f\"data:image/jpeg;base64,{screenshot_base64}\"\n",
    "                #     }\n",
    "                # }\n",
    "            ]\n",
    "        }\n",
    "    ],\n",
    "    model=\"llama-4-scout-17b-16e-instruct\",\n",
    ")\n",
    "\n",
    "print(chat_completion.choices[0].message.content)"
   ]
  },
  {
   "cell_type": "code",
   "execution_count": 19,
   "id": "84bf767e",
   "metadata": {},
   "outputs": [
    {
     "name": "stdout",
     "output_type": "stream",
     "text": [
      "Screenshot taken, compressed, and Base64 encoded successfully.\n",
      "Length of Base64 string: 4932 characters\n",
      "Base64 string (first 100 chars): /9j/4AAQSkZJRgABAQAAAQABAAD/2wBDABsSFBcUERsXFhceHBsgKEIrKCUlKFE6PTBCYFVlZF9VXVtqeJmBanGQc1tdhbWGkJ6j...\n",
      "/9j/4AAQSkZJRgABAQAAAQABAAD/2wBDABsSFBcUERsXFhceHBsgKEIrKCUlKFE6PTBCYFVlZF9VXVtqeJmBanGQc1tdhbWGkJ6jq62rZ4C8ybqmx5moq6T/2wBDARweHigjKE4rK06kbl1upKSkpKSkpKSkpKSkpKSkpKSkpKSkpKSkpKSkpKSkpKSkpKSkpKSkpKSkpKSkpKSkpKT/wAARCAC0AUADASIAAhEBAxEB/8QAHwAAAQUBAQEBAQEAAAAAAAAAAAECAwQFBgcICQoL/8QAtRAAAgEDAwIEAwUFBAQAAAF9AQIDAAQRBRIhMUEGE1FhByJxFDKBkaEII0KxwRVS0fAkM2JyggkKFhcYGRolJicoKSo0NTY3ODk6Q0RFRkdISUpTVFVWV1hZWmNkZWZnaGlqc3R1dnd4eXqDhIWGh4iJipKTlJWWl5iZmqKjpKWmp6ipqrKztLW2t7i5usLDxMXGx8jJytLT1NXW19jZ2uHi4+Tl5ufo6erx8vP09fb3+Pn6/8QAHwEAAwEBAQEBAQEBAQAAAAAAAAECAwQFBgcICQoL/8QAtREAAgECBAQDBAcFBAQAAQJ3AAECAxEEBSExBhJBUQdhcRMiMoEIFEKRobHBCSMzUvAVYnLRChYkNOEl8RcYGRomJygpKjU2Nzg5OkNERUZHSElKU1RVVldYWVpjZGVmZ2hpanN0dXZ3eHl6goOEhYaHiImKkpOUlZaXmJmaoqOkpaanqKmqsrO0tba3uLm6wsPExcbHyMnK0tPU1dbX2Nna4uPk5ebn6Onq8vP09fb3+Pn6/9oADAMBAAIRAxEAPwDNPHBXoeTS7l3Z2cemae0oKMoBwc859801eFOJAPb1piGhlGcpn056UFlJGEx6jPWlYlvvNmm496LAKWXcDs49M0Arg5XPpz0pMUNwufSgBwZQACmT65xQGTcTsyPTNHmuTw6dBzmmvI2ACykHjg0hgeScDikpVYgNhkHBByetKsrNgblGfWgBtFPLtjG+PH1pokYlnLLk9cnrmgABGeRmjIp3nOoOHXjsDQJXzw6dO9ACbhRkelBkYkqXXGPXikVivIdBkY60ALuFG4UokfbgPHj6im+YzjlhwfWgB4BIzigDB5XNIJ2RQBtP0NPMpBwHjOQDnNAhCMgYTB9c0m0+lKZ2AByhz2BpfOcPkMmVwQd2KAGE4OMUm4UvmMWY74/m4OWpPNcMF3rz3B4oGG4UZHpRvZl5dOfU0xZSucY5GDQBIjKGyybhjpTT9KZ5h9KTf7UAPoo+0Px04GKQzMc+/WgBaKZ5ntR5ntQA+imeZ7UeZ7UAPqTemG/djkADnpUHme1Hme1AE+5MjCHpzk9TTPwpm/2qQFo3JDICPegBO33eT0NHbGOaUswA+dDg5601mOCSyn2BoAXPy4p8TbWB3bffbmkDDyypXJ7HPSo96+tOwrkhAABByT2xTSc08SABSGcfL2HvR5wzne+PXbRZhdDKD0FOaU9Azke4phfOFJPHQGhXBtEeQTwuKWkXrS0hijIPHWnbnJ68img4OcA/Wnbu2xfyoAQhjjP86XLnv04oDf7C/lSBsfwD8qYB8x79aXLgdfakB5PyD6Yo3/7C/lSAXL+tMPJp+/n7iflQH/2EP4UAMop2/wD2V/Kjf/sr+VADaKcWz/Co+gpM+woASiiigAooooAKKKKACiiigAooooAKKKKACiiigAoGM9M0UUAKcYPy9+OelGV3E7ePTNJRQAq4B+Zd3GOvemnpS0HpQBLu+XAH1pmxfSn7vk24p0QywBUN7FsUxAEGE+V/u9jSiMEY2ScdeaAPlyUzx/fpdnB+Qf8AfdK47DWjP8Kv+JpjIFK5UhuvJpSCpwev1pD0FNCaIl60tIvWlpDHBW6j+dA3nHP60i9f/rZp3bt/3zQAEyd2Jz70FpBzuP50nGe35UcZ6j8qADe3940hJY5JyaXI9vyoyMdvyoAbRS4HrRgev6UAJRS4H979KMD1/SgBKKXA9aMD+9+lACUUuB6/pRgc80AJRRRQAUUUUAFFFFABRRRQAUUUUAFFFFABRRRQAUUUUAFB6UUHpQBLn5cY96EXccblX602imIfuHHyocDFBYf880/ClY/KnK/d9Kbn3H5Uhi7x/wA81/Wmk5AGAMfrS/iPypD1prcT2Il604KT0x+Jpq9adx3NIY7Y3qP++hRtc45/NqNi/wB4/wDfNGxc/eP/AHzQAhDE4Jz+NBRh6fnQVGOCSf8AdpMH0oAcY2Hp/wB9Ck2H2/Om49qXB9KAHeW3+z/30KTy29vzpMH0owfSgBWUr1x+BptLg+howfSgBKKXB9KTFABRRRQAUUUUAFFFFABRRRQAUUUUAFFFFABRRRQAUUUUAFFFFABQelFB6UAPpyAM4Bzj2GabT4f9Yv3v+A9aYgJYgdeBgcU3JqUFtgwZRx+FRMST8xJPvSGJS+lJTichRk8etNbiexCvWlpF60tIY7cPQ/nRuGeh/OlBHr+lJkZ6/pQAbvr+dG4eh/Ogkev6UZHr+lAAGx6/nQGHv+dG73/SjI9f0oAAy/3T/wB9UpZSOh/76pOC3Jx+FGE/vH8qAF3r/dP/AH1SZ+v50YTP3jj6UEJ2Yn8KBBu+v50hOf60EL2JP4UcYoGJRRRQAUUUUAFFFFABRRRQAUUUUAFFFFABRRRQAUUUUAFFFFABQelFB6UAPpQSDkHBpKKYhcn1P50UlFABRRRQgexGvWnAZ7imr1p2CegpDEPFFOBbsP0oy3p+lADaKd83TH6UfN6fpQA2inZb0/Sj5vT9KAG0U75s9OfpR8/p+lADaKU5x04FG0+hoASilII6ikoAKKKKACiiigAooooAKKKKACiiigAooooAKKKKACiiigAooooAKD0ooPSgB9FFFMQUUUUAFFFFCB7DYzsdWKhh6HoaeqHONmT169qiHUVJsGcYfn3FIYb1/ufrS70/55/qaaVHBw+36il8vJ4V8fUUAKHX+5n8aaxycgY9s0KoIJw+PYigpgZw/T1FACZPrSUZT/boyn+1QAZPrS5PrTM0ZNADqM03JoyaAHUU3JoyaAHUU3JoyaAHUU3JoyaAHUU3JoyaAHUU3JoyaAHUU3JoyaAHUU3JoyaAHUU3JoyaAHUU3JoyaAHUU3JoyaAJfJkxnbxTXRkHzDFMzRQBLRRRTEFFFFABRRSN900ARjrTzkLnalMopDHbx/cT8qN/+wv5U2igB+8cfIn5Um//AGF/Km0UAP8AM/2E/Kk38fcX8qbRQA/zOc+Wn5Um8cfIvHtTaKAHb+vyJz7UvmDj92nHtTKKAHb/APYX8qXzBn7iflTKKAHb+vyJz7Ubx/cX8qbRQA7f/sL+VG//AGF/Km0UAO3/AOwv5Ub/APYX8qbRQA7f/sL+VG//AGF/Km0UAO3j+4tG/r8i8+1NooAeXz/Av4Ck38n5E/Km0UAO3jH3Fo39PkT8qbRQA7eP7i/lRvH9xfyptFADt/X5F/KjeOPkT8qbRQA7f1+RPypQQzAbVA9qZTo/vigB9FFFMQUUUUAFI33TS0jfdNAEdFFFIYUUUUAFFFFABRRRQAUUUUAFFFFABRRRQAUUUUAFFFFABRRRQAUUUUAFFFFABRRRQAUUUUAFFFFABRRRQAUqnawPpSUUAS1MiAj7gP8AwLFQ0CYAf6tT9aYiWRcEfKFyP72aZj2pPPH/ADySm+Z7U7gPx7UhAx0pvnDj5BQ8u5MbQMDGfWlcBRGhH3gKXy0wTu5HQetMUIUGQufckUME2cbM47E0AOEaY64oCKTycUgWPPRP++jSKE2jIXP1NIY7y0/vCjYuev400hNy8L78ml2p/sfmaAFKKOhzTvJT/noPyNR7Ux/B+Z5pNq8fd/M0APCLnk4oKKOhzTPk/ur+Zp2E9EP/AAI0AGxaNi0BU9E/76NG1D/cH4mgA2LRsWjCeifmaNqf7P5mgA2LRsWjEeD8q+3zGgKncxnv940AGxaNi0gCYGQo98mjapGfkHtk0ALsWjYtIAgHIU/iaTCdcL+Z/wA//qoAdsWjYtJtTH8H5mlATphPruPNABsWjYtJhACcKeeBk80bU4Hy/XJ5oAXYtGxaZuXP+rH5mmUATbFo2LUNFAFhY0IJLYNHlp/fH61XooAnMaevalWNDjLYycH2qvRQBNsXPWjYuKhooAtfLs/2qr1Y+Ty/9qoHO5shQB6CgBKKKKACg9KKOtAEqNiMDdj/AIHj9KVySmN3bp5maRQyrjnj3FGeMZPOD2oAcH6ncf8Av5TVPAG7p/t4pcsAM5z7FaPmzxnH1XrQAhb7rbumeN/NKW3cbifrJQwLENyD25Wj5iOrfmvSgBN3H3jx6yUnB78H/bp3JyBnb6ZFRSkkgkk8UAPznndg57vSNJg4JYn1DcVFRQBKJv8Af/76o8703/8AfVRUUAS+cP8Ab/76o87/AH8/71RUUAS+b/vf99Uon4wS/PX5qhooAk80AkLv24xjdTvO9d+PTdUNFAEhkH+1/wB9UeZ/vf8AfVR0UASib1L9f71Hm4PG4e26oqKAJfNHAIcgdBupPM4/izk96jooAViCflGB6ZpKKKACiiigAooooAKKKKACiilHfjtQBaeY7R8q8H0qHzjjG1friiitq3xGNH4RRKQQdq8e1J5pxjav5UUVibCbz6CjefQUUUAG8+go3n0FFFABvPoKN59BRRQAbz6CjefQUUUAG8+go3n2oooAN59BRvPoKKKADefQUbz6CiigA3n0FG8+goooAN59BRvPoKKKADefQUbz6CiigA3n0FG8+goooAN59BRvPoKKKADefQUbz6CiigA3n0FG8+goooAN59BSiQj+FT9aKKAAyk/wqPoKUyknO1Rj0FFFAB5p2ldq898c0ecf7q/lRRQACU7gdq8e1J5hxjAoooA//9k=\n"
     ]
    }
   ],
   "source": [
    "from PIL import Image, ImageGrab\n",
    "import io\n",
    "import base64\n",
    "\n",
    "def create_compressed_screenshot_base64():\n",
    "    \"\"\"\n",
    "    Takes a screenshot, compresses it significantly, saves it to an in-memory buffer,\n",
    "    and returns it as a Base64 encoded string.\n",
    "\n",
    "    Returns:\n",
    "        str: A Base64 encoded string representing the compressed screenshot.\n",
    "             Returns None if a screenshot cannot be taken or an error occurs.\n",
    "    \"\"\"\n",
    "    try:\n",
    "        # 1. Take a screenshot\n",
    "        screenshot = ImageGrab.grab()\n",
    "\n",
    "        if screenshot is None:\n",
    "            print(\"Failed to grab screenshot. Ensure you have a display server running.\")\n",
    "            return None\n",
    "\n",
    "        # 2. Compress it to a really small image\n",
    "        original_width, original_height = screenshot.size\n",
    "        target_width = 320  # Define a small target width\n",
    "        aspect_ratio = original_height / original_width\n",
    "        target_height = int(target_width * aspect_ratio)\n",
    "        \n",
    "        resized_image = screenshot.resize((target_width, target_height), Image.Resampling.LANCZOS)\n",
    "\n",
    "        # 3. Save it to an in-memory bytes buffer as JPEG\n",
    "        img_byte_arr_io = io.BytesIO()\n",
    "        resized_image.save(img_byte_arr_io, format='JPEG', quality=30) # Adjust quality as needed\n",
    "        \n",
    "        # Get the bytes from the buffer\n",
    "        image_bytes = img_byte_arr_io.getvalue()\n",
    "\n",
    "        # 4. Encode the bytes to Base64 string\n",
    "        base64_encoded_string = base64.b64encode(image_bytes).decode('utf-8')\n",
    "        \n",
    "        return base64_encoded_string\n",
    "\n",
    "    except Exception as e:\n",
    "        print(f\"An error occurred: {e}\")\n",
    "        print(\"This might be due to running in an environment without a display/screen.\")\n",
    "        return None\n",
    "\n",
    "screenshot_base64 = create_compressed_screenshot_base64()\n",
    "\n",
    "if screenshot_base64:\n",
    "    print(f\"Screenshot taken, compressed, and Base64 encoded successfully.\")\n",
    "    print(f\"Length of Base64 string: {len(screenshot_base64)} characters\")\n",
    "    \n",
    "    # Print a snippet of the Base64 string\n",
    "    print(f\"Base64 string (first 100 chars): {screenshot_base64[:100]}...\") \n",
    "\n",
    "\n",
    "else:\n",
    "    print(\"Could not create Base64 encoded screenshot.\")\n",
    "\n",
    "# To print the full base64 string if needed, uncomment the line below\n",
    "print(screenshot_base64)"
   ]
  }
 ],
 "metadata": {
  "kernelspec": {
   "display_name": "e2b",
   "language": "python",
   "name": "python3"
  },
  "language_info": {
   "codemirror_mode": {
    "name": "ipython",
    "version": 3
   },
   "file_extension": ".py",
   "mimetype": "text/x-python",
   "name": "python",
   "nbconvert_exporter": "python",
   "pygments_lexer": "ipython3",
   "version": "3.12.9"
  }
 },
 "nbformat": 4,
 "nbformat_minor": 5
}
